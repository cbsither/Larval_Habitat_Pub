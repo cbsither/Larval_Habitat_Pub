{
 "cells": [
  {
   "cell_type": "code",
   "execution_count": 1,
   "metadata": {
    "collapsed": true,
    "ExecuteTime": {
     "end_time": "2024-07-12T13:44:41.156143500Z",
     "start_time": "2024-07-12T13:44:40.620498300Z"
    }
   },
   "outputs": [],
   "source": [
    "import pandas as pd\n",
    "import numpy as np"
   ]
  },
  {
   "cell_type": "code",
   "execution_count": 2,
   "outputs": [],
   "source": [
    "# specify the input file name and output file name\n",
    "habitat_matrix = f'../data/raw_data/larval_habitat.csv'\n",
    "species_file = f'../data/raw_data/species_data.csv'\n",
    "habitat_classification_key = f'../data/raw_data/habitat_classification_key.csv'\n",
    "\n",
    "# reads in the input file as a .csv\n",
    "habitat_df = pd.read_csv(habitat_matrix)\n",
    "species_df = pd.read_csv(species_file)"
   ],
   "metadata": {
    "collapsed": false,
    "ExecuteTime": {
     "end_time": "2024-07-12T13:44:41.206197200Z",
     "start_time": "2024-07-12T13:44:41.156143500Z"
    }
   }
  },
  {
   "cell_type": "code",
   "execution_count": 3,
   "outputs": [],
   "source": [
    "# removes any hidden carriage returns and spaces\n",
    "def CarriageRemover( pandas_datafram ):\n",
    "    pandas_datafram = pandas_datafram.replace({r'\\r\\n': ''}, regex=True)\n",
    "    pandas_datafram = pandas_datafram.replace({r'\\s': ''}, regex=True)\n",
    "    pandas_datafram = pandas_datafram.replace({r'\\n': ''}, regex=True)\n",
    "    return pandas_datafram"
   ],
   "metadata": {
    "collapsed": false,
    "ExecuteTime": {
     "end_time": "2024-07-12T13:44:41.238230900Z",
     "start_time": "2024-07-12T13:44:41.206197200Z"
    }
   }
  },
  {
   "cell_type": "code",
   "execution_count": 4,
   "outputs": [],
   "source": [
    "habitat_df = CarriageRemover(habitat_df)\n",
    "species_df = CarriageRemover(species_df)"
   ],
   "metadata": {
    "collapsed": false,
    "ExecuteTime": {
     "end_time": "2024-07-12T13:44:41.504869300Z",
     "start_time": "2024-07-12T13:44:41.238230900Z"
    }
   }
  },
  {
   "cell_type": "code",
   "execution_count": 5,
   "outputs": [],
   "source": [
    "# merge both datasets\n",
    "habitat_species_df = pd.merge(species_df, habitat_df, left_on=['Record_ID'], right_on=['Record_ID'])"
   ],
   "metadata": {
    "collapsed": false,
    "ExecuteTime": {
     "end_time": "2024-07-12T13:44:41.552178700Z",
     "start_time": "2024-07-12T13:44:41.504869300Z"
    }
   }
  },
  {
   "cell_type": "code",
   "execution_count": 6,
   "outputs": [],
   "source": [
    "# remove columns without genus and species level data\n",
    "sp_col = ['Pub_ID', 'Subfamily', 'Tribe', 'Subspecies', '\"Form\"', 'Record_ID', 'Notes_x', 'Notes_y']\n",
    "habitat_species_df = habitat_species_df.drop(columns=sp_col)"
   ],
   "metadata": {
    "collapsed": false,
    "ExecuteTime": {
     "end_time": "2024-07-12T13:44:41.552178700Z",
     "start_time": "2024-07-12T13:44:41.542224300Z"
    }
   }
  },
  {
   "cell_type": "code",
   "execution_count": 7,
   "outputs": [
    {
     "name": "stdout",
     "output_type": "stream",
     "text": [
      "          Genus            Subgenus      Species Presence-Absence  \\\n",
      "0     Anopheles              Cellia      farauti         Presence   \n",
      "1     Anopheles              Cellia  punctulatus         Presence   \n",
      "2     Anopheles              Cellia    koliensis         Presence   \n",
      "3     Anopheles              Cellia       lungae         Presence   \n",
      "4     Anopheles              Cellia     nataliae         Presence   \n",
      "...         ...                 ...          ...              ...   \n",
      "3541      Culex  SubgenusUncertain2      romeroi         Presence   \n",
      "3542   Mansonia            Mansonia     flaveola         Presence   \n",
      "3543      Aedes        Ochlerotatus     tortilis         Presence   \n",
      "3544      Aedes           Stegomyia      aegypti         Presence   \n",
      "3545      Culex               Culex   bahamensis         Presence   \n",
      "\n",
      "     Shaded (Shaded/Semishaded/Unshaded) Saltwater (Yes/No)  \\\n",
      "0                                    NaN                NaN   \n",
      "1                                    NaN                NaN   \n",
      "2                                    NaN                NaN   \n",
      "3                                    NaN                NaN   \n",
      "4                                    NaN                NaN   \n",
      "...                                  ...                ...   \n",
      "3541                                 NaN                NaN   \n",
      "3542                                 NaN                NaN   \n",
      "3543                                 NaN                NaN   \n",
      "3544                                 NaN                NaN   \n",
      "3545                                 NaN                NaN   \n",
      "\n",
      "                          Habitat_1              Habitat_2      Habitat_3  \\\n",
      "0                      rivermargins          streammargins        springs   \n",
      "1               valleyoflargestream                 rivers       roadruts   \n",
      "2                    temporarypools             Grasslands   edgeofjungle   \n",
      "3                denseshadeinjungle           seepageareas  streammargins   \n",
      "4                           springs           seepageareas    smallcreeks   \n",
      "...                             ...                    ...            ...   \n",
      "3541     semi-permanentgroundwaters  permanentgroundwaters            NaN   \n",
      "3542  pistiainpermanentgroundwaters                    NaN            NaN   \n",
      "3543             temporaryrainpools                    NaN            NaN   \n",
      "3544           artificialcontainers                    NaN            NaN   \n",
      "3545              pondsnearseashore                    NaN            NaN   \n",
      "\n",
      "                                    Habitat_4  ... Habitat_41 Habitat_42  \\\n",
      "0                                seepageareas  ...        NaN        NaN   \n",
      "1                              temporarypools  ...        NaN        NaN   \n",
      "2                                       tents  ...        NaN        NaN   \n",
      "3                                   rockholes  ...        NaN        NaN   \n",
      "4     denselyshadedcoralfoothillsofnorthcoast  ...        NaN        NaN   \n",
      "...                                       ...  ...        ...        ...   \n",
      "3541                                      NaN  ...        NaN        NaN   \n",
      "3542                                      NaN  ...        NaN        NaN   \n",
      "3543                                      NaN  ...        NaN        NaN   \n",
      "3544                                      NaN  ...        NaN        NaN   \n",
      "3545                                      NaN  ...        NaN        NaN   \n",
      "\n",
      "     Habitat_43 Habitat_44 Habitat_45 Habitat_46 Habitat_47 Habitat_48  \\\n",
      "0           NaN        NaN        NaN        NaN        NaN        NaN   \n",
      "1           NaN        NaN        NaN        NaN        NaN        NaN   \n",
      "2           NaN        NaN        NaN        NaN        NaN        NaN   \n",
      "3           NaN        NaN        NaN        NaN        NaN        NaN   \n",
      "4           NaN        NaN        NaN        NaN        NaN        NaN   \n",
      "...         ...        ...        ...        ...        ...        ...   \n",
      "3541        NaN        NaN        NaN        NaN        NaN        NaN   \n",
      "3542        NaN        NaN        NaN        NaN        NaN        NaN   \n",
      "3543        NaN        NaN        NaN        NaN        NaN        NaN   \n",
      "3544        NaN        NaN        NaN        NaN        NaN        NaN   \n",
      "3545        NaN        NaN        NaN        NaN        NaN        NaN   \n",
      "\n",
      "     Habitat_49 Habitat_50  \n",
      "0           NaN        NaN  \n",
      "1           NaN        NaN  \n",
      "2           NaN        NaN  \n",
      "3           NaN        NaN  \n",
      "4           NaN        NaN  \n",
      "...         ...        ...  \n",
      "3541        NaN        NaN  \n",
      "3542        NaN        NaN  \n",
      "3543        NaN        NaN  \n",
      "3544        NaN        NaN  \n",
      "3545        NaN        NaN  \n",
      "\n",
      "[3546 rows x 56 columns] Index(['Genus', 'Subgenus', 'Species', 'Presence-Absence',\n",
      "       'Shaded (Shaded/Semishaded/Unshaded)', 'Saltwater (Yes/No)',\n",
      "       'Habitat_1', 'Habitat_2', 'Habitat_3', 'Habitat_4', 'Habitat_5',\n",
      "       'Habitat_6', 'Habitat_7', 'Habitat_8', 'Habitat_9', 'Habitat_10',\n",
      "       'Habitat_11', 'Habitat_12', 'Habitat_13', 'Habitat_14', 'Habitat_15',\n",
      "       'Habitat_16', 'Habitat_17', 'Habitat_18', 'Habitat_19', 'Habitat_20',\n",
      "       'Habitat_21', 'Habitat_22', 'Habitat_23', 'Habitat_24', 'Habitat_25',\n",
      "       'Habitat_26', 'Habitat_27', 'Habitat_28', 'Habitat_29', 'Habitat_30',\n",
      "       'Habitat_31', 'Habitat_32', 'Habitat_33', 'Habitat_34', 'Habitat_35',\n",
      "       'Habitat_36', 'Habitat_37', 'Habitat_38', 'Habitat_39', 'Habitat_40',\n",
      "       'Habitat_41', 'Habitat_42', 'Habitat_43', 'Habitat_44', 'Habitat_45',\n",
      "       'Habitat_46', 'Habitat_47', 'Habitat_48', 'Habitat_49', 'Habitat_50'],\n",
      "      dtype='object')\n"
     ]
    }
   ],
   "source": [
    "# changes the NaN designation in the 'Subgenus' column to 'None'\n",
    "#subgenus_column = habitat_species_df['Subgenus'].where(pd.notnull(habitat_species_df['Subgenus']), 'None')\n",
    "habitat_species_df['Subgenus'] = habitat_species_df['Subgenus'].where(pd.notnull(habitat_species_df['Subgenus']), 'None')\n",
    "\n",
    "habitat_species_df = habitat_species_df[habitat_species_df['Species'] != 'sp.']\n",
    "habitat_species_df = habitat_species_df[habitat_species_df['Species'] != 'Sp.']\n",
    "\n",
    "habitat_species_df = habitat_species_df[habitat_species_df['Presence-Absence'] == 'Presence']\n",
    "\n",
    "habitat_species_df = habitat_species_df.reset_index(drop=True)\n",
    "\n",
    "print(habitat_species_df, habitat_species_df.columns)\n",
    "habitat_species_df['Genus_Species'] = habitat_species_df['Genus'] + '_' + habitat_species_df['Species']\n",
    "\n",
    "#habitat_species_df.to_csv('../data/intermediate_data/intermed_hab_sp.csv', index=False)"
   ],
   "metadata": {
    "collapsed": false,
    "ExecuteTime": {
     "end_time": "2024-07-12T13:44:41.599950300Z",
     "start_time": "2024-07-12T13:44:41.552178700Z"
    }
   }
  },
  {
   "cell_type": "code",
   "execution_count": 8,
   "outputs": [],
   "source": [
    "# map habitat descriptions to abbreviation\n",
    "\n",
    "habitat_abbv = pd.read_csv(habitat_classification_key)\n",
    "habitat_abbv = CarriageRemover(habitat_abbv)\n",
    "habitat_abbv = habitat_abbv.dropna()\n",
    "\n",
    "habitat_columns = [f'Habitat_{a}' for a in range(1, 51)]\n",
    "\n",
    "for i in habitat_columns:\n",
    "    curr_hab = habitat_species_df[i].tolist()\n",
    "    hab_abbv = []\n",
    "    #print(curr_hab)\n",
    "    for j in curr_hab:\n",
    "        #print(habitat_abbv.loc[habitat_abbv['Unique_Habitat'] == j, 'Habitat_Classifier'].iloc[0])\n",
    "        try:\n",
    "            hab_abbv.append(habitat_abbv.loc[habitat_abbv['Unique_Habitat'] == j, 'Habitat_Classifier'].iloc[0])\n",
    "        except:\n",
    "            hab_abbv.append('None')\n",
    "\n",
    "    habitat_species_df[i] = hab_abbv\n",
    "\n",
    "habitat_species_df = habitat_species_df.dropna(axis=1, how='all')"
   ],
   "metadata": {
    "collapsed": false,
    "ExecuteTime": {
     "end_time": "2024-07-12T13:45:06.745473800Z",
     "start_time": "2024-07-12T13:44:41.599950300Z"
    }
   }
  },
  {
   "cell_type": "code",
   "execution_count": 9,
   "outputs": [
    {
     "name": "stdout",
     "output_type": "stream",
     "text": [
      "nan\n",
      "['Anopheles_farauti', 'Anopheles_punctulatus', 'Anopheles_koliensis', 'Anopheles_nataliae', 'Anopheles_solomonis', 'Uranotaenia_painei', 'Uranotaenia_wysockii', 'Uranotaenia_sexaueri', 'Uranotaenia_civinskii', 'Uranotaenia_lateralis', 'Uranotaenia_solomonis', 'Culex_pervigilans', 'Culex_pacificus', 'Culex_iyengari', 'Culex_australicus', 'Culex_atriceps', 'Culex_kesseli', 'Culex_roseni', 'Culex_omani', 'Anopheles_atropos', 'Anopheles_barberi', 'Anopheles_crucians', 'Anopheles_earlei', 'Anopheles_freeborni', 'Anopheles_georgianus', 'Anopheles_occidentalis', 'Anopheles_franciscanus', 'Anopheles_punctipennis', 'Anopheles_walkeri', 'Toxorhynchites_rutilus', 'Wyeomyia_mitchellii', 'Wyeomyia_smithii', 'Wyeomyia_vanduzeei', 'Uranotaenia_anhydor', 'Uranotaenia_lowii', 'Uranotaenia_sapphirina', 'Culiseta_alaskaensis', 'Culiseta_impatiens', 'Culiseta_incidens', 'Culiseta_inornata', 'Culiseta_particeps', 'Culiseta_morsitans', 'Culiseta_melanura', 'Orthopodomyia_alba', 'Orthopodomyia_signifera', 'Mansonia_dyari', 'Mansonia_titillans', 'Coquillettidia_perturbans', 'Psorophora_ciliata', 'Psorophora_howardii', 'Psorophora_cyanescens', 'Psorophora_ferox', 'Posorphora_horrida', 'Psorophora_johnstonii', 'Psorophora_longipalpis', 'Psorophora_varipes', 'Psorophora_columbiae', 'Psorophora_discolor', 'Psorophora_pygmaea', 'Psorophora_signipennis', 'Aedes_aboriginis', 'Aedes_abserratus', 'Aedes_atlanticus', 'Aedes_aurifer', 'Aedes_bicristatus', 'Aedes_bimaculatus', 'Aedes_campestris', 'Aedes_canadensis', 'Aedes_cantator', 'Aedes_cataphylla', 'Aedes_communis', 'Aedes_decticus', 'Aedes_diantaeus', 'Aedes_dorsalis', 'Aedes_dupreei', 'Aedes_excrucians', 'Aedes_aegypti', 'Anopheles_albimanus', 'Anopheles_vestitipennis', 'Anopheles_grabhamii', 'Uranotaenia_socialis', 'Uranotaenia_cooki', 'Deinocerites_cancer', 'Culex_bahamensis', 'Culex_corniger', 'Culex_chidesteri', 'Culex_janitor', 'Culex_quinquefasciatus', 'Culex_atratus', 'Culex_erraticus', 'Culex_inhibitator', 'Culex_pilosus', 'Culex_arawak', 'Mansonia_flaveola', 'Orthopodomyia_waverleyi', 'Psorophora_infinis', 'Psorophora_jamaicensis', 'Psorophora_insularia', 'Aedes_pertinax', 'Aedes_hemisurus', 'Aedes_tortilis', 'Aedes_auratus', 'Aedes_calumnior', 'Aedes_mediovittatus', 'Aedes_walkeri', 'Aedes_aurites', 'Aedes_grabhami', 'Aedes_inaequalis', 'Aedes_stenei', 'Haemagogus_equinus', 'Wyeomyia_nigritubus', 'Wyeomyia_luna', 'Wyeomyia_stellata', 'Wyeomyia_corona', 'Wyeomyia_juxtahirsuta', 'Wyeomyia_hirsuta', 'Wyeomyia_atrata', 'Toxorhynchites_portoricensis', nan, 'Culex_rotoruae', 'Culex_asteliae', 'Culiseta_tonnoiri', 'Coquillettidia_tenuipalpis', 'Coquillettidia_iracunda', 'Aedes_zoosophus', 'Opifex_fuscus', 'Opifex_chathamicus', 'Aedes_australis', 'Aedes_antipodeus', 'Aedes_subalbirostris', 'Aedes_notoscriptus', 'Maorigoeldia_argyropus', 'Culex_albinervis', 'Culex_squamosus', 'Culex_bitaeniorhynchus', 'Culex_starckeae', 'Lutzia_halifaxii', 'Aedes_hendersoni', 'Aedes_brelandi', 'Aedes_triseriatus', 'Aedes_burgeri', 'Aedes_kompi', 'Aedes_schicki', 'Aedes_chionotum', 'Aedes_niveoscutum', 'Aedes_sandrae', 'Aedes_knabi', 'Aedes_purpureipes', 'Haemagogus_anastasionis', 'Haemagogus_chrysochlorus', 'Haemagogus_spegazzinii', 'Haemagogus_andinus', 'Haemagogus_nebulosus', 'Haemagogus_janthinomys', 'Haemagogus_capricornii', 'Haemagogus_mesodentatus', 'Haemagogus_albomaculatus', 'Haemagogus_panarchys', 'Haemagogus_soperi', 'Haemagogus_acutisentis', 'Haemagogus_tropicalis', 'Haemagogus_splendens', 'Haemagogus_celeste', 'Haemagogus_iridicolor', 'Haemagogus_aeritinctus', 'Haemagogus_regalis', 'Haemagogus_lucifer', 'Haemagogus_argyromeris', 'Haemagogus_chalcospilans', 'Haemagogus_boshelli', 'Orthopodomyia_pulcripalpis', 'Orthopodomyia_kummi', 'Orthopodomyia_albicosta', 'Orthopodomyia_fascipes', 'Orthopodomyia_sampaioi', 'Orthopodomyia_phyllozoa', 'Orthopodomyia_vernoni', 'Orthopodomyia_milloti', 'Orthopodomyia_arboricollis', 'Orthopodomyia_flavicosta', 'Orthopodomyia_flavithorax', 'Orthopodomyia_madrensis', 'Orthopodomyia_siamensis', 'Orthopodomyia_wilsoni', 'Orthopodomyia_albipes', 'Orthopodomyia_papuensis', 'Orthopodomyia_andamanensis', 'Orthopodomyia_anopheloides', 'Aedes_papago', 'Aedes_ramirezi', 'Haemagogus_leucotaeniatus', 'Haemagogus_leucocelaenus', 'Haemagogus_clarki', 'Aedes_flavescens', 'Aedes_grossbecki', 'Aedes_hexodontus', 'Aedes_idahoensis', 'Aedes_impiger', 'Aedes_implicatus', 'Aedes_increpitus', 'Aedes_infirmatus', 'Aedes_intrudens', 'Aedes_melanimon', 'Aedes_mitchellae', 'Aedes_nigripes', 'Aedes_nigromaculis', 'Aedes_niphadopsis', 'Aedes_pionips', 'Aedes_pullatus', 'Aedes_punctodes', 'Aedes_punctor', 'Aedes_rempeli', 'Aedes_riparius', 'Aedes_scapularis', 'Aedes_schizopinax', 'Aedes_sollicitans', 'Aedes_spencerii', 'Aedes_squamiger', 'Aedes_sticticus', 'Aedes_stimulans', 'Aedes_taeniorhynchus', 'Aedes_thelcter', 'Aedes_thibaulti', 'Aedes_tormentor', 'Aedes_provocans', 'Aedes_trivittatus', 'Aedes_ventrovittis', 'Aedes_atropalpus', 'Aedes_varipalpus', 'Aedes_vexans', 'Aedes_cinereus', 'Culex_coronator', 'Culex_erythrothorax', 'Culex_interrogator', 'Culex_nigripalpus', 'Culex_pipiens', 'Culex_restuans', 'Culex_salinarius', 'Culex_stigmatosoma', 'Culex_tarsalis', 'Culex_thriambus', 'Culex_virgultus', 'Culex_abominator', 'Culex_anips', 'Culex_iolambdis', 'Culex_mulrennani', 'Culex_taeniopus', 'Culex_peccator', 'Culex_apicalis', 'Culex_arizonensis', 'Culex_boharti', 'Culex_reevesi', 'Deinocerites_spanius', 'Anopheles_minimus', 'Anopheles_bengalensis', 'Anopheles_omorii', 'Anopheles_lindesayi', 'Anopheles_koreicus', 'Anopheles_saperoi', 'Anopheles_sinensis', 'Anopheles_engarensis', 'Anopheles_pullus', 'Anopheles_sineroides', 'Anopheles_lesteri', 'Mimomyia_luzonensis', 'Mimomyia_elegans', 'Culiseta_nipponica', 'Culiseta_bergrothi', 'Mansonia_uniformis', 'Coquillettidia_ochracea', 'Culex_fuscocephala', 'Culex_vagans', 'Culex_tritaeniorhynchus', 'Culex_pseudovishnui', 'Culex_sitiens', 'Culex_whitmorei', 'Culex_jacksoni', 'Culex_mimeticus', 'Culex_orientalis', 'Culex_boninensis', 'Culex_sinensis', 'Culex_rubensis', 'Culex_hayashii', 'Culex_okinawae', 'Culex_brevipalpis', 'Culex_infantulus', 'Culex_cinctellus', 'Culex_rubithoracis', 'Culex_bicornutus', 'Culex_tuberis', 'Culex_ryukyensis', 'Culex_nigropunctatus', 'Culex_pallidothorax', 'Culex_sasai', 'Culex_inatomii', 'Lutzia_fuscana', 'Lutzia_shinonagai', 'Anopheles_judithae', 'Heizmannia_lii', 'Anopheles_fausti', 'Aedes_vigilax', 'Anopheles_arboricola', 'Anopheles_xelajuensis', 'Anopheles_powderi', 'Aedes_muelleri', 'Aedes_fluviatilis', 'Aedes_hokkaidensis', 'Aedes_epactius', 'Aedes_japonicus', 'Aedes_hatorii', 'Aedes_togoi', 'Aedes_savoryi', 'Aedes_seoulensis', 'Aedes_albocinctus', 'Culex_belkini', 'Culex_perkinsi', 'Culex_papuensis', 'Culex_fragilis', 'Culex_pullus', 'Culex_femineus', 'Culex_cheesmanae', 'Culex_millironi', 'Culex_gaufini', 'Culex_leonardi', 'Culex_dumbletoni', 'Culex_atracus', 'Culex_lairdi', 'Culex_bergi', 'Culex_oweni', 'Culex_winkleri', 'Culex_laffooni', 'Culex_walukasi', 'Aedes_alektorovi', 'Aedes_aureostriatus', 'Aedes_okinawanus', 'Aedes_taiwanus', 'Aedes_koreicoides', 'Culex_becki', 'Culex_hurlbuti', 'Culex_perryi', 'Aedeomyia_catasticta', 'Hodgesia_solomonis', 'Mimomyia_solomonis', 'Mimomyia_bougainvillensis', 'Mimomyia_gurneyi', 'Aedes_nipponicus', 'Aedes_nishikawai', 'Aedes_oreophilus', 'Aedes_watasei', 'Aedes_riversi', 'Aedes_galloisi', 'Aedes_albopictus', 'Aedes_flavopictus', 'Aedes_wadai', 'Aedes_chemulpoensis', 'Aedes_alboscutellatus', 'Aedes_baisasi', 'Aedes_lineatopennis', 'Aedes_imprimens', 'Aedes_esoensis', 'Aedes_yamadai', 'Aedes_sasai', 'Verrallina_nobukonis', 'Verrallina_atriisimilis', 'Armigeres_subalbatus', 'Uranotaenia_jacksoni', 'Uranotaenia_ohamai', 'Uranotaenia_yaeyamana', 'Uranotaenia_novobscura', 'Uranotaenia_ryukyuana', 'Uranotaenia_nivipleura', 'Uranotaenia_annandalei', 'Uranotaenia_macfarlanei', 'Tripteroides_bambusa', 'Topomyia_yanbarensis', 'Malaya_genurostris', 'Toxorhynchites_manicatus', 'Toxorhynchites_towadensis', 'Toxorhynchites_christophi', 'Coquillettdia_fijiensis', 'Coquillettidia_lutea', 'Coquillettidia_xanthogaster', 'Mansonia_melanesiensis', 'Culex_spissipes', 'Culex_cedecei', 'Culex_ikelos', 'Culex_adamesi', 'Culex_crybda', 'Aedes_fulvithorax', 'Aedes_septemstriata', 'Aedes_arborealis', 'Aedes_argyrites', 'Aedes_ioliota', 'Aedes_cozumelensis', 'Aedes_albonotatus', 'Aedes_bahamensis', 'Aedes_busckii', 'Aedes_quadrivittatus', 'Aedes_lorraineae', 'Aedes_brevis', 'Aedes_spinosus', 'Aedes_sexlineatus', 'Aedes_whitmorei', 'Aedes_pseudodominicii', 'Aedes_allotecnon', 'Aedes_guerrero', 'Aedes_guatemala', 'Aedes_eleanorae', 'Aedes_marinkellei', 'Aedes_leei', 'Aedes_osornoi', 'Aedes_ecuadoriensis', 'Aedes_brevivittatus', 'Aedes_aurivittatus', 'Aedes_martinezi', 'Aedes_vanemdeni', 'Aedes_incomptus', 'Aedes_bogotanus', 'Aedes_deficiens', 'Aedes_atactavittatus', 'Aedes_angustivittatus', 'Aedes_euplocamus', 'Aedes_patersoni', 'Aedes_raymondi', 'Aedes_phaeonotus', 'Aedes_crinifer', 'Aedes_obturbator', 'Aedes_pectinatus']\n"
     ]
    }
   ],
   "source": [
    "# make relationship matrix\n",
    "\n",
    "unique_hab_list = habitat_abbv.Habitat_Classifier.unique().tolist()\n",
    "habitat_species_relationship = pd.DataFrame(columns=['Genus_Species'] + unique_hab_list)\n",
    "#print(habitat_species_relationship)\n",
    "total_habitat_types = len(unique_hab_list)\n",
    "\n",
    "species_list = []\n",
    "\n",
    "for i, j in enumerate(habitat_columns):\n",
    "    curr_hab = habitat_species_df[j].tolist()\n",
    "\n",
    "    for g, c in enumerate(curr_hab):\n",
    "\n",
    "        if c == 'None':\n",
    "            pass\n",
    "        else:\n",
    "            prop_spp = habitat_species_df.loc[g, 'Genus_Species']\n",
    "\n",
    "            if prop_spp not in species_list:\n",
    "                habs = [0] * total_habitat_types\n",
    "\n",
    "                habs[unique_hab_list.index(c)] = 1\n",
    "\n",
    "                habs.insert(0, prop_spp)\n",
    "\n",
    "                new_row = pd.Series({key: value for key, value in zip(habitat_species_relationship.columns, habs)})\n",
    "                habitat_species_relationship = pd.concat([habitat_species_relationship, new_row.to_frame().T], ignore_index=True)\n",
    "                species_list.append(prop_spp)\n",
    "\n",
    "            else:\n",
    "                try:\n",
    "                    indx = habitat_species_relationship.loc[habitat_species_relationship['Genus_Species'] == prop_spp].index[0]\n",
    "                    #print(indx)\n",
    "                    habitat_species_relationship.loc[indx, c] += 1\n",
    "                except:\n",
    "                    print(prop_spp)\n",
    "                    print(habitat_species_relationship['Genus_Species'].tolist())\n"
   ],
   "metadata": {
    "collapsed": false,
    "ExecuteTime": {
     "end_time": "2024-07-12T13:45:11.622849Z",
     "start_time": "2024-07-12T13:45:06.762984400Z"
    }
   }
  },
  {
   "cell_type": "code",
   "execution_count": 10,
   "outputs": [
    {
     "name": "stdout",
     "output_type": "stream",
     "text": [
      "                   Genus_Species AC ALG ATR BAM BOG BP BRK BWP CEM  ... SWB  \\\n",
      "0              Anopheles_farauti  3   0   0   0   0  0   0   1   0  ...   0   \n",
      "1          Anopheles_punctulatus  0   0   2   0   0  0   0   0   0  ...   0   \n",
      "2            Anopheles_koliensis  0   0   1   0   0  0   0   0   0  ...   0   \n",
      "3             Anopheles_nataliae  0   0   0   0   0  0   0   0   0  ...   0   \n",
      "4            Anopheles_solomonis  0   0   0   0   0  0   1   0   0  ...   0   \n",
      "...                          ... ..  ..  ..  ..  .. ..  ..  ..  ..  ...  ..   \n",
      "1994  Trichoprosopon_vonplesseni  0   0   0   1   0  0   0   0   0  ...   0   \n",
      "1995    Shannoniana_schedocyclia  0   0   0   1   0  0   0   0   0  ...   0   \n",
      "1996               Culex_marksae  0   0   0   0   0  0   0   0   0  ...   0   \n",
      "1997           Aedes_formosensis  0   0   0   1   0  0   0   0   0  ...   0   \n",
      "1998              Culex_usquatus  1   0   0   0   0  0   0   0   0  ...   0   \n",
      "\n",
      "     SWG TH TSTM VEG VLC VTR SUM UNIQUE_SUM PROPORTION  \n",
      "0      0  0    0   0   0   0  25         16   0.202532  \n",
      "1      0  0    0   0   0   1  17         10   0.126582  \n",
      "2      0  0    0   0   0   1  10          9   0.113924  \n",
      "3      0  0    0   0   0   0  10          5   0.063291  \n",
      "4      0  0    0   0   0   0  17         11   0.139241  \n",
      "...   .. ..  ...  ..  ..  ..  ..        ...        ...  \n",
      "1994   0  0    0   0   0   0   1          1   0.012658  \n",
      "1995   0  0    0   0   0   0   1          1   0.012658  \n",
      "1996   0  1    0   0   0   0   2          2   0.025316  \n",
      "1997   0  0    0   0   0   0   1          1   0.012658  \n",
      "1998   0  0    0   0   0   0   1          1   0.012658  \n",
      "\n",
      "[1998 rows x 83 columns]\n"
     ]
    }
   ],
   "source": [
    "# calculate some summary stats\n",
    "habitat_species_relationship['SUM'] = np.sum(habitat_species_relationship.drop(columns=['Genus_Species']).values, axis=1)\n",
    "habitat_species_relationship['UNIQUE_SUM'] = np.count_nonzero(habitat_species_relationship.drop(columns=['Genus_Species', 'SUM']).values, axis=1)\n",
    "habitat_species_relationship['PROPORTION'] = habitat_species_relationship['UNIQUE_SUM'] / total_habitat_types\n",
    "\n",
    "habitat_species_relationship = habitat_species_relationship.dropna()\n",
    "print(habitat_species_relationship)"
   ],
   "metadata": {
    "collapsed": false,
    "ExecuteTime": {
     "end_time": "2024-07-12T13:45:11.685480400Z",
     "start_time": "2024-07-12T13:45:11.622849Z"
    }
   }
  },
  {
   "cell_type": "code",
   "execution_count": 25,
   "outputs": [],
   "source": [
    "# minimu number of species in a habitat type to be included\n",
    "MINIMUM_SPECIES_UNIQUE = 10\n",
    "MINIMUM_SPECIES_NON_UNIQUE = 0"
   ],
   "metadata": {
    "collapsed": false,
    "ExecuteTime": {
     "end_time": "2024-07-12T14:29:42.523985Z",
     "start_time": "2024-07-12T14:29:42.510158800Z"
    }
   }
  },
  {
   "cell_type": "code",
   "execution_count": 26,
   "outputs": [
    {
     "name": "stdout",
     "output_type": "stream",
     "text": [
      "Genus_Species 0\n",
      "AC 149\n",
      "ALG 13\n",
      "ATR 90\n",
      "BAM 216\n",
      "BOG 14\n",
      "BP 17\n",
      "BRK 4\n",
      "BWP 27\n",
      "CEM 11\n",
      "CNL 20\n",
      "COR 19\n",
      "CRH 78\n",
      "CST 7\n",
      "CV 4\n",
      "DAM 17\n",
      "DRN 62\n",
      "DTH 141\n",
      "FH 82\n",
      "FNG 4\n",
      "FP 20\n",
      "FPP 92\n",
      "GDN 14\n",
      "GP 417\n",
      "GPA 2\n",
      "GPB 17\n",
      "GPT 242\n",
      "HGW 15\n",
      "IC 54\n",
      "LA 317\n",
      "LK 39\n",
      "LGN 28\n",
      "LKA 2\n",
      "LKB 1\n",
      "LKM 23\n",
      "LMS 6\n",
      "MAQ 7\n",
      "ML 54\n",
      "MNR 2\n",
      "MR 9\n",
      "MRB 14\n",
      "MRH 87\n",
      "PLT 8\n",
      "PNT 6\n",
      "PO 142\n",
      "POA 1\n",
      "POM 21\n",
      "POT 1\n",
      "PST 3\n",
      "PTH 25\n",
      "RC 87\n",
      "RD 55\n",
      "RIV 50\n",
      "RIVD 1\n",
      "RIVF 1\n",
      "RIVM 40\n",
      "RIVRM 3\n",
      "RIVT 1\n",
      "RP 245\n",
      "RPB 13\n",
      "SEP 65\n",
      "SHL 13\n",
      "SND 4\n",
      "SNW 21\n",
      "SOL 1\n",
      "SPG 45\n",
      "STM 182\n",
      "STMD 10\n",
      "STMF 4\n",
      "STMM 131\n",
      "STMRM 29\n",
      "STMT 19\n",
      "SW 210\n",
      "SWB 2\n",
      "SWG 9\n",
      "TH 343\n",
      "TSTM 2\n",
      "VEG 4\n",
      "VLC 9\n",
      "VTR 29\n",
      "Index(['AC', 'ALG', 'ATR', 'BAM', 'BOG', 'BP', 'BRK', 'BWP', 'CEM', 'CNL',\n",
      "       'COR', 'CRH', 'CST', 'CV', 'DAM', 'DRN', 'DTH', 'FH', 'FNG', 'FP',\n",
      "       'FPP', 'GDN', 'GP', 'GPA', 'GPB', 'GPT', 'HGW', 'IC', 'LA', 'LK', 'LGN',\n",
      "       'LKA', 'LKB', 'LKM', 'LMS', 'MAQ', 'ML', 'MNR', 'MR', 'MRB', 'MRH',\n",
      "       'PLT', 'PNT', 'PO', 'POA', 'POM', 'POT', 'PST', 'PTH', 'RC', 'RD',\n",
      "       'RIV', 'RIVD', 'RIVF', 'RIVM', 'RIVRM', 'RIVT', 'RP', 'RPB', 'SEP',\n",
      "       'SHL', 'SND', 'SNW', 'SOL', 'SPG', 'STM', 'STMD', 'STMF', 'STMM',\n",
      "       'STMRM', 'STMT', 'SW', 'SWB', 'SWG', 'TH', 'TSTM', 'VEG', 'VLC', 'VTR'],\n",
      "      dtype='object')\n",
      "1998\n",
      "79\n",
      "['AC', 'ALG', 'ATR', 'BAM', 'BOG', 'BP', 'BRK', 'BWP', 'CEM', 'CNL', 'COR', 'CRH', 'CST', 'CV', 'DAM', 'DRN', 'DTH', 'FH', 'FNG', 'FP', 'FPP', 'GDN', 'GP', 'GPA', 'GPB', 'GPT', 'HGW', 'IC', 'LA', 'LK', 'LGN', 'LKA', 'LKB', 'LKM', 'LMS', 'MAQ', 'ML', 'MNR', 'MR', 'MRB', 'MRH', 'PLT', 'PNT', 'PO', 'POA', 'POM', 'POT', 'PST', 'PTH', 'RC', 'RD', 'RIV', 'RIVD', 'RIVF', 'RIVM', 'RIVRM', 'RIVT', 'RP', 'RPB', 'SEP', 'SHL', 'SND', 'SNW', 'SOL', 'SPG', 'STM', 'STMD', 'STMF', 'STMM', 'STMRM', 'STMT', 'SW', 'SWB', 'SWG', 'TH', 'TSTM', 'VEG', 'VLC', 'VTR']\n",
      "1998\n",
      "[[3 0 0 ... 0 0 0]\n",
      " [0 0 2 ... 0 0 1]\n",
      " [0 0 1 ... 0 0 1]\n",
      " ...\n",
      " [0 0 0 ... 0 0 0]\n",
      " [0 0 0 ... 0 0 0]\n",
      " [1 0 0 ... 0 0 0]]\n"
     ]
    }
   ],
   "source": [
    "\n",
    "habitat_species_df = habitat_species_relationship.drop(columns=['SUM', 'UNIQUE_SUM', 'PROPORTION'])\n",
    "\n",
    "# Drop columns with n or less observations\n",
    "drop_cols_non_unique = []\n",
    "for i in habitat_species_df.columns:\n",
    "    print(i, len(habitat_species_df[habitat_species_df[i] == 1].index.tolist()))\n",
    "    if len(habitat_species_df[habitat_species_df[i] == 1].index.tolist()) <= MINIMUM_SPECIES_NON_UNIQUE:\n",
    "        drop_cols_non_unique.append(i)\n",
    "\n",
    "habitat_species_df = habitat_species_df.drop(columns=drop_cols_non_unique)\n",
    "\n",
    "print(habitat_species_df.columns)\n",
    "\n",
    "\n",
    "# species ID nodes\n",
    "species_nodes = list(habitat_species_df.index)\n",
    "print(len(species_nodes))\n",
    "# habitat nodes -- removes the 'Record_ID' column at the first position\n",
    "habitat_nodes = list(habitat_species_df.columns)\n",
    "print(len(habitat_nodes))\n",
    "print(habitat_nodes)\n",
    "# retrieves on the values from the matrix for looping through all values to make tuples out of column/row relationships\n",
    "val_matrix = habitat_species_df.values\n",
    "print(len(val_matrix))\n",
    "print(val_matrix)"
   ],
   "metadata": {
    "collapsed": false,
    "ExecuteTime": {
     "end_time": "2024-07-12T14:29:44.643751100Z",
     "start_time": "2024-07-12T14:29:44.561439Z"
    }
   }
  },
  {
   "cell_type": "code",
   "execution_count": 27,
   "outputs": [
    {
     "data": {
      "text/plain": "     AC ALG ATR BAM BOG BP BRK BWP CEM CNL  ... STMRM STMT SW SWB SWG TH TSTM  \\\n0     3   0   0   0   0  0   0   1   0   0  ...     0    0  1   0   0  0    0   \n1     0   0   2   0   0  0   0   0   0   0  ...     0    0  0   0   0  0    0   \n2     0   0   1   0   0  0   0   0   0   0  ...     0    0  1   0   0  0    0   \n3     0   0   0   0   0  0   0   0   0   0  ...     0    0  0   0   0  0    0   \n4     0   0   0   0   0  0   1   0   0   0  ...     0    0  0   0   0  0    0   \n...  ..  ..  ..  ..  .. ..  ..  ..  ..  ..  ...   ...  ... ..  ..  .. ..  ...   \n1994  0   0   0   1   0  0   0   0   0   0  ...     0    0  0   0   0  0    0   \n1995  0   0   0   1   0  0   0   0   0   0  ...     0    0  0   0   0  0    0   \n1996  0   0   0   0   0  0   0   0   0   0  ...     0    0  0   0   0  1    0   \n1997  0   0   0   1   0  0   0   0   0   0  ...     0    0  0   0   0  0    0   \n1998  1   0   0   0   0  0   0   0   0   0  ...     0    0  0   0   0  0    0   \n\n     VEG VLC VTR  \n0      0   0   0  \n1      0   0   1  \n2      0   0   1  \n3      0   0   0  \n4      0   0   0  \n...   ..  ..  ..  \n1994   0   0   0  \n1995   0   0   0  \n1996   0   0   0  \n1997   0   0   0  \n1998   0   0   0  \n\n[1998 rows x 79 columns]",
      "text/html": "<div>\n<style scoped>\n    .dataframe tbody tr th:only-of-type {\n        vertical-align: middle;\n    }\n\n    .dataframe tbody tr th {\n        vertical-align: top;\n    }\n\n    .dataframe thead th {\n        text-align: right;\n    }\n</style>\n<table border=\"1\" class=\"dataframe\">\n  <thead>\n    <tr style=\"text-align: right;\">\n      <th></th>\n      <th>AC</th>\n      <th>ALG</th>\n      <th>ATR</th>\n      <th>BAM</th>\n      <th>BOG</th>\n      <th>BP</th>\n      <th>BRK</th>\n      <th>BWP</th>\n      <th>CEM</th>\n      <th>CNL</th>\n      <th>...</th>\n      <th>STMRM</th>\n      <th>STMT</th>\n      <th>SW</th>\n      <th>SWB</th>\n      <th>SWG</th>\n      <th>TH</th>\n      <th>TSTM</th>\n      <th>VEG</th>\n      <th>VLC</th>\n      <th>VTR</th>\n    </tr>\n  </thead>\n  <tbody>\n    <tr>\n      <th>0</th>\n      <td>3</td>\n      <td>0</td>\n      <td>0</td>\n      <td>0</td>\n      <td>0</td>\n      <td>0</td>\n      <td>0</td>\n      <td>1</td>\n      <td>0</td>\n      <td>0</td>\n      <td>...</td>\n      <td>0</td>\n      <td>0</td>\n      <td>1</td>\n      <td>0</td>\n      <td>0</td>\n      <td>0</td>\n      <td>0</td>\n      <td>0</td>\n      <td>0</td>\n      <td>0</td>\n    </tr>\n    <tr>\n      <th>1</th>\n      <td>0</td>\n      <td>0</td>\n      <td>2</td>\n      <td>0</td>\n      <td>0</td>\n      <td>0</td>\n      <td>0</td>\n      <td>0</td>\n      <td>0</td>\n      <td>0</td>\n      <td>...</td>\n      <td>0</td>\n      <td>0</td>\n      <td>0</td>\n      <td>0</td>\n      <td>0</td>\n      <td>0</td>\n      <td>0</td>\n      <td>0</td>\n      <td>0</td>\n      <td>1</td>\n    </tr>\n    <tr>\n      <th>2</th>\n      <td>0</td>\n      <td>0</td>\n      <td>1</td>\n      <td>0</td>\n      <td>0</td>\n      <td>0</td>\n      <td>0</td>\n      <td>0</td>\n      <td>0</td>\n      <td>0</td>\n      <td>...</td>\n      <td>0</td>\n      <td>0</td>\n      <td>1</td>\n      <td>0</td>\n      <td>0</td>\n      <td>0</td>\n      <td>0</td>\n      <td>0</td>\n      <td>0</td>\n      <td>1</td>\n    </tr>\n    <tr>\n      <th>3</th>\n      <td>0</td>\n      <td>0</td>\n      <td>0</td>\n      <td>0</td>\n      <td>0</td>\n      <td>0</td>\n      <td>0</td>\n      <td>0</td>\n      <td>0</td>\n      <td>0</td>\n      <td>...</td>\n      <td>0</td>\n      <td>0</td>\n      <td>0</td>\n      <td>0</td>\n      <td>0</td>\n      <td>0</td>\n      <td>0</td>\n      <td>0</td>\n      <td>0</td>\n      <td>0</td>\n    </tr>\n    <tr>\n      <th>4</th>\n      <td>0</td>\n      <td>0</td>\n      <td>0</td>\n      <td>0</td>\n      <td>0</td>\n      <td>0</td>\n      <td>1</td>\n      <td>0</td>\n      <td>0</td>\n      <td>0</td>\n      <td>...</td>\n      <td>0</td>\n      <td>0</td>\n      <td>0</td>\n      <td>0</td>\n      <td>0</td>\n      <td>0</td>\n      <td>0</td>\n      <td>0</td>\n      <td>0</td>\n      <td>0</td>\n    </tr>\n    <tr>\n      <th>...</th>\n      <td>...</td>\n      <td>...</td>\n      <td>...</td>\n      <td>...</td>\n      <td>...</td>\n      <td>...</td>\n      <td>...</td>\n      <td>...</td>\n      <td>...</td>\n      <td>...</td>\n      <td>...</td>\n      <td>...</td>\n      <td>...</td>\n      <td>...</td>\n      <td>...</td>\n      <td>...</td>\n      <td>...</td>\n      <td>...</td>\n      <td>...</td>\n      <td>...</td>\n      <td>...</td>\n    </tr>\n    <tr>\n      <th>1994</th>\n      <td>0</td>\n      <td>0</td>\n      <td>0</td>\n      <td>1</td>\n      <td>0</td>\n      <td>0</td>\n      <td>0</td>\n      <td>0</td>\n      <td>0</td>\n      <td>0</td>\n      <td>...</td>\n      <td>0</td>\n      <td>0</td>\n      <td>0</td>\n      <td>0</td>\n      <td>0</td>\n      <td>0</td>\n      <td>0</td>\n      <td>0</td>\n      <td>0</td>\n      <td>0</td>\n    </tr>\n    <tr>\n      <th>1995</th>\n      <td>0</td>\n      <td>0</td>\n      <td>0</td>\n      <td>1</td>\n      <td>0</td>\n      <td>0</td>\n      <td>0</td>\n      <td>0</td>\n      <td>0</td>\n      <td>0</td>\n      <td>...</td>\n      <td>0</td>\n      <td>0</td>\n      <td>0</td>\n      <td>0</td>\n      <td>0</td>\n      <td>0</td>\n      <td>0</td>\n      <td>0</td>\n      <td>0</td>\n      <td>0</td>\n    </tr>\n    <tr>\n      <th>1996</th>\n      <td>0</td>\n      <td>0</td>\n      <td>0</td>\n      <td>0</td>\n      <td>0</td>\n      <td>0</td>\n      <td>0</td>\n      <td>0</td>\n      <td>0</td>\n      <td>0</td>\n      <td>...</td>\n      <td>0</td>\n      <td>0</td>\n      <td>0</td>\n      <td>0</td>\n      <td>0</td>\n      <td>1</td>\n      <td>0</td>\n      <td>0</td>\n      <td>0</td>\n      <td>0</td>\n    </tr>\n    <tr>\n      <th>1997</th>\n      <td>0</td>\n      <td>0</td>\n      <td>0</td>\n      <td>1</td>\n      <td>0</td>\n      <td>0</td>\n      <td>0</td>\n      <td>0</td>\n      <td>0</td>\n      <td>0</td>\n      <td>...</td>\n      <td>0</td>\n      <td>0</td>\n      <td>0</td>\n      <td>0</td>\n      <td>0</td>\n      <td>0</td>\n      <td>0</td>\n      <td>0</td>\n      <td>0</td>\n      <td>0</td>\n    </tr>\n    <tr>\n      <th>1998</th>\n      <td>1</td>\n      <td>0</td>\n      <td>0</td>\n      <td>0</td>\n      <td>0</td>\n      <td>0</td>\n      <td>0</td>\n      <td>0</td>\n      <td>0</td>\n      <td>0</td>\n      <td>...</td>\n      <td>0</td>\n      <td>0</td>\n      <td>0</td>\n      <td>0</td>\n      <td>0</td>\n      <td>0</td>\n      <td>0</td>\n      <td>0</td>\n      <td>0</td>\n      <td>0</td>\n    </tr>\n  </tbody>\n</table>\n<p>1998 rows × 79 columns</p>\n</div>"
     },
     "execution_count": 27,
     "metadata": {},
     "output_type": "execute_result"
    }
   ],
   "source": [
    "habitat_species_df"
   ],
   "metadata": {
    "collapsed": false,
    "ExecuteTime": {
     "end_time": "2024-07-12T14:29:47.872749900Z",
     "start_time": "2024-07-12T14:29:47.853087100Z"
    }
   }
  },
  {
   "cell_type": "code",
   "execution_count": 28,
   "outputs": [
    {
     "name": "stdout",
     "output_type": "stream",
     "text": [
      "AC 149\n",
      "ATR 90\n",
      "BAM 216\n",
      "BP 17\n",
      "COR 19\n",
      "CRH 78\n",
      "CV 4\n",
      "DRN 62\n",
      "DTH 141\n",
      "FH 82\n",
      "FP 20\n",
      "FPP 92\n",
      "GP 417\n",
      "GPB 17\n",
      "GPT 242\n",
      "HGW 15\n",
      "IC 54\n",
      "LA 317\n",
      "LK 39\n",
      "LGN 28\n",
      "ML 54\n",
      "MR 9\n",
      "MRB 14\n",
      "MRH 87\n",
      "PLT 8\n",
      "PO 142\n",
      "POM 21\n",
      "RC 87\n",
      "RD 55\n",
      "RIVM 40\n",
      "RIVRM 3\n",
      "RP 245\n",
      "RPB 13\n",
      "SEP 65\n",
      "SNW 21\n",
      "SPG 45\n",
      "STM 182\n",
      "STMD 10\n",
      "STMF 4\n",
      "STMM 131\n",
      "STMRM 29\n",
      "STMT 19\n",
      "SW 210\n",
      "TH 343\n",
      "Index(['AC', 'ATR', 'BAM', 'BP', 'COR', 'CRH', 'DRN', 'DTH', 'FH', 'FP', 'FPP',\n",
      "       'GP', 'GPB', 'GPT', 'HGW', 'IC', 'LA', 'LK', 'LGN', 'ML', 'MRB', 'MRH',\n",
      "       'PO', 'POM', 'RC', 'RD', 'RIVM', 'RP', 'RPB', 'SEP', 'SNW', 'SPG',\n",
      "       'STM', 'STMM', 'STMRM', 'STMT', 'SW', 'TH'],\n",
      "      dtype='object')\n"
     ]
    }
   ],
   "source": [
    "# Removes all columns have that less than 10 species\n",
    "\n",
    "cols_to_drop = []\n",
    "\n",
    "# For each column, check if it is the only contributor to the row sum\n",
    "for col in habitat_species_df.columns:\n",
    "    temp_df = habitat_species_df.copy()\n",
    "    temp_df[col] = 0\n",
    "    if not (temp_df.sum(axis=1) == 0).any():\n",
    "        cols_to_drop.append(col)\n",
    "\n",
    "# Drop unnecessary columns\n",
    "df_unique = habitat_species_df.drop(columns=cols_to_drop)\n",
    "\n",
    "# Drop columns with n or less observations\n",
    "drop_cols = []\n",
    "for i in df_unique.columns:\n",
    "    print(i, len(df_unique[df_unique[i] == 1].index.tolist()))\n",
    "    if len(df_unique[df_unique[i] == 1].index.tolist()) <= MINIMUM_SPECIES_UNIQUE:\n",
    "        drop_cols.append(i)\n",
    "\n",
    "df_unique = df_unique.drop(columns=drop_cols)\n",
    "\n",
    "print(df_unique.columns)"
   ],
   "metadata": {
    "collapsed": false,
    "ExecuteTime": {
     "end_time": "2024-07-12T14:29:55.386140800Z",
     "start_time": "2024-07-12T14:29:53.802962Z"
    }
   }
  },
  {
   "cell_type": "code",
   "execution_count": 29,
   "outputs": [
    {
     "data": {
      "text/plain": "38"
     },
     "execution_count": 29,
     "metadata": {},
     "output_type": "execute_result"
    }
   ],
   "source": [
    "# total remaining habitats\n",
    "len(df_unique.columns)"
   ],
   "metadata": {
    "collapsed": false,
    "ExecuteTime": {
     "end_time": "2024-07-12T14:29:56.769658800Z",
     "start_time": "2024-07-12T14:29:56.754623300Z"
    }
   }
  },
  {
   "cell_type": "code",
   "execution_count": 30,
   "outputs": [
    {
     "name": "stdout",
     "output_type": "stream",
     "text": [
      "1998\n",
      "38\n",
      "['AC', 'ATR', 'BAM', 'BP', 'COR', 'CRH', 'DRN', 'DTH', 'FH', 'FP', 'FPP', 'GP', 'GPB', 'GPT', 'HGW', 'IC', 'LA', 'LK', 'LGN', 'ML', 'MRB', 'MRH', 'PO', 'POM', 'RC', 'RD', 'RIVM', 'RP', 'RPB', 'SEP', 'SNW', 'SPG', 'STM', 'STMM', 'STMRM', 'STMT', 'SW', 'TH']\n",
      "1998\n",
      "[[3 0 0 ... 0 1 0]\n",
      " [0 2 0 ... 0 0 0]\n",
      " [0 1 0 ... 0 1 0]\n",
      " ...\n",
      " [0 0 0 ... 0 0 1]\n",
      " [0 0 1 ... 0 0 0]\n",
      " [1 0 0 ... 0 0 0]]\n"
     ]
    }
   ],
   "source": [
    "# check to make sure all rows are unique\n",
    "# species ID nodes\n",
    "species_nodes_unique = list(df_unique.index)\n",
    "print(len(species_nodes_unique))\n",
    "# habitat nodes -- removes the 'Record_ID' column at the first position\n",
    "habitat_nodes_unique = list(df_unique.columns)\n",
    "print(len(habitat_nodes_unique))\n",
    "print(habitat_nodes_unique)\n",
    "# retrieves on the values from the matrix for looping through all values to make tuples out of column/row relationships\n",
    "val_matrix_unique = df_unique.values\n",
    "print(len(val_matrix_unique))\n",
    "print(val_matrix_unique)\n"
   ],
   "metadata": {
    "collapsed": false,
    "ExecuteTime": {
     "end_time": "2024-07-12T14:33:00.258571200Z",
     "start_time": "2024-07-12T14:33:00.206922700Z"
    }
   }
  },
  {
   "cell_type": "code",
   "execution_count": 32,
   "outputs": [
    {
     "name": "stdout",
     "output_type": "stream",
     "text": [
      "1989 1998 9\n",
      "{417, 513, 592, 611, 769, 851, 1035, 1276, 1537}\n",
      "{'SWB', 'VEG', 'LKA', 'RIV', 'MAQ', 'POA', 'SHL', 'GDN', 'GPA', 'BRK', 'RIVD', 'ALG', 'LKB', 'PTH', 'CV', 'TSTM', 'PST', 'MR', 'MNR', 'SND', 'SWG', 'DAM', 'VLC', 'BWP', 'FNG', 'PLT', 'BOG', 'LKM', 'RIVF', 'SOL', 'CNL', 'CST', 'RIVT', 'RIVRM', 'STMF', 'STMD', 'POT', 'LMS', 'PNT', 'CEM', 'VTR'}\n",
      "41\n"
     ]
    }
   ],
   "source": [
    "# dropped species\n",
    "unique_indx = df_unique[df_unique.sum(axis=1) != 0].index.tolist()\n",
    "non_unique_indx = habitat_species_df[habitat_species_df.sum(axis=1) != 0].index.tolist()\n",
    "\n",
    "print(len(unique_indx), len(non_unique_indx), len(non_unique_indx) - len(unique_indx))\n",
    "print(set(unique_indx)^set(non_unique_indx))\n",
    "\n",
    "unique_habs = df_unique.columns.tolist()\n",
    "non_unique_habs = habitat_species_df.columns.tolist()\n",
    "print(set(unique_habs)^set(non_unique_habs))\n",
    "print(len(set(unique_habs)^set(non_unique_habs)))\n",
    "# export unique species df"
   ],
   "metadata": {
    "collapsed": false,
    "ExecuteTime": {
     "end_time": "2024-07-12T14:33:30.068534Z",
     "start_time": "2024-07-12T14:33:30.010158600Z"
    }
   }
  },
  {
   "cell_type": "code",
   "execution_count": 33,
   "outputs": [],
   "source": [
    "# output uncleaned df to .csv\n",
    "habitat_species_relationship.to_csv('../data/cleaned_data/expert_habitat_species_matrix.csv', index=False)\n",
    "\n",
    "# export the cleaned df\n",
    "df_unique.to_csv('../data/cleaned_data/cleaned_unique_species_hab_matrix.csv')"
   ],
   "metadata": {
    "collapsed": false,
    "ExecuteTime": {
     "end_time": "2024-07-12T14:34:06.452267800Z",
     "start_time": "2024-07-12T14:34:06.419493300Z"
    }
   }
  }
 ],
 "metadata": {
  "kernelspec": {
   "display_name": "Python 3",
   "language": "python",
   "name": "python3"
  },
  "language_info": {
   "codemirror_mode": {
    "name": "ipython",
    "version": 2
   },
   "file_extension": ".py",
   "mimetype": "text/x-python",
   "name": "python",
   "nbconvert_exporter": "python",
   "pygments_lexer": "ipython2",
   "version": "2.7.6"
  }
 },
 "nbformat": 4,
 "nbformat_minor": 0
}
