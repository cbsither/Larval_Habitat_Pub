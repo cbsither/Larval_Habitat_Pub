{
 "cells": [
  {
   "cell_type": "code",
   "execution_count": 103,
   "metadata": {
    "collapsed": true,
    "ExecuteTime": {
     "end_time": "2024-07-15T17:13:35.782079100Z",
     "start_time": "2024-07-15T17:13:35.710095900Z"
    }
   },
   "outputs": [],
   "source": [
    "import pandas as pd\n",
    "import numpy as np"
   ]
  },
  {
   "cell_type": "code",
   "execution_count": 104,
   "outputs": [],
   "source": [
    "# specify the input file name and output file name\n",
    "habitat_matrix = f'../data/raw_data/larval_habitat.csv'\n",
    "species_file = f'../data/raw_data/species_data.csv'\n",
    "habitat_classification_key = f'../data/raw_data/habitat_classification_key.csv'\n",
    "\n",
    "# reads in the input file as a .csv\n",
    "habitat_df = pd.read_csv(habitat_matrix)\n",
    "species_df = pd.read_csv(species_file)"
   ],
   "metadata": {
    "collapsed": false,
    "ExecuteTime": {
     "end_time": "2024-07-15T17:13:35.782079100Z",
     "start_time": "2024-07-15T17:13:35.719155600Z"
    }
   }
  },
  {
   "cell_type": "code",
   "execution_count": 105,
   "outputs": [],
   "source": [
    "# removes any hidden carriage returns and spaces\n",
    "def CarriageRemover( pandas_datafram ):\n",
    "    pandas_datafram = pandas_datafram.replace({r'\\r\\n': ''}, regex=True)\n",
    "    pandas_datafram = pandas_datafram.replace({r'\\s': ''}, regex=True)\n",
    "    pandas_datafram = pandas_datafram.replace({r'\\n': ''}, regex=True)\n",
    "    return pandas_datafram"
   ],
   "metadata": {
    "collapsed": false,
    "ExecuteTime": {
     "end_time": "2024-07-15T17:13:35.782079100Z",
     "start_time": "2024-07-15T17:13:35.782079100Z"
    }
   }
  },
  {
   "cell_type": "code",
   "execution_count": 106,
   "outputs": [],
   "source": [
    "habitat_df = CarriageRemover(habitat_df)\n",
    "species_df = CarriageRemover(species_df)"
   ],
   "metadata": {
    "collapsed": false,
    "ExecuteTime": {
     "end_time": "2024-07-15T17:13:36.429110300Z",
     "start_time": "2024-07-15T17:13:35.782079100Z"
    }
   }
  },
  {
   "cell_type": "code",
   "execution_count": 107,
   "outputs": [],
   "source": [
    "# merge both datasets\n",
    "habitat_species_df = pd.merge(species_df, habitat_df, left_on=['Record_ID'], right_on=['Record_ID'])"
   ],
   "metadata": {
    "collapsed": false,
    "ExecuteTime": {
     "end_time": "2024-07-15T17:13:36.465967600Z",
     "start_time": "2024-07-15T17:13:36.429110300Z"
    }
   }
  },
  {
   "cell_type": "code",
   "execution_count": 108,
   "outputs": [],
   "source": [
    "# remove columns without genus and species level data\n",
    "sp_col = ['Pub_ID', 'Subfamily', 'Tribe', 'Subspecies', '\"Form\"', 'Record_ID', 'Notes_x', 'Notes_y']\n",
    "habitat_species_df = habitat_species_df.drop(columns=sp_col)"
   ],
   "metadata": {
    "collapsed": false,
    "ExecuteTime": {
     "end_time": "2024-07-15T17:13:36.477852600Z",
     "start_time": "2024-07-15T17:13:36.465967600Z"
    }
   }
  },
  {
   "cell_type": "code",
   "execution_count": 109,
   "outputs": [
    {
     "name": "stdout",
     "output_type": "stream",
     "text": [
      "          Genus            Subgenus      Species Presence-Absence  \\\n",
      "0     Anopheles              Cellia      farauti         Presence   \n",
      "1     Anopheles              Cellia  punctulatus         Presence   \n",
      "2     Anopheles              Cellia    koliensis         Presence   \n",
      "3     Anopheles              Cellia       lungae         Presence   \n",
      "4     Anopheles              Cellia     nataliae         Presence   \n",
      "...         ...                 ...          ...              ...   \n",
      "3541      Culex  SubgenusUncertain2      romeroi         Presence   \n",
      "3542   Mansonia            Mansonia     flaveola         Presence   \n",
      "3543      Aedes        Ochlerotatus     tortilis         Presence   \n",
      "3544      Aedes           Stegomyia      aegypti         Presence   \n",
      "3545      Culex               Culex   bahamensis         Presence   \n",
      "\n",
      "     Shaded (Shaded/Semishaded/Unshaded) Saltwater (Yes/No)  \\\n",
      "0                                    NaN                NaN   \n",
      "1                                    NaN                NaN   \n",
      "2                                    NaN                NaN   \n",
      "3                                    NaN                NaN   \n",
      "4                                    NaN                NaN   \n",
      "...                                  ...                ...   \n",
      "3541                                 NaN                NaN   \n",
      "3542                                 NaN                NaN   \n",
      "3543                                 NaN                NaN   \n",
      "3544                                 NaN                NaN   \n",
      "3545                                 NaN                NaN   \n",
      "\n",
      "                          Habitat_1              Habitat_2      Habitat_3  \\\n",
      "0                      rivermargins          streammargins        springs   \n",
      "1               valleyoflargestream                 rivers       roadruts   \n",
      "2                    temporarypools             Grasslands   edgeofjungle   \n",
      "3                denseshadeinjungle           seepageareas  streammargins   \n",
      "4                           springs           seepageareas    smallcreeks   \n",
      "...                             ...                    ...            ...   \n",
      "3541     semi-permanentgroundwaters  permanentgroundwaters            NaN   \n",
      "3542  pistiainpermanentgroundwaters                    NaN            NaN   \n",
      "3543             temporaryrainpools                    NaN            NaN   \n",
      "3544           artificialcontainers                    NaN            NaN   \n",
      "3545              pondsnearseashore                    NaN            NaN   \n",
      "\n",
      "                                    Habitat_4  ... Habitat_41 Habitat_42  \\\n",
      "0                                seepageareas  ...        NaN        NaN   \n",
      "1                              temporarypools  ...        NaN        NaN   \n",
      "2                                       tents  ...        NaN        NaN   \n",
      "3                                   rockholes  ...        NaN        NaN   \n",
      "4     denselyshadedcoralfoothillsofnorthcoast  ...        NaN        NaN   \n",
      "...                                       ...  ...        ...        ...   \n",
      "3541                                      NaN  ...        NaN        NaN   \n",
      "3542                                      NaN  ...        NaN        NaN   \n",
      "3543                                      NaN  ...        NaN        NaN   \n",
      "3544                                      NaN  ...        NaN        NaN   \n",
      "3545                                      NaN  ...        NaN        NaN   \n",
      "\n",
      "     Habitat_43 Habitat_44 Habitat_45 Habitat_46 Habitat_47 Habitat_48  \\\n",
      "0           NaN        NaN        NaN        NaN        NaN        NaN   \n",
      "1           NaN        NaN        NaN        NaN        NaN        NaN   \n",
      "2           NaN        NaN        NaN        NaN        NaN        NaN   \n",
      "3           NaN        NaN        NaN        NaN        NaN        NaN   \n",
      "4           NaN        NaN        NaN        NaN        NaN        NaN   \n",
      "...         ...        ...        ...        ...        ...        ...   \n",
      "3541        NaN        NaN        NaN        NaN        NaN        NaN   \n",
      "3542        NaN        NaN        NaN        NaN        NaN        NaN   \n",
      "3543        NaN        NaN        NaN        NaN        NaN        NaN   \n",
      "3544        NaN        NaN        NaN        NaN        NaN        NaN   \n",
      "3545        NaN        NaN        NaN        NaN        NaN        NaN   \n",
      "\n",
      "     Habitat_49 Habitat_50  \n",
      "0           NaN        NaN  \n",
      "1           NaN        NaN  \n",
      "2           NaN        NaN  \n",
      "3           NaN        NaN  \n",
      "4           NaN        NaN  \n",
      "...         ...        ...  \n",
      "3541        NaN        NaN  \n",
      "3542        NaN        NaN  \n",
      "3543        NaN        NaN  \n",
      "3544        NaN        NaN  \n",
      "3545        NaN        NaN  \n",
      "\n",
      "[3546 rows x 56 columns] Index(['Genus', 'Subgenus', 'Species', 'Presence-Absence',\n",
      "       'Shaded (Shaded/Semishaded/Unshaded)', 'Saltwater (Yes/No)',\n",
      "       'Habitat_1', 'Habitat_2', 'Habitat_3', 'Habitat_4', 'Habitat_5',\n",
      "       'Habitat_6', 'Habitat_7', 'Habitat_8', 'Habitat_9', 'Habitat_10',\n",
      "       'Habitat_11', 'Habitat_12', 'Habitat_13', 'Habitat_14', 'Habitat_15',\n",
      "       'Habitat_16', 'Habitat_17', 'Habitat_18', 'Habitat_19', 'Habitat_20',\n",
      "       'Habitat_21', 'Habitat_22', 'Habitat_23', 'Habitat_24', 'Habitat_25',\n",
      "       'Habitat_26', 'Habitat_27', 'Habitat_28', 'Habitat_29', 'Habitat_30',\n",
      "       'Habitat_31', 'Habitat_32', 'Habitat_33', 'Habitat_34', 'Habitat_35',\n",
      "       'Habitat_36', 'Habitat_37', 'Habitat_38', 'Habitat_39', 'Habitat_40',\n",
      "       'Habitat_41', 'Habitat_42', 'Habitat_43', 'Habitat_44', 'Habitat_45',\n",
      "       'Habitat_46', 'Habitat_47', 'Habitat_48', 'Habitat_49', 'Habitat_50'],\n",
      "      dtype='object')\n"
     ]
    }
   ],
   "source": [
    "# changes the NaN designation in the 'Subgenus' column to 'None'\n",
    "#subgenus_column = habitat_species_df['Subgenus'].where(pd.notnull(habitat_species_df['Subgenus']), 'None')\n",
    "habitat_species_df['Subgenus'] = habitat_species_df['Subgenus'].where(pd.notnull(habitat_species_df['Subgenus']), 'None')\n",
    "\n",
    "habitat_species_df = habitat_species_df[habitat_species_df['Species'] != 'sp.']\n",
    "habitat_species_df = habitat_species_df[habitat_species_df['Species'] != 'Sp.']\n",
    "\n",
    "habitat_species_df = habitat_species_df[habitat_species_df['Presence-Absence'] == 'Presence']\n",
    "\n",
    "habitat_species_df = habitat_species_df.reset_index(drop=True)\n",
    "\n",
    "print(habitat_species_df, habitat_species_df.columns)\n",
    "habitat_species_df['Genus_Species'] = habitat_species_df['Genus'] + '_' + habitat_species_df['Species']\n",
    "\n",
    "#habitat_species_df.to_csv('../data/intermediate_data/intermed_hab_sp.csv', index=False)"
   ],
   "metadata": {
    "collapsed": false,
    "ExecuteTime": {
     "end_time": "2024-07-15T17:13:36.527293900Z",
     "start_time": "2024-07-15T17:13:36.484714Z"
    }
   }
  },
  {
   "cell_type": "code",
   "execution_count": 110,
   "outputs": [],
   "source": [
    "# map habitat descriptions to abbreviation\n",
    "\n",
    "habitat_abbv = pd.read_csv(habitat_classification_key)\n",
    "habitat_abbv = CarriageRemover(habitat_abbv)\n",
    "habitat_abbv = habitat_abbv.dropna()\n",
    "\n",
    "habitat_columns = [f'Habitat_{a}' for a in range(1, 51)]\n",
    "\n",
    "for i in habitat_columns:\n",
    "    curr_hab = habitat_species_df[i].tolist()\n",
    "    hab_abbv = []\n",
    "    #print(curr_hab)\n",
    "    for j in curr_hab:\n",
    "        #print(habitat_abbv.loc[habitat_abbv['Unique_Habitat'] == j, 'Habitat_Classifier'].iloc[0])\n",
    "        try:\n",
    "            hab_abbv.append(habitat_abbv.loc[habitat_abbv['Unique_Habitat'] == j, 'Habitat_Classifier'].iloc[0])\n",
    "        except:\n",
    "            hab_abbv.append('None')\n",
    "\n",
    "    habitat_species_df[i] = hab_abbv\n",
    "\n",
    "habitat_species_df = habitat_species_df.dropna(axis=1, how='all')"
   ],
   "metadata": {
    "collapsed": false,
    "ExecuteTime": {
     "end_time": "2024-07-15T17:14:01.007726200Z",
     "start_time": "2024-07-15T17:13:36.527293900Z"
    }
   }
  },
  {
   "cell_type": "code",
   "execution_count": 111,
   "outputs": [
    {
     "name": "stdout",
     "output_type": "stream",
     "text": [
      "nan\n",
      "['Anopheles_farauti', 'Anopheles_punctulatus', 'Anopheles_koliensis', 'Anopheles_nataliae', 'Anopheles_solomonis', 'Uranotaenia_painei', 'Uranotaenia_wysockii', 'Uranotaenia_sexaueri', 'Uranotaenia_civinskii', 'Uranotaenia_lateralis', 'Uranotaenia_solomonis', 'Culex_pervigilans', 'Culex_pacificus', 'Culex_iyengari', 'Culex_australicus', 'Culex_atriceps', 'Culex_kesseli', 'Culex_roseni', 'Culex_omani', 'Anopheles_atropos', 'Anopheles_barberi', 'Anopheles_crucians', 'Anopheles_earlei', 'Anopheles_freeborni', 'Anopheles_georgianus', 'Anopheles_occidentalis', 'Anopheles_franciscanus', 'Anopheles_punctipennis', 'Anopheles_walkeri', 'Toxorhynchites_rutilus', 'Wyeomyia_mitchellii', 'Wyeomyia_smithii', 'Wyeomyia_vanduzeei', 'Uranotaenia_anhydor', 'Uranotaenia_lowii', 'Uranotaenia_sapphirina', 'Culiseta_alaskaensis', 'Culiseta_impatiens', 'Culiseta_incidens', 'Culiseta_inornata', 'Culiseta_particeps', 'Culiseta_morsitans', 'Culiseta_melanura', 'Orthopodomyia_alba', 'Orthopodomyia_signifera', 'Mansonia_dyari', 'Mansonia_titillans', 'Coquillettidia_perturbans', 'Psorophora_ciliata', 'Psorophora_howardii', 'Psorophora_cyanescens', 'Psorophora_ferox', 'Psorophora_horrida', 'Psorophora_johnstonii', 'Psorophora_longipalpis', 'Psorophora_varipes', 'Psorophora_columbiae', 'Psorophora_discolor', 'Psorophora_pygmaea', 'Psorophora_signipennis', 'Aedes_aboriginis', 'Aedes_abserratus', 'Aedes_atlanticus', 'Aedes_aurifer', 'Aedes_bicristatus', 'Aedes_bimaculatus', 'Aedes_campestris', 'Aedes_canadensis', 'Aedes_cantator', 'Aedes_cataphylla', 'Aedes_communis', 'Aedes_decticus', 'Aedes_diantaeus', 'Aedes_dorsalis', 'Aedes_dupreei', 'Aedes_excrucians', 'Aedes_aegypti', 'Anopheles_albimanus', 'Anopheles_vestitipennis', 'Anopheles_grabhamii', 'Uranotaenia_socialis', 'Uranotaenia_cooki', 'Deinocerites_cancer', 'Culex_bahamensis', 'Culex_corniger', 'Culex_chidesteri', 'Culex_janitor', 'Culex_quinquefasciatus', 'Culex_atratus', 'Culex_erraticus', 'Culex_inhibitator', 'Culex_pilosus', 'Culex_arawak', 'Mansonia_flaveola', 'Orthopodomyia_waverleyi', 'Psorophora_infinis', 'Psorophora_jamaicensis', 'Psorophora_insularia', 'Aedes_pertinax', 'Aedes_hemisurus', 'Aedes_tortilis', 'Aedes_auratus', 'Aedes_calumnior', 'Aedes_mediovittatus', 'Aedes_walkeri', 'Aedes_aurites', 'Aedes_grabhami', 'Aedes_inaequalis', 'Aedes_stenei', 'Haemagogus_equinus', 'Wyeomyia_nigritubus', 'Wyeomyia_luna', 'Wyeomyia_stellata', 'Wyeomyia_corona', 'Wyeomyia_juxtahirsuta', 'Wyeomyia_hirsuta', 'Wyeomyia_atrata', 'Toxorhynchites_portoricensis', nan, 'Culex_rotoruae', 'Culex_asteliae', 'Culiseta_tonnoiri', 'Coquillettidia_tenuipalpis', 'Coquillettidia_iracunda', 'Aedes_zoosophus', 'Opifex_fuscus', 'Opifex_chathamicus', 'Aedes_australis', 'Aedes_antipodeus', 'Aedes_subalbirostris', 'Aedes_notoscriptus', 'Maorigoeldia_argyropus', 'Culex_albinervis', 'Culex_squamosus', 'Culex_bitaeniorhynchus', 'Culex_starckeae', 'Lutzia_halifaxii', 'Aedes_hendersoni', 'Aedes_brelandi', 'Aedes_triseriatus', 'Aedes_burgeri', 'Aedes_kompi', 'Aedes_schicki', 'Aedes_chionotum', 'Aedes_niveoscutum', 'Aedes_sandrae', 'Aedes_knabi', 'Aedes_purpureipes', 'Haemagogus_anastasionis', 'Haemagogus_chrysochlorus', 'Haemagogus_spegazzinii', 'Haemagogus_andinus', 'Haemagogus_nebulosus', 'Haemagogus_janthinomys', 'Haemagogus_capricornii', 'Haemagogus_mesodentatus', 'Haemagogus_albomaculatus', 'Haemagogus_panarchys', 'Haemagogus_soperi', 'Haemagogus_acutisentis', 'Haemagogus_tropicalis', 'Haemagogus_splendens', 'Haemagogus_celeste', 'Haemagogus_iridicolor', 'Haemagogus_aeritinctus', 'Haemagogus_regalis', 'Haemagogus_lucifer', 'Haemagogus_argyromeris', 'Haemagogus_chalcospilans', 'Haemagogus_boshelli', 'Orthopodomyia_pulcripalpis', 'Orthopodomyia_kummi', 'Orthopodomyia_albicosta', 'Orthopodomyia_fascipes', 'Orthopodomyia_sampaioi', 'Orthopodomyia_phyllozoa', 'Orthopodomyia_vernoni', 'Orthopodomyia_milloti', 'Orthopodomyia_arboricollis', 'Orthopodomyia_flavicosta', 'Orthopodomyia_flavithorax', 'Orthopodomyia_madrensis', 'Orthopodomyia_siamensis', 'Orthopodomyia_wilsoni', 'Orthopodomyia_albipes', 'Orthopodomyia_papuensis', 'Orthopodomyia_andamanensis', 'Orthopodomyia_anopheloides', 'Aedes_papago', 'Aedes_ramirezi', 'Haemagogus_leucotaeniatus', 'Haemagogus_leucocelaenus', 'Haemagogus_clarki', 'Aedes_flavescens', 'Aedes_grossbecki', 'Aedes_hexodontus', 'Aedes_idahoensis', 'Aedes_impiger', 'Aedes_implicatus', 'Aedes_increpitus', 'Aedes_infirmatus', 'Aedes_intrudens', 'Aedes_melanimon', 'Aedes_mitchellae', 'Aedes_nigripes', 'Aedes_nigromaculis', 'Aedes_niphadopsis', 'Aedes_pionips', 'Aedes_pullatus', 'Aedes_punctodes', 'Aedes_punctor', 'Aedes_rempeli', 'Aedes_riparius', 'Aedes_scapularis', 'Aedes_schizopinax', 'Aedes_sollicitans', 'Aedes_spencerii', 'Aedes_squamiger', 'Aedes_sticticus', 'Aedes_stimulans', 'Aedes_taeniorhynchus', 'Aedes_thelcter', 'Aedes_thibaulti', 'Aedes_tormentor', 'Aedes_provocans', 'Aedes_trivittatus', 'Aedes_ventrovittis', 'Aedes_atropalpus', 'Aedes_varipalpus', 'Aedes_vexans', 'Aedes_cinereus', 'Culex_coronator', 'Culex_erythrothorax', 'Culex_interrogator', 'Culex_nigripalpus', 'Culex_pipiens', 'Culex_restuans', 'Culex_salinarius', 'Culex_stigmatosoma', 'Culex_tarsalis', 'Culex_thriambus', 'Culex_virgultus', 'Culex_abominator', 'Culex_anips', 'Culex_iolambdis', 'Culex_mulrennani', 'Culex_taeniopus', 'Culex_peccator', 'Culex_apicalis', 'Culex_arizonensis', 'Culex_boharti', 'Culex_reevesi', 'Deinocerites_spanius', 'Anopheles_minimus', 'Anopheles_bengalensis', 'Anopheles_omorii', 'Anopheles_lindesayi', 'Anopheles_koreicus', 'Anopheles_saperoi', 'Anopheles_sinensis', 'Anopheles_engarensis', 'Anopheles_pullus', 'Anopheles_sineroides', 'Anopheles_lesteri', 'Mimomyia_luzonensis', 'Mimomyia_elegans', 'Culiseta_nipponica', 'Culiseta_bergrothi', 'Mansonia_uniformis', 'Coquillettidia_ochracea', 'Culex_fuscocephala', 'Culex_vagans', 'Culex_tritaeniorhynchus', 'Culex_pseudovishnui', 'Culex_sitiens', 'Culex_whitmorei', 'Culex_jacksoni', 'Culex_mimeticus', 'Culex_orientalis', 'Culex_boninensis', 'Culex_sinensis', 'Culex_rubensis', 'Culex_hayashii', 'Culex_okinawae', 'Culex_brevipalpis', 'Culex_infantulus', 'Culex_cinctellus', 'Culex_rubithoracis', 'Culex_bicornutus', 'Culex_tuberis', 'Culex_ryukyensis', 'Culex_nigropunctatus', 'Culex_pallidothorax', 'Culex_sasai', 'Culex_inatomii', 'Lutzia_fuscana', 'Lutzia_shinonagai', 'Anopheles_judithae', 'Heizmannia_lii', 'Anopheles_fausti', 'Aedes_vigilax', 'Anopheles_arboricola', 'Anopheles_xelajuensis', 'Anopheles_powderi', 'Aedes_muelleri', 'Aedes_fluviatilis', 'Aedes_hokkaidensis', 'Aedes_epactius', 'Aedes_japonicus', 'Aedes_hatorii', 'Aedes_togoi', 'Aedes_savoryi', 'Aedes_seoulensis', 'Aedes_albocinctus', 'Culex_belkini', 'Culex_perkinsi', 'Culex_papuensis', 'Culex_fragilis', 'Culex_pullus', 'Culex_femineus', 'Culex_cheesmanae', 'Culex_millironi', 'Culex_gaufini', 'Culex_leonardi', 'Culex_dumbletoni', 'Culex_atracus', 'Culex_lairdi', 'Culex_bergi', 'Culex_oweni', 'Culex_winkleri', 'Culex_laffooni', 'Culex_walukasi', 'Aedes_alektorovi', 'Aedes_aureostriatus', 'Aedes_okinawanus', 'Aedes_taiwanus', 'Aedes_koreicoides', 'Culex_becki', 'Culex_hurlbuti', 'Culex_perryi', 'Aedeomyia_catasticta', 'Hodgesia_solomonis', 'Mimomyia_solomonis', 'Mimomyia_bougainvillensis', 'Mimomyia_gurneyi', 'Aedes_nipponicus', 'Aedes_nishikawai', 'Aedes_oreophilus', 'Aedes_watasei', 'Aedes_riversi', 'Aedes_galloisi', 'Aedes_albopictus', 'Aedes_flavopictus', 'Aedes_wadai', 'Aedes_chemulpoensis', 'Aedes_alboscutellatus', 'Aedes_baisasi', 'Aedes_lineatopennis', 'Aedes_imprimens', 'Aedes_esoensis', 'Aedes_yamadai', 'Aedes_sasai', 'Verrallina_nobukonis', 'Verrallina_atriisimilis', 'Armigeres_subalbatus', 'Uranotaenia_jacksoni', 'Uranotaenia_ohamai', 'Uranotaenia_yaeyamana', 'Uranotaenia_novobscura', 'Uranotaenia_ryukyuana', 'Uranotaenia_nivipleura', 'Uranotaenia_annandalei', 'Uranotaenia_macfarlanei', 'Tripteroides_bambusa', 'Topomyia_yanbarensis', 'Malaya_genurostris', 'Toxorhynchites_manicatus', 'Toxorhynchites_towadensis', 'Toxorhynchites_christophi', 'Coquillettidia_fijiensis', 'Coquillettidia_lutea', 'Coquillettidia_xanthogaster', 'Mansonia_melanesiensis', 'Culex_spissipes', 'Culex_cedecei', 'Culex_ikelos', 'Culex_adamesi', 'Culex_crybda', 'Aedes_fulvithorax', 'Aedes_septemstriata', 'Aedes_arborealis', 'Aedes_argyrites', 'Aedes_ioliota', 'Aedes_cozumelensis', 'Aedes_albonotatus', 'Aedes_bahamensis', 'Aedes_busckii', 'Aedes_quadrivittatus', 'Aedes_lorraineae', 'Aedes_brevis', 'Aedes_spinosus', 'Aedes_sexlineatus', 'Aedes_whitmorei', 'Aedes_pseudodominicii', 'Aedes_allotecnon', 'Aedes_guerrero', 'Aedes_guatemala', 'Aedes_eleanorae', 'Aedes_marinkellei', 'Aedes_leei', 'Aedes_osornoi', 'Aedes_ecuadoriensis', 'Aedes_brevivittatus', 'Aedes_aurivittatus', 'Aedes_martinezi', 'Aedes_vanemdeni', 'Aedes_incomptus', 'Aedes_bogotanus', 'Aedes_deficiens', 'Aedes_atactavittatus', 'Aedes_angustivittatus', 'Aedes_euplocamus', 'Aedes_patersoni', 'Aedes_raymondi', 'Aedes_phaeonotus', 'Aedes_crinifer', 'Aedes_obturbator', 'Aedes_pectinatus']\n"
     ]
    }
   ],
   "source": [
    "# make relationship matrix\n",
    "\n",
    "unique_hab_list = habitat_abbv.Habitat_Classifier.unique().tolist()\n",
    "habitat_species_relationship = pd.DataFrame(columns=['Genus_Species'] + unique_hab_list)\n",
    "#print(habitat_species_relationship)\n",
    "total_habitat_types = len(unique_hab_list)\n",
    "\n",
    "species_list = []\n",
    "\n",
    "for i, j in enumerate(habitat_columns):\n",
    "    curr_hab = habitat_species_df[j].tolist()\n",
    "\n",
    "    for g, c in enumerate(curr_hab):\n",
    "\n",
    "        if c == 'None':\n",
    "            pass\n",
    "        else:\n",
    "            prop_spp = habitat_species_df.loc[g, 'Genus_Species']\n",
    "\n",
    "            if prop_spp not in species_list:\n",
    "                habs = [0] * total_habitat_types\n",
    "\n",
    "                habs[unique_hab_list.index(c)] = 1\n",
    "\n",
    "                habs.insert(0, prop_spp)\n",
    "\n",
    "                new_row = pd.Series({key: value for key, value in zip(habitat_species_relationship.columns, habs)})\n",
    "                habitat_species_relationship = pd.concat([habitat_species_relationship, new_row.to_frame().T], ignore_index=True)\n",
    "                species_list.append(prop_spp)\n",
    "\n",
    "            else:\n",
    "                try:\n",
    "                    indx = habitat_species_relationship.loc[habitat_species_relationship['Genus_Species'] == prop_spp].index[0]\n",
    "                    #print(indx)\n",
    "                    habitat_species_relationship.loc[indx, c] += 1\n",
    "                except:\n",
    "                    print(prop_spp)\n",
    "                    print(habitat_species_relationship['Genus_Species'].tolist())\n"
   ],
   "metadata": {
    "collapsed": false,
    "ExecuteTime": {
     "end_time": "2024-07-15T17:14:05.349046700Z",
     "start_time": "2024-07-15T17:14:01.070822500Z"
    }
   }
  },
  {
   "cell_type": "code",
   "execution_count": 112,
   "outputs": [
    {
     "name": "stdout",
     "output_type": "stream",
     "text": [
      "                   Genus_Species AC ALG ATR BAM BOG BP BRK BWP CEM  ... SWB  \\\n",
      "0              Anopheles_farauti  3   0   0   0   0  0   0   1   0  ...   0   \n",
      "1          Anopheles_punctulatus  0   0   2   0   0  0   0   0   0  ...   0   \n",
      "2            Anopheles_koliensis  0   0   1   0   0  0   0   0   0  ...   0   \n",
      "3             Anopheles_nataliae  0   0   0   0   0  0   0   0   0  ...   0   \n",
      "4            Anopheles_solomonis  0   0   0   0   0  0   1   0   0  ...   0   \n",
      "...                          ... ..  ..  ..  ..  .. ..  ..  ..  ..  ...  ..   \n",
      "1993  Trichoprosopon_vonplesseni  0   0   0   1   0  0   0   0   0  ...   0   \n",
      "1994    Shannoniana_schedocyclia  0   0   0   1   0  0   0   0   0  ...   0   \n",
      "1995               Culex_marksae  0   0   0   0   0  0   0   0   0  ...   0   \n",
      "1996           Aedes_formosensis  0   0   0   1   0  0   0   0   0  ...   0   \n",
      "1997              Culex_usquatus  1   0   0   0   0  0   0   0   0  ...   0   \n",
      "\n",
      "     SWG TH TSTM VEG VLC VTR SUM UNIQUE_SUM PROPORTION  \n",
      "0      0  0    0   0   0   0  25         16   0.202532  \n",
      "1      0  0    0   0   0   1  17         10   0.126582  \n",
      "2      0  0    0   0   0   1  10          9   0.113924  \n",
      "3      0  0    0   0   0   0  10          5   0.063291  \n",
      "4      0  0    0   0   0   0  17         11   0.139241  \n",
      "...   .. ..  ...  ..  ..  ..  ..        ...        ...  \n",
      "1993   0  0    0   0   0   0   1          1   0.012658  \n",
      "1994   0  0    0   0   0   0   1          1   0.012658  \n",
      "1995   0  1    0   0   0   0   2          2   0.025316  \n",
      "1996   0  0    0   0   0   0   1          1   0.012658  \n",
      "1997   0  0    0   0   0   0   1          1   0.012658  \n",
      "\n",
      "[1997 rows x 83 columns]\n",
      "{0: 'Anopheles_farauti', 1: 'Anopheles_punctulatus', 2: 'Anopheles_koliensis', 3: 'Anopheles_nataliae', 4: 'Anopheles_solomonis', 5: 'Uranotaenia_painei', 6: 'Uranotaenia_wysockii', 7: 'Uranotaenia_sexaueri', 8: 'Uranotaenia_civinskii', 9: 'Uranotaenia_lateralis', 10: 'Uranotaenia_solomonis', 11: 'Culex_pervigilans', 12: 'Culex_pacificus', 13: 'Culex_iyengari', 14: 'Culex_australicus', 15: 'Culex_atriceps', 16: 'Culex_kesseli', 17: 'Culex_roseni', 18: 'Culex_omani', 19: 'Anopheles_atropos', 20: 'Anopheles_barberi', 21: 'Anopheles_crucians', 22: 'Anopheles_earlei', 23: 'Anopheles_freeborni', 24: 'Anopheles_georgianus', 25: 'Anopheles_occidentalis', 26: 'Anopheles_franciscanus', 27: 'Anopheles_punctipennis', 28: 'Anopheles_walkeri', 29: 'Toxorhynchites_rutilus', 30: 'Wyeomyia_mitchellii', 31: 'Wyeomyia_smithii', 32: 'Wyeomyia_vanduzeei', 33: 'Uranotaenia_anhydor', 34: 'Uranotaenia_lowii', 35: 'Uranotaenia_sapphirina', 36: 'Culiseta_alaskaensis', 37: 'Culiseta_impatiens', 38: 'Culiseta_incidens', 39: 'Culiseta_inornata', 40: 'Culiseta_particeps', 41: 'Culiseta_morsitans', 42: 'Culiseta_melanura', 43: 'Orthopodomyia_alba', 44: 'Orthopodomyia_signifera', 45: 'Mansonia_dyari', 46: 'Mansonia_titillans', 47: 'Coquillettidia_perturbans', 48: 'Psorophora_ciliata', 49: 'Psorophora_howardii', 50: 'Psorophora_cyanescens', 51: 'Psorophora_ferox', 52: 'Psorophora_horrida', 53: 'Psorophora_johnstonii', 54: 'Psorophora_longipalpis', 55: 'Psorophora_varipes', 56: 'Psorophora_columbiae', 57: 'Psorophora_discolor', 58: 'Psorophora_pygmaea', 59: 'Psorophora_signipennis', 60: 'Aedes_aboriginis', 61: 'Aedes_abserratus', 62: 'Aedes_atlanticus', 63: 'Aedes_aurifer', 64: 'Aedes_bicristatus', 65: 'Aedes_bimaculatus', 66: 'Aedes_campestris', 67: 'Aedes_canadensis', 68: 'Aedes_cantator', 69: 'Aedes_cataphylla', 70: 'Aedes_communis', 71: 'Aedes_decticus', 72: 'Aedes_diantaeus', 73: 'Aedes_dorsalis', 74: 'Aedes_dupreei', 75: 'Aedes_excrucians', 76: 'Aedes_aegypti', 77: 'Anopheles_albimanus', 78: 'Anopheles_vestitipennis', 79: 'Anopheles_grabhamii', 80: 'Uranotaenia_socialis', 81: 'Uranotaenia_cooki', 82: 'Deinocerites_cancer', 83: 'Culex_bahamensis', 84: 'Culex_corniger', 85: 'Culex_chidesteri', 86: 'Culex_janitor', 87: 'Culex_quinquefasciatus', 88: 'Culex_atratus', 89: 'Culex_erraticus', 90: 'Culex_inhibitator', 91: 'Culex_pilosus', 92: 'Culex_arawak', 93: 'Mansonia_flaveola', 94: 'Orthopodomyia_waverleyi', 95: 'Psorophora_infinis', 96: 'Psorophora_jamaicensis', 97: 'Psorophora_insularia', 98: 'Aedes_pertinax', 99: 'Aedes_hemisurus', 100: 'Aedes_tortilis', 101: 'Aedes_auratus', 102: 'Aedes_calumnior', 103: 'Aedes_mediovittatus', 104: 'Aedes_walkeri', 105: 'Aedes_aurites', 106: 'Aedes_grabhami', 107: 'Aedes_inaequalis', 108: 'Aedes_stenei', 109: 'Haemagogus_equinus', 110: 'Wyeomyia_nigritubus', 111: 'Wyeomyia_luna', 112: 'Wyeomyia_stellata', 113: 'Wyeomyia_corona', 114: 'Wyeomyia_juxtahirsuta', 115: 'Wyeomyia_hirsuta', 116: 'Wyeomyia_atrata', 117: 'Toxorhynchites_portoricensis', 119: 'Culex_rotoruae', 120: 'Culex_asteliae', 121: 'Culiseta_tonnoiri', 122: 'Coquillettidia_tenuipalpis', 123: 'Coquillettidia_iracunda', 124: 'Aedes_zoosophus', 125: 'Opifex_fuscus', 126: 'Opifex_chathamicus', 127: 'Aedes_australis', 128: 'Aedes_antipodeus', 129: 'Aedes_subalbirostris', 130: 'Aedes_notoscriptus', 131: 'Maorigoeldia_argyropus', 132: 'Culex_albinervis', 133: 'Culex_squamosus', 134: 'Culex_bitaeniorhynchus', 135: 'Culex_starckeae', 136: 'Lutzia_halifaxii', 137: 'Aedes_hendersoni', 138: 'Aedes_brelandi', 139: 'Aedes_triseriatus', 140: 'Aedes_burgeri', 141: 'Aedes_kompi', 142: 'Aedes_schicki', 143: 'Aedes_chionotum', 144: 'Aedes_niveoscutum', 145: 'Aedes_sandrae', 146: 'Aedes_knabi', 147: 'Aedes_purpureipes', 148: 'Haemagogus_anastasionis', 149: 'Haemagogus_chrysochlorus', 150: 'Haemagogus_spegazzinii', 151: 'Haemagogus_andinus', 152: 'Haemagogus_nebulosus', 153: 'Haemagogus_janthinomys', 154: 'Haemagogus_capricornii', 155: 'Haemagogus_mesodentatus', 156: 'Haemagogus_albomaculatus', 157: 'Haemagogus_panarchys', 158: 'Haemagogus_soperi', 159: 'Haemagogus_acutisentis', 160: 'Haemagogus_tropicalis', 161: 'Haemagogus_splendens', 162: 'Haemagogus_celeste', 163: 'Haemagogus_iridicolor', 164: 'Haemagogus_aeritinctus', 165: 'Haemagogus_regalis', 166: 'Haemagogus_lucifer', 167: 'Haemagogus_argyromeris', 168: 'Haemagogus_chalcospilans', 169: 'Haemagogus_boshelli', 170: 'Orthopodomyia_pulcripalpis', 171: 'Orthopodomyia_kummi', 172: 'Orthopodomyia_albicosta', 173: 'Orthopodomyia_fascipes', 174: 'Orthopodomyia_sampaioi', 175: 'Orthopodomyia_phyllozoa', 176: 'Orthopodomyia_vernoni', 177: 'Orthopodomyia_milloti', 178: 'Orthopodomyia_arboricollis', 179: 'Orthopodomyia_flavicosta', 180: 'Orthopodomyia_flavithorax', 181: 'Orthopodomyia_madrensis', 182: 'Orthopodomyia_siamensis', 183: 'Orthopodomyia_wilsoni', 184: 'Orthopodomyia_albipes', 185: 'Orthopodomyia_papuensis', 186: 'Orthopodomyia_andamanensis', 187: 'Orthopodomyia_anopheloides', 188: 'Aedes_papago', 189: 'Aedes_ramirezi', 190: 'Haemagogus_leucotaeniatus', 191: 'Haemagogus_leucocelaenus', 192: 'Haemagogus_clarki', 193: 'Aedes_flavescens', 194: 'Aedes_grossbecki', 195: 'Aedes_hexodontus', 196: 'Aedes_idahoensis', 197: 'Aedes_impiger', 198: 'Aedes_implicatus', 199: 'Aedes_increpitus', 200: 'Aedes_infirmatus', 201: 'Aedes_intrudens', 202: 'Aedes_melanimon', 203: 'Aedes_mitchellae', 204: 'Aedes_nigripes', 205: 'Aedes_nigromaculis', 206: 'Aedes_niphadopsis', 207: 'Aedes_pionips', 208: 'Aedes_pullatus', 209: 'Aedes_punctodes', 210: 'Aedes_punctor', 211: 'Aedes_rempeli', 212: 'Aedes_riparius', 213: 'Aedes_scapularis', 214: 'Aedes_schizopinax', 215: 'Aedes_sollicitans', 216: 'Aedes_spencerii', 217: 'Aedes_squamiger', 218: 'Aedes_sticticus', 219: 'Aedes_stimulans', 220: 'Aedes_taeniorhynchus', 221: 'Aedes_thelcter', 222: 'Aedes_thibaulti', 223: 'Aedes_tormentor', 224: 'Aedes_provocans', 225: 'Aedes_trivittatus', 226: 'Aedes_ventrovittis', 227: 'Aedes_atropalpus', 228: 'Aedes_varipalpus', 229: 'Aedes_vexans', 230: 'Aedes_cinereus', 231: 'Culex_coronator', 232: 'Culex_erythrothorax', 233: 'Culex_interrogator', 234: 'Culex_nigripalpus', 235: 'Culex_pipiens', 236: 'Culex_restuans', 237: 'Culex_salinarius', 238: 'Culex_stigmatosoma', 239: 'Culex_tarsalis', 240: 'Culex_thriambus', 241: 'Culex_virgultus', 242: 'Culex_abominator', 243: 'Culex_anips', 244: 'Culex_iolambdis', 245: 'Culex_mulrennani', 246: 'Culex_taeniopus', 247: 'Culex_peccator', 248: 'Culex_apicalis', 249: 'Culex_arizonensis', 250: 'Culex_boharti', 251: 'Culex_reevesi', 252: 'Deinocerites_spanius', 253: 'Anopheles_minimus', 254: 'Anopheles_bengalensis', 255: 'Anopheles_omorii', 256: 'Anopheles_lindesayi', 257: 'Anopheles_koreicus', 258: 'Anopheles_saperoi', 259: 'Anopheles_sinensis', 260: 'Anopheles_engarensis', 261: 'Anopheles_pullus', 262: 'Anopheles_sineroides', 263: 'Anopheles_lesteri', 264: 'Mimomyia_luzonensis', 265: 'Mimomyia_elegans', 266: 'Culiseta_nipponica', 267: 'Culiseta_bergrothi', 268: 'Mansonia_uniformis', 269: 'Coquillettidia_ochracea', 270: 'Culex_fuscocephala', 271: 'Culex_vagans', 272: 'Culex_tritaeniorhynchus', 273: 'Culex_pseudovishnui', 274: 'Culex_sitiens', 275: 'Culex_whitmorei', 276: 'Culex_jacksoni', 277: 'Culex_mimeticus', 278: 'Culex_orientalis', 279: 'Culex_boninensis', 280: 'Culex_sinensis', 281: 'Culex_rubensis', 282: 'Culex_hayashii', 283: 'Culex_okinawae', 284: 'Culex_brevipalpis', 285: 'Culex_infantulus', 286: 'Culex_cinctellus', 287: 'Culex_rubithoracis', 288: 'Culex_bicornutus', 289: 'Culex_tuberis', 290: 'Culex_ryukyensis', 291: 'Culex_nigropunctatus', 292: 'Culex_pallidothorax', 293: 'Culex_sasai', 294: 'Culex_inatomii', 295: 'Lutzia_fuscana', 296: 'Lutzia_shinonagai', 297: 'Anopheles_judithae', 298: 'Heizmannia_lii', 299: 'Anopheles_fausti', 300: 'Aedes_vigilax', 301: 'Anopheles_arboricola', 302: 'Anopheles_xelajuensis', 303: 'Anopheles_powderi', 304: 'Aedes_muelleri', 305: 'Aedes_fluviatilis', 306: 'Aedes_hokkaidensis', 307: 'Aedes_epactius', 308: 'Aedes_japonicus', 309: 'Aedes_hatorii', 310: 'Aedes_togoi', 311: 'Aedes_savoryi', 312: 'Aedes_seoulensis', 313: 'Aedes_albocinctus', 314: 'Culex_belkini', 315: 'Culex_perkinsi', 316: 'Culex_papuensis', 317: 'Culex_fragilis', 318: 'Culex_pullus', 319: 'Culex_femineus', 320: 'Culex_cheesmanae', 321: 'Culex_millironi', 322: 'Culex_gaufini', 323: 'Culex_leonardi', 324: 'Culex_dumbletoni', 325: 'Culex_atracus', 326: 'Culex_lairdi', 327: 'Culex_bergi', 328: 'Culex_oweni', 329: 'Culex_winkleri', 330: 'Culex_laffooni', 331: 'Culex_walukasi', 332: 'Aedes_alektorovi', 333: 'Aedes_aureostriatus', 334: 'Aedes_okinawanus', 335: 'Aedes_taiwanus', 336: 'Aedes_koreicoides', 337: 'Culex_becki', 338: 'Culex_hurlbuti', 339: 'Culex_perryi', 340: 'Aedeomyia_catasticta', 341: 'Hodgesia_solomonis', 342: 'Mimomyia_solomonis', 343: 'Mimomyia_bougainvillensis', 344: 'Mimomyia_gurneyi', 345: 'Aedes_nipponicus', 346: 'Aedes_nishikawai', 347: 'Aedes_oreophilus', 348: 'Aedes_watasei', 349: 'Aedes_riversi', 350: 'Aedes_galloisi', 351: 'Aedes_albopictus', 352: 'Aedes_flavopictus', 353: 'Aedes_wadai', 354: 'Aedes_chemulpoensis', 355: 'Aedes_alboscutellatus', 356: 'Aedes_baisasi', 357: 'Aedes_lineatopennis', 358: 'Aedes_imprimens', 359: 'Aedes_esoensis', 360: 'Aedes_yamadai', 361: 'Aedes_sasai', 362: 'Verrallina_nobukonis', 363: 'Verrallina_atriisimilis', 364: 'Armigeres_subalbatus', 365: 'Uranotaenia_jacksoni', 366: 'Uranotaenia_ohamai', 367: 'Uranotaenia_yaeyamana', 368: 'Uranotaenia_novobscura', 369: 'Uranotaenia_ryukyuana', 370: 'Uranotaenia_nivipleura', 371: 'Uranotaenia_annandalei', 372: 'Uranotaenia_macfarlanei', 373: 'Tripteroides_bambusa', 374: 'Topomyia_yanbarensis', 375: 'Malaya_genurostris', 376: 'Toxorhynchites_manicatus', 377: 'Toxorhynchites_towadensis', 378: 'Toxorhynchites_christophi', 379: 'Coquillettidia_fijiensis', 380: 'Coquillettidia_lutea', 381: 'Coquillettidia_xanthogaster', 382: 'Mansonia_melanesiensis', 383: 'Culex_spissipes', 384: 'Culex_cedecei', 385: 'Culex_ikelos', 386: 'Culex_adamesi', 387: 'Culex_crybda', 388: 'Aedes_fulvithorax', 389: 'Aedes_septemstriata', 390: 'Aedes_arborealis', 391: 'Aedes_argyrites', 392: 'Aedes_ioliota', 393: 'Aedes_cozumelensis', 394: 'Aedes_albonotatus', 395: 'Aedes_bahamensis', 396: 'Aedes_busckii', 397: 'Aedes_quadrivittatus', 398: 'Aedes_lorraineae', 399: 'Aedes_brevis', 400: 'Aedes_spinosus', 401: 'Aedes_sexlineatus', 402: 'Aedes_whitmorei', 403: 'Aedes_pseudodominicii', 404: 'Aedes_allotecnon', 405: 'Aedes_guerrero', 406: 'Aedes_guatemala', 407: 'Aedes_eleanorae', 408: 'Aedes_marinkellei', 409: 'Aedes_leei', 410: 'Aedes_osornoi', 411: 'Aedes_ecuadoriensis', 412: 'Aedes_brevivittatus', 413: 'Aedes_aurivittatus', 414: 'Aedes_martinezi', 415: 'Aedes_vanemdeni', 416: 'Aedes_incomptus', 417: 'Aedes_bogotanus', 418: 'Aedes_deficiens', 419: 'Aedes_atactavittatus', 420: 'Aedes_angustivittatus', 421: 'Aedes_euplocamus', 422: 'Aedes_patersoni', 423: 'Aedes_raymondi', 424: 'Aedes_phaeonotus', 425: 'Aedes_crinifer', 426: 'Aedes_obturbator', 427: 'Aedes_pectinatus', 428: 'Culex_bisulcatus', 429: 'Culex_antillummagnorum', 430: 'Culex_schicki', 431: 'Culex_sandrae', 432: 'Culex_erethyzonfer', 433: 'Aedes_mascarensis', 434: 'Aedes_africanus', 435: 'Aedes_corneti', 436: 'Aedes_luteocephalus', 437: 'Aedes_maxgermaini', 438: 'Aedes_neoafricanus', 439: 'Aedes_opok', 440: 'Aedes_pseudoafricanus', 441: 'Aedes_ruwenzori', 442: 'Aedes_apicoargenteus', 443: 'Aedes_blacklocki', 444: 'Aedes_denderensis', 445: 'Aedes_ealaensis', 446: 'Aedes_fraseri', 447: 'Aedes_schwetzi', 448: 'Aedes_soleatus', 449: 'Aedes_amaltheus', 450: 'Aedes_bambusae', 451: 'Aedes_deboeri', 452: 'Aedes_demeilloni', 453: 'Aedes_dendrophilus', 454: 'Aedes_hansfordi', 455: 'Aedes_heischi', 456: 'Aedes_keniensis', 457: 'Aedes_kenyae', 458: 'Aedes_masseyi', 459: 'Aedes_mattinglyorum', 460: 'Aedes_muroafcete', 461: 'Aedes_njombiensis', 462: 'Aedes_segermanae', 463: 'Aedes_metallicus', 464: 'Aedes_angustus', 465: 'Aedes_calceatus', 466: 'Aedes_chaussieri', 467: 'Aedes_contiguus', 468: 'Aedes_ethiopiensis', 469: 'Aedes_hogsbackensis', 470: 'Aedes_langata', 471: 'Aedes_ledgeri', 472: 'Aedes_mpusiensis', 473: 'Aedes_poweri', 474: 'Aedes_usambara', 475: 'Aedes_mickevichae', 476: 'Aedes_pseudonigeria', 477: 'Aedes_saimedres', 478: 'Aedes_bromeliae', 479: 'Aedes_gandaensis', 480: 'Aedes_josiahae', 481: 'Aedes_kivuensis', 482: 'Aedes_lilii', 483: 'Aedes_sampi', 484: 'Aedes_simpsoni', 485: 'Aedes_strelitziae', 486: 'Aedes_subargenteus', 487: 'Aedes_woodi', 488: 'Aedes_grantii', 489: 'Aedes_unilineatus', 490: 'Aedeomyia_venustipes', 491: 'Aedes_caecus', 492: 'Aedes_lowisii', 493: 'Aedes_calabyi', 494: 'Aedes_elchoensis', 495: 'Aedes_tulliae', 496: 'Aedes_wattensis', 497: 'Aedes_chionodes', 498: 'Aedes_albilabris', 499: 'Aedes_alboannulatus', 500: 'Aedes_alocasicola', 501: 'Aedes_alticola', 502: 'Aedes_argenteitarsis', 503: 'Aedes_argyronotum', 504: 'Aedes_auridorsum', 505: 'Aedes_australiensis', 506: 'Aedes_avistylus', 507: 'Aedes_biocellatus', 508: 'Aedes_bougainvillensis', 509: 'Aedes_britteni', 510: 'Aedes_burnetti', 511: 'Aedes_buxtoni', 512: 'Aedes_candidoscutellum', 513: 'Aedes_derooki', 514: 'Aedes_dobodurus', 515: 'Aedes_dobrotworskyi', 516: 'Aedes_fijiensis', 517: 'Aedes_flavipennis', 518: 'Aedes_franclemonti', 519: 'Aedes_freycinetiae', 520: 'Aedes_fuscipalpis', 521: 'Aedes_fuscitarsis', 522: 'Aedes_gahnicola', 523: 'Aedes_gani', 524: 'Aedes_gracilelineatus', 525: 'Aedes_hollandius', 526: 'Aedes_hollingsheadi', 527: 'Aedes_josephinae', 528: 'Aedes_keefei', 529: 'Aedes_knighti', 530: 'Aedes_kochi', 531: 'Aedes_lauriei', 532: 'Aedes_mackerrasi', 533: 'Aedes_maffii', 534: 'Aedes_mallochi', 535: 'Aedes_milsoni', 536: 'Aedes_monocellatus', 537: 'Aedes_neogeorgianus', 538: 'Aedes_novalbitarsis', 539: 'Aedes_occidentalis', 540: 'Aedes_oceanicus', 541: 'Aedes_palmarum', 542: 'Aedes_papuensis', 543: 'Aedes_plumiferus', 544: 'Aedes_poicilius', 545: 'Aedes_purpureus', 546: 'Aedes_quasirubithorax', 547: 'Aedes_quinquelineatus', 548: 'Aedes_roai', 549: 'Aedes_rubiginosus', 550: 'Aedes_rubrithorax', 551: 'Aedes_rupestris', 552: 'Aedes_samoanus', 553: 'Aedes_schlosseri', 554: 'Aedes_solomonis', 555: 'Aedes_stanleyi', 556: 'Aedes_subalbitarsis', 557: 'Aedes_subauridorsum', 558: 'Aedes_subbasalis', 559: 'Aedes_tsiliensis', 560: 'Aedes_tubbutiensis', 561: 'Aedes_tutuilae', 562: 'Aedes_wallacei', 563: 'Aedes_wasselli', 564: 'Aedes_becki', 565: 'Aedes_daggyi', 566: 'Aedes_fimbripes', 567: 'Aedes_longiforceps', 568: 'Aedes_lunulatus', 569: 'Aedes_ashworthi', 570: 'Aedes_medialis', 571: 'Aedes_wauensis', 572: 'Aedes_aurimargo', 573: 'Aedes_geoskusea', 574: 'Aedes_dasyorrhus', 575: 'Aedes_lamelliferus', 576: 'Aedes_littlechildi', 577: 'Aedes_tremulus', 578: 'Culex_epanatasis', 579: 'Culex_delpontei', 580: 'Culex_pereyrai', 581: 'Culex_vomerifer', 582: 'Culex_sacchettae', 583: 'Culex_ocossa', 584: 'Culex_panocossa', 585: 'Culex_simulator', 586: 'Culex_jubifer', 587: 'Culex_lopesi', 588: 'Culex_faurani', 589: 'Aedes_alternans', 590: 'Aedes_aurantius', 591: 'Aedes_nigrescens', 592: 'Aedes_aculeatus', 593: 'Aedes_burpengaryensis', 594: 'Aedes_calcariae', 595: 'Aedes_clelandi', 596: 'Aedes_continentalis', 597: 'Aedes_cunabulanus', 598: 'Aedes_edgari', 599: 'Aedes_eidsvoldensis', 600: 'Aedes_explorator', 601: 'Aedes_flavifrons', 602: 'Aedes_hodgkini', 603: 'Aedes_imperfectus', 604: 'Aedes_linesi', 605: 'Aedes_luteifemur', 606: 'Aedes_macintoshi', 607: 'Aedes_mcdonaldi', 608: 'Aedes_nigrithorax', 609: 'Aedes_nivalis', 610: 'Aedes_normanensis', 611: 'Aedes_perkinsi', 612: 'Aedes_procax', 613: 'Aedes_pseudonormanensis', 614: 'Aedes_purpuriventris', 615: 'Aedes_ratcliffei', 616: 'Aedes_sagax', 617: 'Aedes_sapiens', 618: 'Aedes_silvestris', 619: 'Aedes_spilotus', 620: 'Aedes_stricklandi', 621: 'Aedes_theobaldi', 622: 'Aedes_vittiger', 623: 'Aedes_ostentatio', 624: 'Aedes_bancroftianus', 625: 'Aedes_culiciformis', 626: 'Aedes_multiplex', 627: 'Aedes_postspiraculosus', 628: 'Aedes_longirostris', 629: 'Aedes_albolineatus', 630: 'Aedes_annandalei', 631: 'Aedes_aobae', 632: 'Aedes_cooki', 633: 'Aedes_futunae', 634: 'Aedes_gurneyi', 635: 'Aedes_hebrideus', 636: 'Aedes_hensilli', 637: 'Aedes_hoguei', 638: 'Aedes_horrescens', 639: 'Aedes_katherinensis', 640: 'Aedes_kesseli', 641: 'Aedes_paullusi', 642: 'Aedes_pernotatus', 643: 'Aedes_polynesiensis', 644: 'Aedes_pseudoscutellaris', 645: 'Aedes_quasiscutellaris', 646: 'Aedes_robinsoni', 647: 'Aedes_rotumae', 648: 'Aedes_scutellaris', 649: 'Aedes_tabu', 650: 'Aedes_tongae', 651: 'Aedes_tulagiensis', 652: 'Aedes_upolensis', 653: 'Aedes_varuae', 654: 'Verrallina_butleri', 655: 'Verrallina_carmenti', 656: 'Verrallina_cuccioi', 657: 'Verrallina_bancrofti', 658: 'Verrallina_embiensis', 659: 'Verrallina_foliformis', 660: 'Verrallina_funerea', 661: 'Verrallina_leilae', 662: 'Verrallina_lineata', 663: 'Verrallina_macrodixoa', 664: 'Verrallina_multifolium', 665: 'Verrallina_neomacrodixoa', 666: 'Verrallina_panayensis', 667: 'Verrallina_parasimilis', 668: 'Verrallina_quadrifolium', 669: 'Verrallina_quadrispinata', 670: 'Verrallina_reesi', 671: 'Verrallina_sentania', 672: 'Verrallina_similis', 673: 'Verrallina_trispinata', 674: 'Verrallina_vanapa', 675: 'Verrallina_variabilis', 676: 'Anopheles_argyropus', 677: 'Anopheles_atratipes', 678: 'Anopheles_baezai', 679: 'Anopheles_bancroftii', 680: 'Anopheles_barbirostris', 681: 'Anopheles_colledgei', 682: 'Anopheles_corethroides', 683: 'Anopheles_insulaeflorum', 684: 'Anopheles_nigerrimus', 685: 'Anopheles_palmatus', 686: 'Anopheles_papuensis', 687: 'Anopheles_pilinotum', 688: 'Anopheles_powelli', 689: 'Anopheles_pseudobarbirostris', 690: 'Anopheles_pseudostigmaticus', 691: 'Anopheles_separatus', 692: 'Anopheles_stigmaticus', 693: 'Anopheles_tasmaniensis', 694: 'Anopheles_vanus', 695: 'Anopheles_aconitus', 696: 'Anopheles_amictus', 697: 'Anopheles_annularis', 698: 'Anopheles_annulatus', 699: 'Anopheles_annulipes', 700: 'Anopheles_clowi', 701: 'Anopheles_flavirostris', 702: 'Anopheles_hilli', 703: 'Anopheles_karwari', 704: 'Anopheles_longirostris', 705: 'Anopheles_ludlowae', 706: 'Anopheles_lungae', 707: 'Anopheles_maculatus', 708: 'Anopheles_meraukensis', 709: 'Anopheles_novaguinensis', 710: 'Anopheles_parangensis', 711: 'Anopheles_subpictus', 712: 'Anopheles_sundaicus', 713: 'Anopheles_tessellatus', 714: 'Anopheles_vagus', 715: 'Armigeres_breinli', 716: 'Armigeres_denbesteni', 717: 'Armigeres_lacuum', 718: 'Armigeres_malayi', 719: 'Armigeres_milnensis', 720: 'Armigeres_obturbans', 721: 'Armigeres_papuensis', 722: 'Armigeres_annulipalpis', 723: 'Bironella_simmondsi', 724: 'Bironella_hollandi', 725: 'Bironella_obscura', 726: 'Bironella_travestita', 727: 'Bironella_confusa', 728: 'Bironella_papuae', 729: 'Bironella_derooki', 730: 'Coquillettidia_crassipes', 731: 'Culex_axillicola', 732: 'Culex_bicki', 733: 'Culex_binigrolineatus', 734: 'Culex_bougainvillensis', 735: 'Culex_alis', 736: 'Culex_annulirostris', 737: 'Anopheles_darlingi', 738: 'Anopheles_allopha', 739: 'Anopheles_braziliensis', 740: 'Anopheles_galvaoi', 741: 'Anopheles_aquasalis', 742: 'Anopheles_ininii', 743: 'Anopheles_rangeli', 744: 'Anopheles_nuneztovari', 745: 'Anopheles_strodei', 746: 'Culex_banksensis', 747: 'Culex_crinicauda', 748: 'Culex_edwardsi', 749: 'Anopheles_rondoni', 750: 'Anopheles_benarrochi', 751: 'Anopheles_triannulatus', 752: 'Anopheles_argyritarsis', 753: 'Culex_gelidus', 754: 'Culex_globocoxitus', 755: 'Culex_incognitus', 756: 'Culex_marquesensis', 757: 'Culex_mimulus', 758: 'Culex_miraculosus', 759: 'Culex_palpalis', 760: 'Culex_perplexus', 761: 'Uranotaenia_apicalis', 762: 'Uranotaenia_briseis', 763: 'Uranotaenia_calosomata', 764: 'Uranotaenia_incognita', 765: 'Uranotaenia_nataliae', 766: 'Uranotaenia_telmatophila', 767: 'Culex_solitarius', 768: 'Culex_toviiensis', 769: 'Culex_vicinus', 770: 'Culex_vishnui', 771: 'Culex_whitei', 772: 'Culex_whittingtoni', 773: 'Culex_bailyi', 774: 'Culex_ceramensis', 775: 'Culex_nailoni', 776: 'Culex_spathifurca', 777: 'Culex_cataractarum', 778: 'Culex_foliatus', 779: 'Culex_laureli', 780: 'Culex_malayi', 781: 'Culex_manusensis', 782: 'Culex_alorensis', 783: 'Culex_bandoengensis', 784: 'Culex_buxtoni', 785: 'Culex_castaneus', 786: 'Culex_christiani', 787: 'Culex_collessi', 788: 'Culex_cottlei', 789: 'Culex_crowei', 790: 'Culex_cubiculi', 791: 'Culex_cubitatus', 792: 'Culex_cylindricus', 793: 'Culex_digoelensis', 794: 'Culex_fraudatrix', 795: 'Culex_gressitti', 796: 'Culex_hilli', 797: 'Culex_insequens', 798: 'Culex_insularis', 799: 'Culex_kaviengensis', 800: 'Culex_kowiroensis', 801: 'Culex_kuhnsi', 802: 'Culex_lakei', 803: 'Culex_leei', 804: 'Culex_minor', 805: 'Culex_muruae', 806: 'Culex_orbostiensis', 807: 'Culex_gagnei', 808: 'Culex_petersi', 809: 'Culex_pseudornatus', 810: 'Culex_rajaneeae', 811: 'Culex_schilfgaardei', 812: 'Culex_shanahani', 813: 'Culex_solomonis', 814: 'Culex_steffani', 815: 'Culex_submarginalis', 816: 'Culex_versabilis', 817: 'Culex_wamanguae', 818: 'Culex_chaetoventralis', 819: 'Culex_douglasi', 820: 'Culex_fergusoni', 821: 'Culex_postspiraculosus', 822: 'Culex_pseudomelanoconia', 823: 'Culiseta_littleri', 824: 'Culiseta_antipodea', 825: 'Culiseta_novaezealandiae', 826: 'Aedes_bonneae', 827: 'Aedes_collessi', 828: 'Aedes_thailandensis', 829: 'Anopheles_evansae', 830: 'Culiseta_atra', 831: 'Culiseta_drummondi', 832: 'Culiseta_inconspicua', 833: 'Culiseta_otwayensis', 834: 'Culiseta_sylvanensis', 835: 'Culiseta_victoriensis', 836: 'Culiseta_weindorferi', 837: 'Culiseta_frenchii', 838: 'Culiseta_hilli', 839: 'Ficalbia_minima', 840: 'Hodgesia_cairnsensis', 841: 'Hodgesia_malayi', 842: 'Hodgesia_quasisanguinae', 843: 'Hodgesia_spoliata', 844: 'Malaya_leei', 845: 'Malaya_solomonis', 846: 'Mansonia_annulifera', 847: 'Mansonia_dives', 848: 'Mansonia_septempunctata', 849: 'Mimomyia_chamberlaini', 850: 'Mimomyia_modesta', 851: 'Topomyia_papuensis', 852: 'Toxorhynchites_amboinensis', 853: 'Toxorhynchites_brevipalpis', 854: 'Toxorhynchites_inornatus', 855: 'Toxorhynchites_nepenthicola', 856: 'Toxorhynchites_speciosus', 857: 'Toxorhynchites_splendens', 858: 'Tripteroides_apicotriangulatus', 859: 'Tripteroides_argenteiventris', 860: 'Tripteroides_atripes', 861: 'Tripteroides_caledonicus', 862: 'Tripteroides_coheni', 863: 'Tripteroides_collessi', 864: 'Tripteroides_digoelensis', 865: 'Tripteroides_floridensis', 866: 'Tripteroides_folicola', 867: 'Tripteroides_marksae', 868: 'Tripteroides_melanesiensis', 869: 'Tripteroides_microlepis', 870: 'Tripteroides_perplexus', 871: 'Tripteroides_punctolateralis', 872: 'Tripteroides_rotumanus', 873: 'Tripteroides_solomonis', 874: 'Tripteroides_standfasti', 875: 'Tripteroides_tasmaniensis', 876: 'Tripteroides_adentata', 877: 'Tripteroides_bisquamatus', 878: 'Tripteroides_brevirhynchus', 879: 'Tripteroides_confusus', 880: 'Tripteroides_cuttsi', 881: 'Tripteroides_filipes', 882: 'Tripteroides_flabelliger', 883: 'Tripteroides_fuliginosus', 884: 'Tripteroides_fuscipleura', 885: 'Tripteroides_kingi', 886: 'Tripteroides_leei', 887: 'Tripteroides_longipalpatus', 888: 'Tripteroides_mathesoni', 889: 'Tripteroides_obscurus', 890: 'Tripteroides_pallidus', 891: 'Tripteroides_pilosus', 892: 'Tripteroides_plumiger', 893: 'Tripteroides_simplex', 894: 'Tripteroides_stonei', 895: 'Tripteroides_sylvestris', 896: 'Tripteroides_torokinae', 897: 'Tripteroides_vanleeuweni', 898: 'Tripteroides_alboscutellatus', 899: 'Tripteroides_bimaculipes', 900: 'Tripteroides_binotatus', 901: 'Tripteroides_bonneti', 902: 'Tripteroides_brevipalpis', 903: 'Tripteroides_distigma', 904: 'Tripteroides_elegans', 905: 'Tripteroides_lipovskyi', 906: 'Tripteroides_lorengaui', 907: 'Tripteroides_magnesianus', 908: 'Tripteroides_nissanensis', 909: 'Tripteroides_novohanoverae', 910: 'Tripteroides_purpuratus', 911: 'Tripteroides_quasiornatus', 912: 'Tripteroides_splendens', 913: 'Uranotaenia_atra', 914: 'Uranotaenia_colocasiae', 915: 'Uranotaenia_diagonalis', 916: 'Uranotaenia_hirsutifemora', 917: 'Uranotaenia_obscura', 918: 'Uranotaenia_quadrimaculata', 919: 'Uranotaenia_albescens', 920: 'Uranotaenia_argyrotarsis', 921: 'Uranotaenia_barnesi', 922: 'Uranotaenia_campestris', 923: 'Uranotaenia_gerdae', 924: 'Uranotaenia_neotibialis', 925: 'Uranotaenia_nivipes', 926: 'Uranotaenia_novaguinensis', 927: 'Uranotaenia_paranovaguinensis', 928: 'Uranotaenia_pygmaea', 929: 'Uranotaenia_setosa', 930: 'Uranotaenia_tibialis', 931: 'Uranotaenia_tibioclada', 932: 'Tripteroides_aranoides', 933: 'Tripteroides_ceylonensis', 934: 'Tripteroides_coonorensis', 935: 'Tripteroides_tenax', 936: 'Tripteroides_nepenthis', 937: 'Tripteroides_nepenthisimilis', 938: 'Tripteroides_affinis', 939: 'Tripteroides_dofleini', 940: 'Tripteroides_edwardsi', 941: 'Tripteroides_apoensis', 942: 'Tripteroides_barraudi', 943: 'Tripteroides_christophersi', 944: 'Tripteroides_mircocala', 945: 'Tripteroides_nepenthicola', 946: 'Tripteroides_roxasi', 947: 'Tripteroides_werneri', 948: 'Tripteroides_belkini', 949: 'Tripteroides_delpilari', 950: 'Tripteroides_mabinii', 951: 'Anopheles_culicifacies', 952: 'Anopheles_jeyporiensis', 953: 'Anopheles_varuna', 954: 'Orthopodomyia_lanyuensis', 955: 'Johnbelkinia_ulopus', 956: 'Johnbelkinia_longipes', 957: 'Anopheles_forattinii', 958: 'Culex_conservator', 959: 'Culex_distinguendus', 960: 'Culex_olimpioi', 961: 'Culex_elongatus', 962: 'Wyeomyia_pseudopecten', 963: 'Wyeomyia_ulocoma', 964: 'Aedes_koreicus', 965: 'Culex_kyotoensis', 966: 'Culex_inflictus', 967: 'Wyeomyia_chalcocephala', 968: 'Wyeomyia_abebela', 969: 'Wyeomyia_circumcincta', 970: 'Toxorhynchites_theobaldi', 971: 'Aedes_bertrami', 972: 'Sabethes_cyaneus', 973: 'Toxorhynchites_haemorrhoidalis', 974: 'Sabethes_undosus', 975: 'Culex_rooti', 976: 'Culex_mutator', 977: 'Culex_rejector', 978: 'Culex_elevator', 979: 'Culex_flabellifer', 980: 'Verrallina_mccormicki', 981: 'Aedes_marshallensis', 982: 'Culex_annulus', 983: 'Aedes_annulirostris', 984: 'Aedes_jamesi', 985: 'Aedes_krombeini', 986: 'Aedes_novalbopictus', 987: 'Aedes_pallidostriatus', 988: 'Aedes_pipersalatus', 989: 'Aedes_ramachandrai', 990: 'Aedes_reginae', 991: 'Aedes_thomsoni', 992: 'Aedes_vittatus', 993: 'Aedes_w-albus', 994: 'Anopheles_jamesii', 995: 'Anopheles_peditaeniatus', 996: 'Anopheles_stephensi', 997: 'Culex_hutchinsoni', 998: 'Culex_infula', 999: 'Culex_minutissimus', 1000: 'Culex_murrelli', 1001: 'Mimomyia_hybrida', 1002: 'Aedes_scatophagoides', 1003: 'Uranotaenia_edwardsi', 1004: 'Uranotaenia_longirostris', 1005: 'Verrallina_indica', 1006: 'Aedes_pillaii', 1007: 'Aedes_wardi', 1008: 'Isostomyia_paranensis', 1009: 'Kimia_decorabilis', 1010: 'Uranotaenia_harrisoni', 1011: 'Uranotaenia_abstrusa', 1012: 'Uranotaenia_approximata', 1013: 'Uranotaenia_bicolor', 1014: 'Uranotaenia_demeilloni', 1015: 'Uranotaenia_gouldi', 1016: 'Uranotaenia_lutescens', 1017: 'Uranotaenia_albipes', 1018: 'Uranotaenia_ascidiicola', 1019: 'Uranotaenia_bimaculata', 1020: 'Uranotaenia_gigantea', 1021: 'Uranotaenia_lui', 1022: 'Uranotaenia_maculipleura', 1023: 'Uranotaenia_modesta', 1024: 'Uranotaenia_moultoni', 1025: 'Uranotaenia_patriciae', 1026: 'Uranotaenia_propinqua', 1027: 'Uranotaenia_pseudomaculipleura', 1028: 'Uranotaenia_quasimodesta', 1029: 'Uranotaenia_xanthomelaena', 1030: 'Uranotaenia_abdita', 1031: 'Uranotaenia_confusa', 1032: 'Uranotaenia_enigmatica', 1033: 'Uranotaenia_koli', 1034: 'Uranotaenia_nocticola', 1035: 'Uranotaenia_pylei', 1036: 'Uranotaenia_rossi', 1037: 'Uranotaenia_spiculosa', 1038: 'Uranotaenia_stricklandi', 1039: 'Uranotaenia_sumethi', 1040: 'Uranotaenia_maxima', 1041: 'Culex_theileri', 1042: 'Culex_univittatus', 1043: 'Culex_luzonensis', 1044: 'Culex_selangorensis', 1045: 'Culex_pseudosinensis', 1046: 'Culex_longicornis', 1047: 'Culex_cornutus', 1048: 'Culex_epidesmus', 1049: 'Culex_geminus', 1050: 'Culex_kinabaluensis', 1051: 'Culex_alienus', 1052: 'Culex_philippinensis', 1053: 'Culex_barraudi', 1054: 'Culex_fasyi', 1055: 'Culex_tsengi', 1056: 'Culex_mimuloides', 1057: 'Culex_diengensis', 1058: 'Culex_propinquus', 1059: 'Topomyia_aliyusopi', 1060: 'Verrallina_ceylonica', 1061: 'Verrallina_lugubris', 1062: 'Verrallina_petroelephantus', 1063: 'Verrallina_pseudomediofasciata', 1064: 'Verrallina_seculata', 1065: 'Verrallina_yerburyi', 1066: 'Aedes_monticola', 1067: 'Aedes_lambrechti', 1068: 'Aedes_pembaensis', 1069: 'Aedes_fryeri', 1070: 'Aedes_detritus', 1071: 'Aedes_maeiae', 1072: 'Anopheles_funestus', 1073: 'Anopheles_gambiae', 1074: 'Anopheles_hancocki', 1075: 'Anopheles_nili', 1076: 'Anopheles_paludis', 1077: 'Culex_guiarti', 1078: 'Culex_moucheti', 1079: 'Culex_nebulosus', 1080: 'Lutzia_tigripes', 1081: 'Eretmapodites_chrysogaster', 1082: 'Mansonia_africana', 1083: 'Coquillettidia_metallica', 1084: 'Aedeomyia_squamipennis', 1085: 'Anopheles_cruzii', 1086: 'Culex_albipes', 1087: 'Culex_davisi', 1088: 'Culex_hedys', 1089: 'Culex_imitator', 1090: 'Culex_neglectus', 1091: 'Culex_pleuristratus', 1092: 'Culex_consolator', 1093: 'Wyeomyia_tripartita', 1094: 'Aedes_deserticola', 1095: 'Anopheles_coustani', 1096: 'Anopheles_fuscicolor', 1097: 'Anopheles_tenebrosus', 1098: 'Anopheles_merus', 1099: 'Anopheles_brunnipes', 1100: 'Anopheles_flavicosta', 1101: 'Anopheles_cydippis', 1102: 'Anopheles_squamosus', 1103: 'Anopheles_pharoensis', 1104: 'Anopheles_maculipalpis', 1105: 'Anopheles_rufipes', 1106: 'Anopheles_pretoriensis', 1107: 'Anopheles_mascarensis', 1108: 'Anopheles_grassei', 1109: 'Anopheles_grenieri', 1110: 'Anopheles_milloti', 1111: 'Anopheles_pauliani', 1112: 'Anopheles_radama', 1113: 'Anopheles_ranci', 1114: 'Anopheles_lacani', 1115: 'Anopheles_notleyi', 1116: 'Anopheles_roubaudi', 1117: 'Aedeomyia_pauliani', 1118: 'Aedeomyia_furfurea', 1119: 'Aedes_durbanensis', 1120: 'Aedes_domesticus', 1121: 'Aedes_fowleri', 1122: 'Aedes_dalzieli', 1123: 'Aedes_argenteopunctatus', 1124: 'Aedes_tiptoni', 1125: 'Aedes_belleci', 1126: 'Aedes_circumluteolum', 1127: 'Aedes_albocephalus', 1128: 'Aedes_cartroni', 1129: 'Aedes_moucheti', 1130: 'Aedes_brygooi', 1131: 'Aedes_interruptus', 1132: 'Aedes_monetus', 1133: 'Aedes_phillipi', 1134: 'Coquillettidia_grandidieri', 1135: 'Culex_antennatus', 1136: 'Culex_argenteopunctatus', 1137: 'Culex_carleti', 1138: 'Culex_comorensis', 1139: 'Culex_decens', 1140: 'Culex_demeilloni', 1141: 'Culex_duttoni', 1142: 'Culex_perfidiosus', 1143: 'Culex_simpsoni', 1144: 'Culex_striatipes', 1145: 'Culex_watti', 1146: 'Culex_weschei', 1147: 'Culex_cinerellus', 1148: 'Culex_cinereus', 1149: 'Culex_pandani', 1150: 'Culex_giganteus', 1151: 'Culex_poicilipes', 1152: 'Culex_brenguesi', 1153: 'Culex_chauveti', 1154: 'Culex_horridus', 1155: 'Culex_kingianus', 1156: 'Culex_rubinotus', 1157: 'Culex_sunyaniensis', 1158: 'Culex_salisburiensis', 1159: 'Culex_seyrigi', 1160: 'Eretmapodites_quinquevittatus', 1161: 'Ficalbia_uniformis', 1162: 'Mimomyia_mediolineata', 1163: 'Mimomyia_aurata', 1164: 'Mimomyia_bernardi', 1165: 'Mimomyia_beytouti', 1166: 'Mimomyia_brygooi', 1167: 'Mimomyia_jeansottei', 1168: 'Mimomyia_levicastilloi', 1169: 'Mimomyia_longicornis', 1170: 'Mimomyia_marksae', 1171: 'Mimomyia_mattinglyi', 1172: 'Mimomyia_milloti', 1173: 'Mimomyia_ramalai', 1174: 'Mimomyia_roubaudi', 1175: 'Mimomyia_spinosa', 1176: 'Mimomyia_stellata', 1177: 'Mimomyia_vansomerenae', 1178: 'Mimomyia_hispida', 1179: 'Mimomyia_mimomyiaformis', 1180: 'Mimomyia_plumosa', 1181: 'Mimomyia_splendens', 1182: 'Orthopodomyia_ambremontis', 1183: 'Orthopodomyia_ankaratrensis', 1184: 'Orthopodomyia_fontenillei', 1185: 'Orthopodomyia_ravaonjanaharyi', 1186: 'Orthopodomyia_rodhaini', 1187: 'Toxorhynchites_fontenillei', 1188: 'Toxorhynchites_grjebinei', 1189: 'Toxorhynchites_madagascarensis', 1190: 'Toxorhynchites_pauliani', 1191: 'Uranotaenia_albimanus', 1192: 'Uranotaenia_albinotata', 1193: 'Uranotaenia_ambodimanga', 1194: 'Uranotaenia_antalahaensis', 1195: 'Uranotaenia_apicosquamata', 1196: 'Uranotaenia_bambusicola', 1197: 'Uranotaenia_belkini', 1198: 'Uranotaenia_bicincta', 1199: 'Uranotaenia_bifasciata', 1200: 'Uranotaenia_bosseri', 1201: 'Uranotaenia_boussesi', 1202: 'Uranotaenia_breviseta', 1203: 'Uranotaenia_brumpti', 1204: 'Uranotaenia_brunhesi', 1205: 'Uranotaenia_cachani', 1206: 'Uranotaenia_carcinicola', 1207: 'Uranotaenia_combesi', 1208: 'Uranotaenia_contrastata', 1209: 'Uranotaenia_cornuta', 1210: 'Uranotaenia_damasei', 1211: 'Uranotaenia_donai', 1212: 'Uranotaenia_douceti', 1213: 'Uranotaenia_fulgens', 1214: 'Uranotaenia_grenieri', 1215: 'Uranotaenia_grjebinei', 1216: 'Uranotaenia_haddowi', 1217: 'Uranotaenia_hirsuta', 1218: 'Uranotaenia_hervyi', 1219: 'Uranotaenia_kraussi', 1220: 'Uranotaenia_laffosseae', 1221: 'Uranotaenia_lavieri', 1222: 'Uranotaenia_legoffi', 1223: 'Uranotaenia_longitubus', 1224: 'Uranotaenia_lousthei', 1225: 'Uranotaenia_madagascarensis', 1226: 'Uranotaenia_manakaraensis', 1227: 'Uranotaenia_nigricephala', 1228: 'Uranotaenia_nigripleura', 1229: 'Uranotaenia_pallidipleura', 1230: 'Uranotaenia_pauliani', 1231: 'Uranotaenia_pilosa', 1232: 'Uranotaenia_pseudoalbimanus', 1233: 'Uranotaenia_pseudoshillitonis', 1234: 'Uranotaenia_ravenalaphila', 1235: 'Uranotaenia_ravenalicola', 1236: 'Uranotaenia_scutostriata', 1237: 'Uranotaenia_spinitubus', 1238: 'Uranotaenia_spinosa', 1239: 'Uranotaenia_spiraculata', 1240: 'Uranotaenia_tricolor', 1241: 'Uranotaenia_tridentata', 1242: 'Uranotaenia_tsaratananae', 1243: 'Uranotaenia_alba', 1244: 'Uranotaenia_alboabdominalis', 1245: 'Uranotaenia_albocephala', 1246: 'Uranotaenia_andavakae', 1247: 'Uranotaenia_anopheloides', 1248: 'Uranotaenia_argentipleura', 1249: 'Uranotaenia_balfouri', 1250: 'Uranotaenia_dumonti', 1251: 'Uranotaenia_geniculata', 1252: 'Uranotaenia_grassei', 1253: 'Uranotaenia_hamoni', 1254: 'Uranotaenia_hebrardi', 1255: 'Uranotaenia_madagascarica', 1256: 'Uranotaenia_mayottensis', 1257: 'Uranotaenia_moramangae', 1258: 'Uranotaenia_neireti', 1259: 'Uranotaenia_roberti', 1260: 'Aedes_helenae', 1261: 'Aedes_eldridgei', 1262: 'Aedes_culicinus', 1263: 'Aedes_davidi', 1264: 'Aedes_mediolineatus', 1265: 'Aedes_nigrostriatus', 1266: 'Aedes_orbitae', 1267: 'Aedes_pampangensis', 1268: 'Aedes_nummatus', 1269: 'Aedes_pseudonummatus', 1270: 'Verrallina_andamanensis', 1271: 'Verrallina_clavata', 1272: 'Verrallina_cretata', 1273: 'Verrallina_cyrtolabis', 1274: 'Verrallina_indecorabilis', 1275: 'Verrallina_komponga', 1276: 'Verrallina_uncus', 1277: 'Culex_eldridgei', 1278: 'Anopheles_neivai', 1279: 'Anopheles_pholidotus', 1280: 'Anopheles_lepidotus', 1281: 'Anopheles_bambusicolus', 1282: 'Anopheles_homunculus', 1283: 'Anopheles_bellator', 1284: 'Anopheles_laneanus', 1285: 'Anopheles_boliviensis', 1286: 'Aedes_gombakensis', 1287: 'Aedes_ibis', 1288: 'Aedes_longipalpis', 1289: 'Aedes_fulgens', 1290: 'Aedes_geoffroyi', 1291: 'Aedes_huangae', 1292: 'Aedes_mzooi', 1293: 'Aedes_pollinctor', 1294: 'Aedes_brunhesi', 1295: 'Culex_amazonensis', 1296: 'Culex_clastrieri', 1297: 'Culex_guyanensis', 1298: 'Culex_accelerans', 1299: 'Culex_latisquama', 1300: 'Culex_damascenoi', 1301: 'Culex_browni', 1302: 'Culex_bamborum', 1303: 'Culex_belemensis', 1304: 'Culex_chaguanco', 1305: 'Culex_originator', 1306: 'Culex_quasioriginator', 1307: 'Culex_luteopleurus', 1308: 'Culex_corrigani', 1309: 'Culex_restrictor', 1310: 'Aedes_dissimilis', 1311: 'Aedes_gaffigani', 1312: 'Aedes_harbachi', 1313: 'Aedes_karwari', 1314: 'Aedes_lerozeboomi', 1315: 'Aedes_litwakae', 1316: 'Aedes_luzonensis', 1317: 'Aedes_paradissimilis', 1318: 'Aedes_pecori', 1319: 'Aedes_wilkersoni', 1320: 'Aedes_craggi', 1321: 'Aedes_desmotes', 1322: 'Aedes_malikuli', 1323: 'Aedes_mediopunctatus', 1324: 'Aedes_perplexus', 1325: 'Aedes_gardnerii', 1326: 'Culex_bihaicola', 1327: 'Culex_guerreroi', 1328: 'Culex_rausseoi', 1329: 'Culex_metempsytus', 1330: 'Culex_infoliatus', 1331: 'Culex_urichii', 1332: 'Culex_anduzei', 1333: 'Culex_bonnei', 1334: 'Culex_secundus', 1335: 'Culex_iridescens', 1336: 'Culex_soperi', 1337: 'Culex_babahoyensis', 1338: 'Culex_antunesi', 1339: 'Culex_cerqueirai', 1340: 'Culex_wilsoni', 1341: 'Culex_kompi', 1342: 'Anopheles_oswaldoi', 1343: 'Anopheles_anomalophyllus', 1344: 'Anopheles_trinkae', 1345: 'Culex_mimutissimus', 1346: 'Culex_quadripalpis', 1347: 'Culex_aculeatus', 1348: 'Culex_reidi', 1349: 'Culex_variatus', 1350: 'Culex_gracicornis', 1351: 'Culex_whartoni', 1352: 'Culex_macdonaldi', 1353: 'Culex_pairoji', 1354: 'Culex_alphus', 1355: 'Culex_traubi', 1356: 'Culex_uniformis', 1357: 'Culex_lavatae', 1358: 'Culex_mammilifer', 1359: 'Culex_wardi', 1360: 'Culex_demissus', 1361: 'Culex_ganapathi', 1362: 'Culex_spiculosus', 1363: 'Culex_imposter', 1364: 'Culex_incomptus', 1365: 'Culex_bengalensis', 1366: 'Culex_peytoni', 1367: 'Culex_eukrines', 1368: 'Culex_pholeter', 1369: 'Culex_flavicornis', 1370: 'Culex_lasiopalpis', 1371: 'Culex_navalis', 1372: 'Culex_coerulescens', 1373: 'Culex_hewitti', 1374: 'Culex_jenseni', 1375: 'Culex_brevipalpus', 1376: 'Culex_lucaris', 1377: 'Culex_eminentia', 1378: 'Culex_curtipalpis', 1379: 'Anopheles_montanus', 1380: 'Anopheles_hyrcanus', 1381: 'Anopheles_crawfordi', 1382: 'Anopheles_nitidus', 1383: 'Anopheles_pursati', 1384: 'Anopheles_campestris', 1385: 'Anopheles_donaldi', 1386: 'Anopheles_hodgkini', 1387: 'Anopheles_pollicaris', 1388: 'Anopheles_barbumbrosus', 1389: 'Anopheles_umbrosus', 1390: 'Anopheles_letifer', 1391: 'Anopheles_whartoni', 1392: 'Anopheles_roperi', 1393: 'Anopheles_bulkleyi', 1394: 'Anopheles_asiaticus', 1395: 'Anopheles_interruptus', 1396: 'Anopheles_aitkenii', 1397: 'Anopheles_aberrans', 1398: 'Anopheles_fragilis', 1399: 'Anopheles_tigertti', 1400: 'Anopheles_stricklandi', 1401: 'Anopheles_culiciformis', 1402: 'Anopheles_kyondawensis', 1403: 'Anopheles_sintonoides', 1404: 'Aedes_patriciae', 1405: 'Aedes_pseudalbopictus', 1406: 'Aedes_subalbopictus', 1407: 'Aedes_alcasidi', 1408: 'Aedes_malayensis', 1409: 'Culiseta_niveitaeniata', 1410: 'Aedes_chrysolineatus', 1411: 'Aedes_jugraensis', 1412: 'Aedes_nigrorhynchus', 1413: 'Aedes_rizali', 1414: 'Aedes_saxicola', 1415: 'Aedes_sherki', 1416: 'Aedes_franciscoi', 1417: 'Aedes_iyengari', 1418: 'Aedes_platylepidus', 1419: 'Aedes_whartoni', 1420: 'Aedes_ferinus', 1421: 'Aedes_laniger', 1422: 'Aedes_quasiferinus', 1423: 'Aedes_quadripunctis', 1424: 'Culex_phangngae', 1425: 'Culex_latifoliatus', 1426: 'Culex_baisasi', 1427: 'Culex_yeageri', 1428: 'Culex_pluvialis', 1429: 'Culex_selai', 1430: 'Culex_khazani', 1431: 'Culex_tenuipalpis', 1432: 'Culex_hackeri', 1433: 'Culex_kiriensis', 1434: 'Aedes_peytoni', 1435: 'Aedes_griffithi', 1436: 'Culex_torrentium', 1437: 'Anopheles_annulipalpis', 1438: 'Anopheles_fluminensis', 1439: 'Anopheles_pseudopunctipennis', 1440: 'Anopheles_albitarsis', 1441: 'Culex_perexiguus', 1442: 'Culex_laticinctus', 1443: 'Culex_sinaiticus', 1444: 'Aedes_laguna', 1445: 'Aedes_sierrensis', 1446: 'Deinocerites_atlanticus', 1447: 'Deinocerites_mathesoni', 1448: 'Deinocerites_belkini', 1449: 'Deinocerites_dyari', 1450: 'Deinocerites_barretoi', 1451: 'Deinocerites_nicoyae', 1452: 'Deinocerites_melanophylum', 1453: 'Deinocerites_magnus', 1454: 'Deinocerites_epitedeus', 1455: 'Deinocerites_panamensis', 1456: 'Deinocerites_colombianus', 1457: 'Deinocerites_costaricensis', 1458: 'Deinocerites_curiche', 1459: 'Deinocerites_pseudes', 1460: 'Deinocerites_howardi', 1461: 'Deinocerites_mcdonaldi', 1462: 'Toxorhynchites_cavalierii', 1463: 'Toxorhynchites_guadeloupensis', 1464: 'Wyeomyia_lateralis', 1465: 'Sabethes_petrocchiae', 1466: 'Onirion_brucei', 1467: 'Wyeomyia_muehlensi', 1468: 'Limatus_durhamii', 1469: 'Sabethes_albiprivus', 1470: 'Coquillettidia_fasciolata', 1471: 'Coquillettidia_venezuelensis', 1472: 'Uranotaenia_lanei', 1473: 'Uranotaenia_pulcherrima', 1474: 'Psorophora_holmbergii', 1475: 'Psorophora_pallescens', 1476: 'Psorophora_lutzii', 1477: 'Psorophora_albigenu', 1478: 'Psorophora_confinnis', 1479: 'Psorophora_paulli', 1480: 'Aedes_meprai', 1481: 'Aedes_milleri', 1482: 'Lutzia_bigoti', 1483: 'Culex_ameliae', 1484: 'Culex_interfor', 1485: 'Culex_brethesi', 1486: 'Culex_dolosus', 1487: 'Culex_eduardoi', 1488: 'Culex_fernandezi', 1489: 'Culex_lahillei', 1490: 'Culex_maxi', 1491: 'Culex_saltanensis', 1492: 'Culex_aliciae', 1493: 'Culex_bejaranoi', 1494: 'Culex_intrincatus', 1495: 'Culex_martinezi', 1496: 'Culex_misionensis', 1497: 'Culex_orfilai', 1498: 'Culex_pavlovskyi', 1499: 'Toxorhynchites_hexacis', 1500: 'Mansonia_fonsecai', 1501: 'Coquillettidia_nitens', 1502: 'Psorophora_circumflava', 1503: 'Psorophora_melanota', 1504: 'Psorophora_dimidiata', 1505: 'Aedes_bejaranoi', 1506: 'Culex_apicinus', 1507: 'Culex_bidens', 1508: 'Anopheles_pictipennis', 1509: 'Psorophora_marmorata', 1510: 'Aedes_albifasciatus', 1511: 'Culex_annuliventris', 1512: 'Culex_articularis', 1513: 'Wyeomyia_fuscipes', 1514: 'Psorophora_fiebrigi', 1515: 'Psorophora_varinervis', 1516: 'Aedes_stigmaticus', 1517: 'Anopheles_acanthotorynus', 1518: 'Trichoprosopon_digitatum', 1519: 'Trichoprosopon_hyperleucum', 1520: 'Culex_archegus', 1521: 'Culex_diplophyllum', 1522: 'Psorophora_leucocnemis', 1523: 'Verrallina_atria', 1524: 'Verrallina_cauta', 1525: 'Verrallina_taeniata', 1526: 'Verrallina_dux', 1527: 'Verrallina_gibbosa', 1528: 'Verrallina_latipennis', 1529: 'Verrallina_vallistris', 1530: 'Verrallina_campylostylus', 1531: 'Verrallina_hamistylus', 1532: 'Verrallina_johnsoni', 1533: 'Verrallina_margarsen', 1534: 'Verrallina_philippinensis', 1535: 'Verrallina_prioekanensis', 1536: 'Verrallina_robertsi', 1537: 'Verrallina_yusafi', 1538: 'Heizmannia_aureochaeta', 1539: 'Heizmannia_chengi', 1540: 'Heizmannia_communis', 1541: 'Heizmannia_complex', 1542: 'Heizmannia_covelli', 1543: 'Heizmannia_demeilloni', 1544: 'Heizmannia_funerea', 1545: 'Heizmannia_macdonaldi', 1546: 'Heizmannia_persimilis', 1547: 'Heizmannia_propinqua', 1548: 'Heizmannia_proxima', 1549: 'Heizmannia_reidi', 1550: 'Heizmannia_scintillans', 1551: 'Heizmannia_taiwanensis', 1552: 'Heizmannia_achaetae', 1553: 'Heizmannia_catesi', 1554: 'Heizmannia_thelmae', 1555: 'Chagasia_fajardi', 1556: 'Chagasia_rozeboomi', 1557: 'Anopheles_nimbus', 1558: 'Anopheles_thomasi', 1559: 'Anopheles_anchietai', 1560: 'Anopheles_bustamentei', 1561: 'Anopheles_eiseni', 1562: 'Anopheles_evandroi', 1563: 'Anopheles_intermedius', 1564: 'Anopheles_maculipes', 1565: 'Anopheles_mattogrossensis', 1566: 'Anopheles_mediopunctatus', 1567: 'Anopheles_costai', 1568: 'Anopheles_minor', 1569: 'Anopheles_peryassui', 1570: 'Anopheles_pseudomaculipes', 1571: 'Anopheles_rachoui', 1572: 'Anopheles_shannoni', 1573: 'Anopheles_tibiamaculatus', 1574: 'Anopheles_marajoara', 1575: 'Anopheles_antunesi', 1576: 'Anopheles_sawyeri', 1577: 'Anopheles_arthuri', 1578: 'Anopheles_albertoi', 1579: 'Anopheles_lanei', 1580: 'Anopheles_lutzii', 1581: 'Culex_dispectus', 1582: 'Culex_barrinus', 1583: 'Culex_scanloni', 1584: 'Culex_termi', 1585: 'Anopheles_guarani', 1586: 'Anopheles_nigritarsis', 1587: 'Anopheles_goeldii', 1588: 'Anopheles_dunhami', 1589: 'Anopheles_konderi', 1590: 'Anopheles_parvus', 1591: 'Anopheles_gilesi', 1592: 'Anopheles_pseudotibiamaculatus', 1593: 'Toxorhynchites_catharinensis', 1594: 'Toxorhynchites_purpureus', 1595: 'Toxorhynchites_trichopygus', 1596: 'Toxorhynchites_bambusicola', 1597: 'Toxorhynchites_mariae', 1598: 'Toxorhynchites_pusillus', 1599: 'Toxorhynchites_solstitialis', 1600: 'Toxorhynchites_violaceus', 1601: 'Trichoprosopon_compressum', 1602: 'Trichoprosopon_obscurum', 1603: 'Trichoprosopon_pallidiventer', 1604: 'Trichoprosopon_soaresi', 1605: 'Trichoprosopon_brevipes', 1606: 'Shannoniana_fluviatilis', 1607: 'Onirion_personatum', 1608: 'Runchomyia_walcotti', 1609: 'Trichoprosopon_castroi', 1610: 'Runchomyia_cerqueirai', 1611: 'Wyeomyia_edwardsi', 1612: 'Runchomyia_humboldti', 1613: 'Isostomyia_lunata', 1614: 'Runchomyia_reversa', 1615: 'Trichoprosopon_simile', 1616: 'Sabethes_luxodens', 1617: 'Culex_litwakae', 1618: 'Anopheles_auyantepuiensis', 1619: 'Culex_oresbius', 1620: 'Culex_glyptosalpinx', 1621: 'Aedes_axitiosus', 1622: 'Sabethes_conditus', 1623: 'Wyeomyia_fernandezyepezi', 1624: 'Runchomyia_theobaldi', 1625: 'Wyeomyia_arthrostigma', 1626: 'Wyeomyia_downsi', 1627: 'Wyeomyia_hosautos', 1628: 'Wyeomyia_limai', 1629: 'Wyeomyia_lutzii', 1630: 'Wyeomyia_medioalbipes', 1631: 'Wyeomyia_sabethea', 1632: 'Wyeomyia_serrata', 1633: 'Wyeomyia_dyari', 1634: 'Wyeomyia_kummi', 1635: 'Wyeomyia_mattinglyi', 1636: 'Wyeomyia_alani', 1637: 'Wyeomyia_airosai', 1638: 'Wyeomyia_bourrouli', 1639: 'Wyeomyia_cesari', 1640: 'Wyeomyia_confusa', 1641: 'Wyeomyia_finlayi', 1642: 'Wyeomyia_howardi', 1643: 'Wyeomyia_flui', 1644: 'Wyeomyia_knabi', 1645: 'Wyeomyia_luteoventralis', 1646: 'Wyeomyia_melanocephala', 1647: 'Wyeomyia_mystes', 1648: 'Wyeomyia_negrensis', 1649: 'Wyeomyia_rooti', 1650: 'Wyeomyia_shannoni', 1651: 'Wyeomyia_subcomplosa', 1652: 'Wyeomyia_tarsata', 1653: 'Wyeomyia_undulata', 1654: 'Wyeomyia_antunesi', 1655: 'Wyeomyia_bonnei', 1656: 'Wyeomyia_davisi', 1657: 'Wyeomyia_diabolica', 1658: 'Wyeomyia_flabellata', 1659: 'Wyeomyia_galvaoi', 1660: 'Wyeomyia_incaudata', 1661: 'Wyeomyia_longirostris', 1662: 'Wyeomyia_bahama', 1663: 'Aedes_condolescens', 1664: 'Culex_scimitar', 1665: 'Runchomyia_frontosa', 1666: 'Wyeomyia_flavifacies', 1667: 'Wyeomyia_moerbista', 1668: 'Limatus_asulleptus', 1669: 'Sabethes_belisarioi', 1670: 'Sabethes_bipartipes', 1671: 'Aedes_serratus', 1672: 'Aedes_nubilus', 1673: 'Culex_mollis', 1674: 'Culex_aikenii', 1675: 'Wyeomyia_lopesi', 1676: 'Wyeomyia_pallidoventer', 1677: 'Wyeomyia_palmata', 1678: 'Culex_inornata', 1679: 'Wyeomyia_pilicauda', 1680: 'Wyeomyia_quasilongirostris', 1681: 'Wyeomyia_theobaldi', 1682: 'Limatus_flavisetosus', 1683: 'Sabethes_amazonicus', 1684: 'Sabethes_batesi', 1685: 'Sabethes_nitidus', 1686: 'Sabethes_forattinii', 1687: 'Sabethes_lanei', 1688: 'Sabethes_lutzii', 1689: 'Sabethes_purpureus', 1690: 'Sabethes_quasicyaneus', 1691: 'Sabethes_shannoni', 1692: 'Sabethes_spixi', 1693: 'Sabethes_chloropterus', 1694: 'Sabethes_glaucodaemon', 1695: 'Sabethes_tridentatus', 1696: 'Sabethes_aurescens', 1697: 'Sabethes_fabricii', 1698: 'Sabethes_identicus', 1699: 'Sabethes_intermedius', 1700: 'Sabethes_melanonymphe', 1701: 'Sabethes_soperi', 1702: 'Sabethes_whitmani', 1703: 'Coquillettidia_albicosta', 1704: 'Coquillettidia_albifera', 1705: 'Coquillettidia_arribalzagae', 1706: 'Coquillettidia_chrysonotum', 1707: 'Coquillettidia_hermanoi', 1708: 'Coquillettidia_juxtamansonia', 1709: 'Coquillettidia_lynchi', 1710: 'Coquillettidia_neivai', 1711: 'Coquillettidia_shannoni', 1712: 'Mansonia_amazonensis', 1713: 'Mansonia_cerqueirai', 1714: 'Mansonia_chagasi', 1715: 'Mansonia_indubitans', 1716: 'Mansonia_pessoai', 1717: 'Mansonia_pseudotitillans', 1718: 'Mansonia_wilsoni', 1719: 'Uranotaenia_davisi', 1720: 'Uranotaenia_ditaenionota', 1721: 'Uranotaenia_geometrica', 1722: 'Uranotaenia_mathesoni', 1723: 'Uranotaenia_pallidoventer', 1724: 'Psorophora_pilipes', 1725: 'Psorophora_cilipes', 1726: 'Psorophora_saeva', 1727: 'Psorophora_amazonica', 1728: 'Psorophora_discrucians', 1729: 'Psorophora_forceps', 1730: 'Psorophora_lanei', 1731: 'Psorophora_cingulata', 1732: 'Aedes_aenigmaticus', 1733: 'Aedes_fulvus', 1734: 'Aedes_jacobinae', 1735: 'Aedes_lepidus', 1736: 'Aedes_pennai', 1737: 'Aedes_perventor', 1738: 'Aedes_rhyacophilus', 1739: 'Aedes_braziliensis', 1740: 'Haemagogus_leucophoebus', 1741: 'Aedes_terrens', 1742: 'Aedes_aureolineatus', 1743: 'Haemagogus_baresi', 1744: 'Culex_abnormalis', 1745: 'Culex_acharistus', 1746: 'Culex_airozai', 1747: 'Culex_brami', 1748: 'Culex_carcinoxenus', 1749: 'Culex_bilineatus', 1750: 'Culex_foliaceus', 1751: 'Culex_declarator', 1752: 'Culex_lygrus', 1753: 'Culex_mauesensis', 1754: 'Culex_paramaxi', 1755: 'Culex_renatoi', 1756: 'Culex_spinosus', 1757: 'Culex_albinensis', 1758: 'Culex_andricus', 1759: 'Culex_aureonotatus', 1760: 'Culex_bahiensis', 1761: 'Culex_bastagarius', 1762: 'Culex_bequaerti', 1763: 'Culex_bifoliolatus', 1764: 'Culex_breviculus', 1765: 'Culex_chrysothorax', 1766: 'Culex_contei', 1767: 'Culex_cristovaoi', 1768: 'Culex_dunni', 1769: 'Culex_dyius', 1770: 'Culex_eastor', 1771: 'Culex_ernanii', 1772: 'Culex_evansae', 1773: 'Culex_fasciolatus', 1774: 'Culex_flochi', 1775: 'Culex_humilis', 1776: 'Culex_inadmirabilis', 1777: 'Culex_indecorabilis', 1778: 'Culex_isabelae', 1779: 'Culex_johnnyi', 1780: 'Culex_phlabistus', 1781: 'Culex_lugens', 1782: 'Culex_nigrescens', 1783: 'Culex_clarki', 1784: 'Culex_nigricorpus', 1785: 'Culex_nigrimacula', 1786: 'Culex_ocellatus', 1787: 'Culex_oedipus', 1788: 'Culex_plectoporpe', 1789: 'Culex_putumayensis', 1790: 'Culex_rachoui', 1791: 'Culex_serratimarge', 1792: 'Culex_silvai', 1793: 'Culex_theobaldi', 1794: 'Culex_trilobulatus', 1795: 'Culex_alogistus', 1796: 'Culex_galvaoi', 1797: 'Culex_innovator', 1798: 'Culex_palaciosi', 1799: 'Culex_aphylactus', 1800: 'Culex_aureus', 1801: 'Culex_carioca', 1802: 'Culex_dubitans', 1803: 'Culex_gairus', 1804: 'Culex_inimitabilis', 1805: 'Culex_intermedius', 1806: 'Culex_lanei', 1807: 'Culex_microphyllus', 1808: 'Culex_pleuristriatus', 1809: 'Culex_reducens', 1810: 'Culex_shopei', 1811: 'Culex_worontzowi', 1812: 'Culex_americanus', 1813: 'Culex_canaanensis', 1814: 'Anopheles_sacharovi', 1815: 'Anopheles_maculipennis', 1816: 'Anopheles_yaeyamaensis', 1817: 'Uranotaenia_hystera', 1818: 'Anopheles_squamifemur', 1819: 'Trichoprosopon_evansae', 1820: 'Wyeomyia_colombiana', 1821: 'Psorophora_lineata', 1822: 'Psorophora_funiculus', 1823: 'Aedes_euiris', 1824: 'Aedes_scutellalbum', 1825: 'Culex_maracayensis', 1826: 'Culex_batesi', 1827: 'Culex_conspirator', 1828: 'Culex_sursumptor', 1829: 'Toxorhynchites_moctezuma', 1830: 'Wyeomyia_hemisagnosta', 1831: 'Wyeomyia_adelpha', 1832: 'Aedes_homoeopus', 1833: 'Culex_limacifer', 1834: 'Wyeomyia_sororcula', 1835: 'Culex_duplicator', 1836: 'Culex_habilitator', 1837: 'Culex_carcinophilus', 1838: 'Anopheles_vanderwulpi', 1839: 'Topomyia_tipuliformis', 1840: 'Armigeres_flavus', 1841: 'Aedes_indonesiae', 1842: 'Armigeres_mahantai', 1843: 'Wyeomyia_aphobema', 1844: 'Wyeomyia_amazonica', 1845: 'Wyeomyia_esmeraldasi', 1846: 'Limatus_andinus', 1847: 'Limatus_guayasi', 1848: 'Aedes_metoecopus', 1849: 'Wyeomyia_celaenocephala', 1850: 'Wyeomyia_ablechra', 1851: 'Wyeomyia_aporonoma', 1852: 'Aedes_podographicus', 1853: 'Anopheles_canorii', 1854: 'Wyeomyia_robusta', 1855: 'Wyeomyia_argenteorostris', 1856: 'Wyeomyia_compta', 1857: 'Wyeomyia_rorotai', 1858: 'Wyeomyia_testei', 1859: 'Aedes_martineti', 1860: 'Culex_pseudojanthinosoma', 1861: 'Culex_comatus', 1862: 'Culex_saramaccensis', 1863: 'Culex_punctiscapularis', 1864: 'Culex_reginae', 1865: 'Wyeomyia_grayii', 1866: 'Culex_jocasta', 1867: 'Anopheles_apicimacula', 1868: 'Anopheles_hectoris', 1869: 'Anopheles_parapunctipennis', 1870: 'Wyeomyia_guatemala', 1871: 'Psorophora_champerico', 1872: 'Limatus_hoffmani', 1873: 'Culex_intonsus', 1874: 'Culex_secutor', 1875: 'Anopheles_aztecus', 1876: 'Toxorhynchites_grandiosus', 1877: 'Wyeomyia_stonei', 1878: 'Sabethes_ortizi', 1879: 'Uranotaenia_coatzacoalcos', 1880: 'Psorophora_stonei', 1881: 'Psorophora_totonaci', 1882: 'Psorophora_toltecum', 1883: 'Psorophora_pruinosa', 1884: 'Culex_lactator', 1885: 'Culex_pinarocampa', 1886: 'Orthopodomyia_comorensis', 1887: 'Aedes_pia', 1888: 'Eretmapodites_subsimplicipes', 1889: 'Uranotaenia_comorensis', 1890: 'Mimomyia_grjebinei', 1891: 'Culex_wigglesworthi', 1892: 'Aedes_ingrami', 1893: 'Aedes_adersi', 1894: 'Aedes_taylori', 1895: 'Aedes_teesdalei', 1896: 'Aedes_haworthi', 1897: 'Aedes_michaelikati', 1898: 'Culex_adersianus', 1899: 'Eretmapodites_silvestris', 1900: 'Toxorhynchites_lutescens', 1901: 'Culex_stenolepis', 1902: 'Culex_gravitator', 1903: 'Deinocerites_howardii', 1904: 'Toxorhynchites_hypoptes', 1905: 'Aedes_thorntoni', 1906: 'Anopheles_neomaculipalpus', 1907: 'Anopheles_chiriquiensis', 1908: 'Trichoprosopon_lampropus', 1909: 'Wyeomyia_florestan', 1910: 'Wyeomyia_melanopus', 1911: 'Wyeomyia_scotinomus', 1912: 'Wyeomyia_simmsi', 1913: 'Wyeomyia_intonca', 1914: 'Wyeomyia_clasoleuca', 1915: 'Wyeomyia_phroso', 1916: 'Wyeomyia_ypsipola', 1917: 'Sabethes_tarsopus', 1918: 'Uranotaenia_typhlosomata', 1919: 'Aedes_hastatus', 1920: 'Culex_educator', 1921: 'Culex_kummi', 1922: 'Culex_psatharus', 1923: 'Culex_arboricola', 1924: 'Culex_vexillifer', 1925: 'Isostomyia_perturbans', 1926: 'Wyeomyia_pertinans', 1927: 'Chagasia_bonneae', 1928: 'Wyeomyia_oblita', 1929: 'Wyeomyia_albosquamata', 1930: 'Wyeomyia_lamellata', 1931: 'Wyeomyia_roucouyana', 1932: 'Wyeomyia_surinamensis', 1933: 'Wyeomyia_splendida', 1934: 'Limatus_pseudomethysticus', 1935: 'Aedes_argyrothorax', 1936: 'Culex_bonneae', 1937: 'Culex_surinamensis', 1938: 'Culex_commevynensis', 1939: 'Culex_comminutor', 1940: 'Culex_confundior', 1941: 'Culex_coppenamensis', 1942: 'Culex_corentynensis', 1943: 'Culex_vaxus', 1944: 'Culex_idottus', 1945: 'Culex_maxinocca', 1946: 'Culex_nicceriensis', 1947: 'Culex_terebor', 1948: 'Culex_ybarmis', 1949: 'Culex_ensiformis', 1950: 'Culex_caudelli', 1951: 'Culex_foliafer', 1952: 'Culex_chryselatus', 1953: 'Culex_decorator', 1954: 'Wyeomyia_autocratica', 1955: 'Wyeomyia_lassalli', 1956: 'Wyeomyia_trinidadensis', 1957: 'Psorophora_albipes', 1958: 'Aedes_hortator', 1959: 'Aedes_oligopistus', 1960: 'Aedes_insolitus', 1961: 'Culex_azymus', 1962: 'Culex_stonei', 1963: 'Anopheles_punctimacula', 1964: 'Anopheles_vargasi', 1965: 'Wyeomyia_caracula', 1966: 'Wyeomyia_gaudians', 1967: 'Wyeomyia_gausapata', 1968: 'Wyeomyia_bicornis', 1969: 'Wyeomyia_pusillum', 1970: 'Wyeomyia_taurepana', 1971: 'Sabethes_paraitepuyensis', 1972: 'Aedes_upatensis', 1973: 'Culex_kukenan', 1974: 'Anopheles_bradleyi', 1975: 'Anopheles_quadrimaculatus', 1976: 'Culex_opisthopus', 1977: 'Culex_samoaensis', 1978: 'Aedes_pallens', 1979: 'Culex_territans', 1980: 'Culex_pedroi', 1981: 'Aedes_andersoni', 1982: 'Aedes_camptorhynchus', 1983: 'Anopheles_kochi', 1984: 'Bironella_gracilis', 1985: 'Aedes_barraudi', 1986: 'Aedes_chrysoscuta', 1987: 'Anopheles_pampanai', 1988: 'Aedes_seatoi', 1989: 'Aedes_harveyi', 1990: 'Culex_mattinglyi', 1991: 'Culex_wilfredi', 1992: 'Culex_thurmanorum', 1993: 'Trichoprosopon_vonplesseni', 1994: 'Shannoniana_schedocyclia', 1995: 'Culex_marksae', 1996: 'Aedes_formosensis', 1997: 'Culex_usquatus'}\n"
     ]
    }
   ],
   "source": [
    "# calculate some summary stats\n",
    "habitat_species_relationship['SUM'] = np.sum(habitat_species_relationship.drop(columns=['Genus_Species']).values, axis=1)\n",
    "habitat_species_relationship['UNIQUE_SUM'] = np.count_nonzero(habitat_species_relationship.drop(columns=['Genus_Species', 'SUM']).values, axis=1)\n",
    "habitat_species_relationship['PROPORTION'] = habitat_species_relationship['UNIQUE_SUM'] / total_habitat_types\n",
    "\n",
    "habitat_species_relationship = habitat_species_relationship.dropna()\n",
    "print(habitat_species_relationship)\n",
    "\n",
    "# Creating a dictionary with 'Genus_Species' as keys and their corresponding indices as values\n",
    "genus_species_names = {index: genus_species for index, genus_species in zip(habitat_species_relationship.index, habitat_species_relationship['Genus_Species'])}\n",
    "\n",
    "print(genus_species_names)"
   ],
   "metadata": {
    "collapsed": false,
    "ExecuteTime": {
     "end_time": "2024-07-15T17:14:05.396135600Z",
     "start_time": "2024-07-15T17:14:05.349046700Z"
    }
   }
  },
  {
   "cell_type": "code",
   "execution_count": 113,
   "outputs": [],
   "source": [
    "# minimu number of species in a habitat type to be included\n",
    "MINIMUM_SPECIES_UNIQUE = 10\n",
    "MINIMUM_SPECIES_NON_UNIQUE = 0"
   ],
   "metadata": {
    "collapsed": false,
    "ExecuteTime": {
     "end_time": "2024-07-15T17:14:05.411717700Z",
     "start_time": "2024-07-15T17:14:05.396135600Z"
    }
   }
  },
  {
   "cell_type": "code",
   "execution_count": 114,
   "outputs": [
    {
     "name": "stdout",
     "output_type": "stream",
     "text": [
      "Genus_Species 0\n",
      "AC 149\n",
      "ALG 13\n",
      "ATR 90\n",
      "BAM 216\n",
      "BOG 14\n",
      "BP 17\n",
      "BRK 4\n",
      "BWP 27\n",
      "CEM 11\n",
      "CNL 20\n",
      "COR 19\n",
      "CRH 78\n",
      "CST 7\n",
      "CV 4\n",
      "DAM 17\n",
      "DRN 62\n",
      "DTH 141\n",
      "FH 82\n",
      "FNG 4\n",
      "FP 20\n",
      "FPP 92\n",
      "GDN 14\n",
      "GP 417\n",
      "GPA 2\n",
      "GPB 17\n",
      "GPT 242\n",
      "HGW 15\n",
      "IC 54\n",
      "LA 317\n",
      "LK 39\n",
      "LGN 28\n",
      "LKA 2\n",
      "LKB 1\n",
      "LKM 23\n",
      "LMS 6\n",
      "MAQ 7\n",
      "ML 54\n",
      "MNR 2\n",
      "MR 9\n",
      "MRB 14\n",
      "MRH 87\n",
      "PLT 8\n",
      "PNT 6\n",
      "PO 142\n",
      "POA 1\n",
      "POM 21\n",
      "POT 1\n",
      "PST 3\n",
      "PTH 25\n",
      "RC 87\n",
      "RD 55\n",
      "RIV 50\n",
      "RIVD 1\n",
      "RIVF 1\n",
      "RIVM 40\n",
      "RIVRM 3\n",
      "RIVT 1\n",
      "RP 245\n",
      "RPB 13\n",
      "SEP 65\n",
      "SHL 13\n",
      "SND 4\n",
      "SNW 21\n",
      "SOL 1\n",
      "SPG 45\n",
      "STM 182\n",
      "STMD 10\n",
      "STMF 4\n",
      "STMM 131\n",
      "STMRM 29\n",
      "STMT 19\n",
      "SW 210\n",
      "SWB 2\n",
      "SWG 9\n",
      "TH 343\n",
      "TSTM 2\n",
      "VEG 4\n",
      "VLC 9\n",
      "VTR 29\n",
      "Index(['AC', 'ALG', 'ATR', 'BAM', 'BOG', 'BP', 'BRK', 'BWP', 'CEM', 'CNL',\n",
      "       'COR', 'CRH', 'CST', 'CV', 'DAM', 'DRN', 'DTH', 'FH', 'FNG', 'FP',\n",
      "       'FPP', 'GDN', 'GP', 'GPA', 'GPB', 'GPT', 'HGW', 'IC', 'LA', 'LK', 'LGN',\n",
      "       'LKA', 'LKB', 'LKM', 'LMS', 'MAQ', 'ML', 'MNR', 'MR', 'MRB', 'MRH',\n",
      "       'PLT', 'PNT', 'PO', 'POA', 'POM', 'POT', 'PST', 'PTH', 'RC', 'RD',\n",
      "       'RIV', 'RIVD', 'RIVF', 'RIVM', 'RIVRM', 'RIVT', 'RP', 'RPB', 'SEP',\n",
      "       'SHL', 'SND', 'SNW', 'SOL', 'SPG', 'STM', 'STMD', 'STMF', 'STMM',\n",
      "       'STMRM', 'STMT', 'SW', 'SWB', 'SWG', 'TH', 'TSTM', 'VEG', 'VLC', 'VTR'],\n",
      "      dtype='object')\n",
      "1997\n",
      "79\n",
      "['AC', 'ALG', 'ATR', 'BAM', 'BOG', 'BP', 'BRK', 'BWP', 'CEM', 'CNL', 'COR', 'CRH', 'CST', 'CV', 'DAM', 'DRN', 'DTH', 'FH', 'FNG', 'FP', 'FPP', 'GDN', 'GP', 'GPA', 'GPB', 'GPT', 'HGW', 'IC', 'LA', 'LK', 'LGN', 'LKA', 'LKB', 'LKM', 'LMS', 'MAQ', 'ML', 'MNR', 'MR', 'MRB', 'MRH', 'PLT', 'PNT', 'PO', 'POA', 'POM', 'POT', 'PST', 'PTH', 'RC', 'RD', 'RIV', 'RIVD', 'RIVF', 'RIVM', 'RIVRM', 'RIVT', 'RP', 'RPB', 'SEP', 'SHL', 'SND', 'SNW', 'SOL', 'SPG', 'STM', 'STMD', 'STMF', 'STMM', 'STMRM', 'STMT', 'SW', 'SWB', 'SWG', 'TH', 'TSTM', 'VEG', 'VLC', 'VTR']\n",
      "1997\n",
      "[[3 0 0 ... 0 0 0]\n",
      " [0 0 2 ... 0 0 1]\n",
      " [0 0 1 ... 0 0 1]\n",
      " ...\n",
      " [0 0 0 ... 0 0 0]\n",
      " [0 0 0 ... 0 0 0]\n",
      " [1 0 0 ... 0 0 0]]\n"
     ]
    }
   ],
   "source": [
    "\n",
    "habitat_species_df = habitat_species_relationship.drop(columns=['SUM', 'UNIQUE_SUM', 'PROPORTION'])\n",
    "\n",
    "# Drop columns with n or less observations\n",
    "drop_cols_non_unique = []\n",
    "for i in habitat_species_df.columns:\n",
    "    print(i, len(habitat_species_df[habitat_species_df[i] == 1].index.tolist()))\n",
    "    if len(habitat_species_df[habitat_species_df[i] == 1].index.tolist()) <= MINIMUM_SPECIES_NON_UNIQUE:\n",
    "        drop_cols_non_unique.append(i)\n",
    "\n",
    "habitat_species_df = habitat_species_df.drop(columns=drop_cols_non_unique)\n",
    "\n",
    "print(habitat_species_df.columns)\n",
    "\n",
    "\n",
    "# species ID nodes\n",
    "species_nodes = list(habitat_species_df.index)\n",
    "print(len(species_nodes))\n",
    "# habitat nodes -- removes the 'Record_ID' column at the first position\n",
    "habitat_nodes = list(habitat_species_df.columns)\n",
    "print(len(habitat_nodes))\n",
    "print(habitat_nodes)\n",
    "# retrieves on the values from the matrix for looping through all values to make tuples out of column/row relationships\n",
    "val_matrix = habitat_species_df.values\n",
    "print(len(val_matrix))\n",
    "print(val_matrix)"
   ],
   "metadata": {
    "collapsed": false,
    "ExecuteTime": {
     "end_time": "2024-07-15T17:14:05.491284400Z",
     "start_time": "2024-07-15T17:14:05.411717700Z"
    }
   }
  },
  {
   "cell_type": "code",
   "execution_count": 115,
   "outputs": [
    {
     "data": {
      "text/plain": "     AC ALG ATR BAM BOG BP BRK BWP CEM CNL  ... STMRM STMT SW SWB SWG TH TSTM  \\\n0     3   0   0   0   0  0   0   1   0   0  ...     0    0  1   0   0  0    0   \n1     0   0   2   0   0  0   0   0   0   0  ...     0    0  0   0   0  0    0   \n2     0   0   1   0   0  0   0   0   0   0  ...     0    0  1   0   0  0    0   \n3     0   0   0   0   0  0   0   0   0   0  ...     0    0  0   0   0  0    0   \n4     0   0   0   0   0  0   1   0   0   0  ...     0    0  0   0   0  0    0   \n...  ..  ..  ..  ..  .. ..  ..  ..  ..  ..  ...   ...  ... ..  ..  .. ..  ...   \n1993  0   0   0   1   0  0   0   0   0   0  ...     0    0  0   0   0  0    0   \n1994  0   0   0   1   0  0   0   0   0   0  ...     0    0  0   0   0  0    0   \n1995  0   0   0   0   0  0   0   0   0   0  ...     0    0  0   0   0  1    0   \n1996  0   0   0   1   0  0   0   0   0   0  ...     0    0  0   0   0  0    0   \n1997  1   0   0   0   0  0   0   0   0   0  ...     0    0  0   0   0  0    0   \n\n     VEG VLC VTR  \n0      0   0   0  \n1      0   0   1  \n2      0   0   1  \n3      0   0   0  \n4      0   0   0  \n...   ..  ..  ..  \n1993   0   0   0  \n1994   0   0   0  \n1995   0   0   0  \n1996   0   0   0  \n1997   0   0   0  \n\n[1997 rows x 79 columns]",
      "text/html": "<div>\n<style scoped>\n    .dataframe tbody tr th:only-of-type {\n        vertical-align: middle;\n    }\n\n    .dataframe tbody tr th {\n        vertical-align: top;\n    }\n\n    .dataframe thead th {\n        text-align: right;\n    }\n</style>\n<table border=\"1\" class=\"dataframe\">\n  <thead>\n    <tr style=\"text-align: right;\">\n      <th></th>\n      <th>AC</th>\n      <th>ALG</th>\n      <th>ATR</th>\n      <th>BAM</th>\n      <th>BOG</th>\n      <th>BP</th>\n      <th>BRK</th>\n      <th>BWP</th>\n      <th>CEM</th>\n      <th>CNL</th>\n      <th>...</th>\n      <th>STMRM</th>\n      <th>STMT</th>\n      <th>SW</th>\n      <th>SWB</th>\n      <th>SWG</th>\n      <th>TH</th>\n      <th>TSTM</th>\n      <th>VEG</th>\n      <th>VLC</th>\n      <th>VTR</th>\n    </tr>\n  </thead>\n  <tbody>\n    <tr>\n      <th>0</th>\n      <td>3</td>\n      <td>0</td>\n      <td>0</td>\n      <td>0</td>\n      <td>0</td>\n      <td>0</td>\n      <td>0</td>\n      <td>1</td>\n      <td>0</td>\n      <td>0</td>\n      <td>...</td>\n      <td>0</td>\n      <td>0</td>\n      <td>1</td>\n      <td>0</td>\n      <td>0</td>\n      <td>0</td>\n      <td>0</td>\n      <td>0</td>\n      <td>0</td>\n      <td>0</td>\n    </tr>\n    <tr>\n      <th>1</th>\n      <td>0</td>\n      <td>0</td>\n      <td>2</td>\n      <td>0</td>\n      <td>0</td>\n      <td>0</td>\n      <td>0</td>\n      <td>0</td>\n      <td>0</td>\n      <td>0</td>\n      <td>...</td>\n      <td>0</td>\n      <td>0</td>\n      <td>0</td>\n      <td>0</td>\n      <td>0</td>\n      <td>0</td>\n      <td>0</td>\n      <td>0</td>\n      <td>0</td>\n      <td>1</td>\n    </tr>\n    <tr>\n      <th>2</th>\n      <td>0</td>\n      <td>0</td>\n      <td>1</td>\n      <td>0</td>\n      <td>0</td>\n      <td>0</td>\n      <td>0</td>\n      <td>0</td>\n      <td>0</td>\n      <td>0</td>\n      <td>...</td>\n      <td>0</td>\n      <td>0</td>\n      <td>1</td>\n      <td>0</td>\n      <td>0</td>\n      <td>0</td>\n      <td>0</td>\n      <td>0</td>\n      <td>0</td>\n      <td>1</td>\n    </tr>\n    <tr>\n      <th>3</th>\n      <td>0</td>\n      <td>0</td>\n      <td>0</td>\n      <td>0</td>\n      <td>0</td>\n      <td>0</td>\n      <td>0</td>\n      <td>0</td>\n      <td>0</td>\n      <td>0</td>\n      <td>...</td>\n      <td>0</td>\n      <td>0</td>\n      <td>0</td>\n      <td>0</td>\n      <td>0</td>\n      <td>0</td>\n      <td>0</td>\n      <td>0</td>\n      <td>0</td>\n      <td>0</td>\n    </tr>\n    <tr>\n      <th>4</th>\n      <td>0</td>\n      <td>0</td>\n      <td>0</td>\n      <td>0</td>\n      <td>0</td>\n      <td>0</td>\n      <td>1</td>\n      <td>0</td>\n      <td>0</td>\n      <td>0</td>\n      <td>...</td>\n      <td>0</td>\n      <td>0</td>\n      <td>0</td>\n      <td>0</td>\n      <td>0</td>\n      <td>0</td>\n      <td>0</td>\n      <td>0</td>\n      <td>0</td>\n      <td>0</td>\n    </tr>\n    <tr>\n      <th>...</th>\n      <td>...</td>\n      <td>...</td>\n      <td>...</td>\n      <td>...</td>\n      <td>...</td>\n      <td>...</td>\n      <td>...</td>\n      <td>...</td>\n      <td>...</td>\n      <td>...</td>\n      <td>...</td>\n      <td>...</td>\n      <td>...</td>\n      <td>...</td>\n      <td>...</td>\n      <td>...</td>\n      <td>...</td>\n      <td>...</td>\n      <td>...</td>\n      <td>...</td>\n      <td>...</td>\n    </tr>\n    <tr>\n      <th>1993</th>\n      <td>0</td>\n      <td>0</td>\n      <td>0</td>\n      <td>1</td>\n      <td>0</td>\n      <td>0</td>\n      <td>0</td>\n      <td>0</td>\n      <td>0</td>\n      <td>0</td>\n      <td>...</td>\n      <td>0</td>\n      <td>0</td>\n      <td>0</td>\n      <td>0</td>\n      <td>0</td>\n      <td>0</td>\n      <td>0</td>\n      <td>0</td>\n      <td>0</td>\n      <td>0</td>\n    </tr>\n    <tr>\n      <th>1994</th>\n      <td>0</td>\n      <td>0</td>\n      <td>0</td>\n      <td>1</td>\n      <td>0</td>\n      <td>0</td>\n      <td>0</td>\n      <td>0</td>\n      <td>0</td>\n      <td>0</td>\n      <td>...</td>\n      <td>0</td>\n      <td>0</td>\n      <td>0</td>\n      <td>0</td>\n      <td>0</td>\n      <td>0</td>\n      <td>0</td>\n      <td>0</td>\n      <td>0</td>\n      <td>0</td>\n    </tr>\n    <tr>\n      <th>1995</th>\n      <td>0</td>\n      <td>0</td>\n      <td>0</td>\n      <td>0</td>\n      <td>0</td>\n      <td>0</td>\n      <td>0</td>\n      <td>0</td>\n      <td>0</td>\n      <td>0</td>\n      <td>...</td>\n      <td>0</td>\n      <td>0</td>\n      <td>0</td>\n      <td>0</td>\n      <td>0</td>\n      <td>1</td>\n      <td>0</td>\n      <td>0</td>\n      <td>0</td>\n      <td>0</td>\n    </tr>\n    <tr>\n      <th>1996</th>\n      <td>0</td>\n      <td>0</td>\n      <td>0</td>\n      <td>1</td>\n      <td>0</td>\n      <td>0</td>\n      <td>0</td>\n      <td>0</td>\n      <td>0</td>\n      <td>0</td>\n      <td>...</td>\n      <td>0</td>\n      <td>0</td>\n      <td>0</td>\n      <td>0</td>\n      <td>0</td>\n      <td>0</td>\n      <td>0</td>\n      <td>0</td>\n      <td>0</td>\n      <td>0</td>\n    </tr>\n    <tr>\n      <th>1997</th>\n      <td>1</td>\n      <td>0</td>\n      <td>0</td>\n      <td>0</td>\n      <td>0</td>\n      <td>0</td>\n      <td>0</td>\n      <td>0</td>\n      <td>0</td>\n      <td>0</td>\n      <td>...</td>\n      <td>0</td>\n      <td>0</td>\n      <td>0</td>\n      <td>0</td>\n      <td>0</td>\n      <td>0</td>\n      <td>0</td>\n      <td>0</td>\n      <td>0</td>\n      <td>0</td>\n    </tr>\n  </tbody>\n</table>\n<p>1997 rows × 79 columns</p>\n</div>"
     },
     "execution_count": 115,
     "metadata": {},
     "output_type": "execute_result"
    }
   ],
   "source": [
    "habitat_species_df"
   ],
   "metadata": {
    "collapsed": false,
    "ExecuteTime": {
     "end_time": "2024-07-15T17:14:05.542533400Z",
     "start_time": "2024-07-15T17:14:05.491284400Z"
    }
   }
  },
  {
   "cell_type": "code",
   "execution_count": 116,
   "outputs": [
    {
     "name": "stdout",
     "output_type": "stream",
     "text": [
      "AC 149\n",
      "ATR 90\n",
      "BAM 216\n",
      "BP 17\n",
      "COR 19\n",
      "CRH 78\n",
      "CV 4\n",
      "DRN 62\n",
      "DTH 141\n",
      "FH 82\n",
      "FP 20\n",
      "FPP 92\n",
      "GP 417\n",
      "GPB 17\n",
      "GPT 242\n",
      "HGW 15\n",
      "IC 54\n",
      "LA 317\n",
      "LK 39\n",
      "LGN 28\n",
      "ML 54\n",
      "MR 9\n",
      "MRB 14\n",
      "MRH 87\n",
      "PLT 8\n",
      "PO 142\n",
      "POM 21\n",
      "RC 87\n",
      "RD 55\n",
      "RIVM 40\n",
      "RIVRM 3\n",
      "RP 245\n",
      "RPB 13\n",
      "SEP 65\n",
      "SNW 21\n",
      "SPG 45\n",
      "STM 182\n",
      "STMD 10\n",
      "STMF 4\n",
      "STMM 131\n",
      "STMRM 29\n",
      "STMT 19\n",
      "SW 210\n",
      "TH 343\n",
      "Index(['AC', 'ATR', 'BAM', 'BP', 'COR', 'CRH', 'DRN', 'DTH', 'FH', 'FP', 'FPP',\n",
      "       'GP', 'GPB', 'GPT', 'HGW', 'IC', 'LA', 'LK', 'LGN', 'ML', 'MRB', 'MRH',\n",
      "       'PO', 'POM', 'RC', 'RD', 'RIVM', 'RP', 'RPB', 'SEP', 'SNW', 'SPG',\n",
      "       'STM', 'STMM', 'STMRM', 'STMT', 'SW', 'TH'],\n",
      "      dtype='object')\n"
     ]
    }
   ],
   "source": [
    "# Removes all columns have that less than 10 species\n",
    "\n",
    "cols_to_drop = []\n",
    "\n",
    "# For each column, check if it is the only contributor to the row sum\n",
    "for col in habitat_species_df.columns:\n",
    "    temp_df = habitat_species_df.copy()\n",
    "    temp_df[col] = 0\n",
    "    if not (temp_df.sum(axis=1) == 0).any():\n",
    "        cols_to_drop.append(col)\n",
    "\n",
    "# Drop unnecessary columns\n",
    "df_unique = habitat_species_df.drop(columns=cols_to_drop)\n",
    "\n",
    "# Drop columns with n or less observations\n",
    "drop_cols = []\n",
    "for i in df_unique.columns:\n",
    "    print(i, len(df_unique[df_unique[i] == 1].index.tolist()))\n",
    "    if len(df_unique[df_unique[i] == 1].index.tolist()) <= MINIMUM_SPECIES_UNIQUE:\n",
    "        drop_cols.append(i)\n",
    "\n",
    "df_unique = df_unique.drop(columns=drop_cols)\n",
    "\n",
    "print(df_unique.columns)"
   ],
   "metadata": {
    "collapsed": false,
    "ExecuteTime": {
     "end_time": "2024-07-15T17:14:07.287369Z",
     "start_time": "2024-07-15T17:14:05.538019300Z"
    }
   }
  },
  {
   "cell_type": "code",
   "execution_count": 117,
   "outputs": [
    {
     "data": {
      "text/plain": "     AC ALG ATR BAM BOG BP BRK BWP CEM CNL  ... STMRM STMT SW SWB SWG TH TSTM  \\\n0     3   0   0   0   0  0   0   1   0   0  ...     0    0  1   0   0  0    0   \n1     0   0   2   0   0  0   0   0   0   0  ...     0    0  0   0   0  0    0   \n2     0   0   1   0   0  0   0   0   0   0  ...     0    0  1   0   0  0    0   \n3     0   0   0   0   0  0   0   0   0   0  ...     0    0  0   0   0  0    0   \n4     0   0   0   0   0  0   1   0   0   0  ...     0    0  0   0   0  0    0   \n...  ..  ..  ..  ..  .. ..  ..  ..  ..  ..  ...   ...  ... ..  ..  .. ..  ...   \n1993  0   0   0   1   0  0   0   0   0   0  ...     0    0  0   0   0  0    0   \n1994  0   0   0   1   0  0   0   0   0   0  ...     0    0  0   0   0  0    0   \n1995  0   0   0   0   0  0   0   0   0   0  ...     0    0  0   0   0  1    0   \n1996  0   0   0   1   0  0   0   0   0   0  ...     0    0  0   0   0  0    0   \n1997  1   0   0   0   0  0   0   0   0   0  ...     0    0  0   0   0  0    0   \n\n     VEG VLC VTR  \n0      0   0   0  \n1      0   0   1  \n2      0   0   1  \n3      0   0   0  \n4      0   0   0  \n...   ..  ..  ..  \n1993   0   0   0  \n1994   0   0   0  \n1995   0   0   0  \n1996   0   0   0  \n1997   0   0   0  \n\n[1997 rows x 79 columns]",
      "text/html": "<div>\n<style scoped>\n    .dataframe tbody tr th:only-of-type {\n        vertical-align: middle;\n    }\n\n    .dataframe tbody tr th {\n        vertical-align: top;\n    }\n\n    .dataframe thead th {\n        text-align: right;\n    }\n</style>\n<table border=\"1\" class=\"dataframe\">\n  <thead>\n    <tr style=\"text-align: right;\">\n      <th></th>\n      <th>AC</th>\n      <th>ALG</th>\n      <th>ATR</th>\n      <th>BAM</th>\n      <th>BOG</th>\n      <th>BP</th>\n      <th>BRK</th>\n      <th>BWP</th>\n      <th>CEM</th>\n      <th>CNL</th>\n      <th>...</th>\n      <th>STMRM</th>\n      <th>STMT</th>\n      <th>SW</th>\n      <th>SWB</th>\n      <th>SWG</th>\n      <th>TH</th>\n      <th>TSTM</th>\n      <th>VEG</th>\n      <th>VLC</th>\n      <th>VTR</th>\n    </tr>\n  </thead>\n  <tbody>\n    <tr>\n      <th>0</th>\n      <td>3</td>\n      <td>0</td>\n      <td>0</td>\n      <td>0</td>\n      <td>0</td>\n      <td>0</td>\n      <td>0</td>\n      <td>1</td>\n      <td>0</td>\n      <td>0</td>\n      <td>...</td>\n      <td>0</td>\n      <td>0</td>\n      <td>1</td>\n      <td>0</td>\n      <td>0</td>\n      <td>0</td>\n      <td>0</td>\n      <td>0</td>\n      <td>0</td>\n      <td>0</td>\n    </tr>\n    <tr>\n      <th>1</th>\n      <td>0</td>\n      <td>0</td>\n      <td>2</td>\n      <td>0</td>\n      <td>0</td>\n      <td>0</td>\n      <td>0</td>\n      <td>0</td>\n      <td>0</td>\n      <td>0</td>\n      <td>...</td>\n      <td>0</td>\n      <td>0</td>\n      <td>0</td>\n      <td>0</td>\n      <td>0</td>\n      <td>0</td>\n      <td>0</td>\n      <td>0</td>\n      <td>0</td>\n      <td>1</td>\n    </tr>\n    <tr>\n      <th>2</th>\n      <td>0</td>\n      <td>0</td>\n      <td>1</td>\n      <td>0</td>\n      <td>0</td>\n      <td>0</td>\n      <td>0</td>\n      <td>0</td>\n      <td>0</td>\n      <td>0</td>\n      <td>...</td>\n      <td>0</td>\n      <td>0</td>\n      <td>1</td>\n      <td>0</td>\n      <td>0</td>\n      <td>0</td>\n      <td>0</td>\n      <td>0</td>\n      <td>0</td>\n      <td>1</td>\n    </tr>\n    <tr>\n      <th>3</th>\n      <td>0</td>\n      <td>0</td>\n      <td>0</td>\n      <td>0</td>\n      <td>0</td>\n      <td>0</td>\n      <td>0</td>\n      <td>0</td>\n      <td>0</td>\n      <td>0</td>\n      <td>...</td>\n      <td>0</td>\n      <td>0</td>\n      <td>0</td>\n      <td>0</td>\n      <td>0</td>\n      <td>0</td>\n      <td>0</td>\n      <td>0</td>\n      <td>0</td>\n      <td>0</td>\n    </tr>\n    <tr>\n      <th>4</th>\n      <td>0</td>\n      <td>0</td>\n      <td>0</td>\n      <td>0</td>\n      <td>0</td>\n      <td>0</td>\n      <td>1</td>\n      <td>0</td>\n      <td>0</td>\n      <td>0</td>\n      <td>...</td>\n      <td>0</td>\n      <td>0</td>\n      <td>0</td>\n      <td>0</td>\n      <td>0</td>\n      <td>0</td>\n      <td>0</td>\n      <td>0</td>\n      <td>0</td>\n      <td>0</td>\n    </tr>\n    <tr>\n      <th>...</th>\n      <td>...</td>\n      <td>...</td>\n      <td>...</td>\n      <td>...</td>\n      <td>...</td>\n      <td>...</td>\n      <td>...</td>\n      <td>...</td>\n      <td>...</td>\n      <td>...</td>\n      <td>...</td>\n      <td>...</td>\n      <td>...</td>\n      <td>...</td>\n      <td>...</td>\n      <td>...</td>\n      <td>...</td>\n      <td>...</td>\n      <td>...</td>\n      <td>...</td>\n      <td>...</td>\n    </tr>\n    <tr>\n      <th>1993</th>\n      <td>0</td>\n      <td>0</td>\n      <td>0</td>\n      <td>1</td>\n      <td>0</td>\n      <td>0</td>\n      <td>0</td>\n      <td>0</td>\n      <td>0</td>\n      <td>0</td>\n      <td>...</td>\n      <td>0</td>\n      <td>0</td>\n      <td>0</td>\n      <td>0</td>\n      <td>0</td>\n      <td>0</td>\n      <td>0</td>\n      <td>0</td>\n      <td>0</td>\n      <td>0</td>\n    </tr>\n    <tr>\n      <th>1994</th>\n      <td>0</td>\n      <td>0</td>\n      <td>0</td>\n      <td>1</td>\n      <td>0</td>\n      <td>0</td>\n      <td>0</td>\n      <td>0</td>\n      <td>0</td>\n      <td>0</td>\n      <td>...</td>\n      <td>0</td>\n      <td>0</td>\n      <td>0</td>\n      <td>0</td>\n      <td>0</td>\n      <td>0</td>\n      <td>0</td>\n      <td>0</td>\n      <td>0</td>\n      <td>0</td>\n    </tr>\n    <tr>\n      <th>1995</th>\n      <td>0</td>\n      <td>0</td>\n      <td>0</td>\n      <td>0</td>\n      <td>0</td>\n      <td>0</td>\n      <td>0</td>\n      <td>0</td>\n      <td>0</td>\n      <td>0</td>\n      <td>...</td>\n      <td>0</td>\n      <td>0</td>\n      <td>0</td>\n      <td>0</td>\n      <td>0</td>\n      <td>1</td>\n      <td>0</td>\n      <td>0</td>\n      <td>0</td>\n      <td>0</td>\n    </tr>\n    <tr>\n      <th>1996</th>\n      <td>0</td>\n      <td>0</td>\n      <td>0</td>\n      <td>1</td>\n      <td>0</td>\n      <td>0</td>\n      <td>0</td>\n      <td>0</td>\n      <td>0</td>\n      <td>0</td>\n      <td>...</td>\n      <td>0</td>\n      <td>0</td>\n      <td>0</td>\n      <td>0</td>\n      <td>0</td>\n      <td>0</td>\n      <td>0</td>\n      <td>0</td>\n      <td>0</td>\n      <td>0</td>\n    </tr>\n    <tr>\n      <th>1997</th>\n      <td>1</td>\n      <td>0</td>\n      <td>0</td>\n      <td>0</td>\n      <td>0</td>\n      <td>0</td>\n      <td>0</td>\n      <td>0</td>\n      <td>0</td>\n      <td>0</td>\n      <td>...</td>\n      <td>0</td>\n      <td>0</td>\n      <td>0</td>\n      <td>0</td>\n      <td>0</td>\n      <td>0</td>\n      <td>0</td>\n      <td>0</td>\n      <td>0</td>\n      <td>0</td>\n    </tr>\n  </tbody>\n</table>\n<p>1997 rows × 79 columns</p>\n</div>"
     },
     "execution_count": 117,
     "metadata": {},
     "output_type": "execute_result"
    }
   ],
   "source": [
    "habitat_species_df"
   ],
   "metadata": {
    "collapsed": false,
    "ExecuteTime": {
     "end_time": "2024-07-15T17:14:07.350468600Z",
     "start_time": "2024-07-15T17:14:07.291057200Z"
    }
   }
  },
  {
   "cell_type": "code",
   "execution_count": 118,
   "outputs": [
    {
     "name": "stdout",
     "output_type": "stream",
     "text": [
      "AC 149\n",
      "ATR 90\n",
      "BAM 216\n",
      "BP 17\n",
      "COR 19\n",
      "CRH 78\n",
      "CV 4\n",
      "DRN 62\n",
      "DTH 141\n",
      "FH 82\n",
      "FP 20\n",
      "FPP 92\n",
      "GP 417\n",
      "GPB 17\n",
      "GPT 242\n",
      "HGW 15\n",
      "IC 54\n",
      "LA 317\n",
      "LK 39\n",
      "LGN 28\n",
      "ML 54\n",
      "MR 9\n",
      "MRB 14\n",
      "MRH 87\n",
      "PLT 8\n",
      "PO 142\n",
      "POM 21\n",
      "RC 87\n",
      "RD 55\n",
      "RIVM 40\n",
      "RIVRM 3\n",
      "RP 245\n",
      "RPB 13\n",
      "SEP 65\n",
      "SNW 21\n",
      "SPG 45\n",
      "STM 182\n",
      "STMD 10\n",
      "STMF 4\n",
      "STMM 131\n",
      "STMRM 29\n",
      "STMT 19\n",
      "SW 210\n",
      "TH 343\n",
      "Index(['AC', 'ATR', 'BAM', 'BP', 'COR', 'CRH', 'DRN', 'DTH', 'FH', 'FP', 'FPP',\n",
      "       'GP', 'GPB', 'GPT', 'HGW', 'IC', 'LA', 'LK', 'LGN', 'ML', 'MRB', 'MRH',\n",
      "       'PO', 'POM', 'RC', 'RD', 'RIVM', 'RP', 'RPB', 'SEP', 'SNW', 'SPG',\n",
      "       'STM', 'STMM', 'STMRM', 'STMT', 'SW', 'TH'],\n",
      "      dtype='object')\n",
      "Int64Index([   0,    1,    2,    3,    4,    5,    6,    7,    8,    9,\n",
      "            ...\n",
      "            1988, 1989, 1990, 1991, 1992, 1993, 1994, 1995, 1996, 1997],\n",
      "           dtype='int64', length=1997)\n"
     ]
    }
   ],
   "source": [
    "# Removes all columns that have less than 10 species\n",
    "\n",
    "cols_to_drop = []\n",
    "\n",
    "# For each column, check if it is the only contributor to the row sum\n",
    "for col in habitat_species_df.columns:\n",
    "    temp_df = habitat_species_df.copy()  # Ensure index is copied\n",
    "    temp_df[col] = 0\n",
    "    if not (temp_df.sum(axis=1) == 0).any():\n",
    "        cols_to_drop.append(col)\n",
    "\n",
    "# Drop unnecessary columns\n",
    "df_unique = habitat_species_df.drop(columns=cols_to_drop)\n",
    "\n",
    "# Drop columns with n or less observations\n",
    "drop_cols = []\n",
    "for i in df_unique.columns:\n",
    "    print(i, len(df_unique[df_unique[i] == 1].index.tolist()))\n",
    "    if len(df_unique[df_unique[i] == 1].index.tolist()) <= MINIMUM_SPECIES_UNIQUE:\n",
    "        drop_cols.append(i)\n",
    "\n",
    "df_unique = df_unique.drop(columns=drop_cols)\n",
    "\n",
    "# Ensure the index (row names) is preserved\n",
    "df_unique.index = habitat_species_df.index\n",
    "\n",
    "print(df_unique.columns)\n",
    "print(df_unique.index)  # Check the row names (index)\n"
   ],
   "metadata": {
    "collapsed": false,
    "ExecuteTime": {
     "end_time": "2024-07-15T17:14:09.083538200Z",
     "start_time": "2024-07-15T17:14:07.350468600Z"
    }
   }
  },
  {
   "cell_type": "code",
   "execution_count": 119,
   "outputs": [],
   "source": [
    "# get all rows indexes that sum to 1\n",
    "\n",
    "# Calculate the sum of each row\n",
    "row_sums = df_unique.sum(axis=1)\n",
    "\n",
    "# Get the indices of rows that sum to 0\n",
    "rows_to_drop = row_sums[row_sums == 0].index"
   ],
   "metadata": {
    "collapsed": false,
    "ExecuteTime": {
     "end_time": "2024-07-15T17:14:09.099047700Z",
     "start_time": "2024-07-15T17:14:09.083538200Z"
    }
   }
  },
  {
   "cell_type": "code",
   "execution_count": 120,
   "outputs": [
    {
     "data": {
      "text/plain": "                   Genus_Species AC ATR BAM BP COR CRH DRN DTH FH  ... RPB  \\\n0              Anopheles_farauti  3   0   0  0   1   0   0   0  1  ...   0   \n1          Anopheles_punctulatus  0   2   0  0   0   0   0   0  0  ...   0   \n2            Anopheles_koliensis  0   1   0  0   0   0   1   1  0  ...   0   \n3             Anopheles_nataliae  0   0   0  0   2   0   0   0  0  ...   0   \n4            Anopheles_solomonis  0   0   0  0   2   0   0   0  0  ...   0   \n...                          ... ..  ..  .. ..  ..  ..  ..  .. ..  ...  ..   \n1992  Trichoprosopon_vonplesseni  0   0   1  0   0   0   0   0  0  ...   0   \n1993    Shannoniana_schedocyclia  0   0   1  0   0   0   0   0  0  ...   0   \n1994               Culex_marksae  0   0   0  0   0   0   0   0  0  ...   0   \n1995           Aedes_formosensis  0   0   1  0   0   0   0   0  0  ...   0   \n1996              Culex_usquatus  1   0   0  0   0   0   0   0  0  ...   0   \n\n     SEP SNW SPG STM STMM STMRM STMT SW TH  \n0      1   0   2   0    2     0    0  1  0  \n1      0   0   0   1    0     0    0  0  0  \n2      0   0   0   0    0     0    0  1  0  \n3      2   0   2   3    1     0    0  0  0  \n4      0   0   0   2    2     0    0  0  0  \n...   ..  ..  ..  ..  ...   ...  ... .. ..  \n1992   0   0   0   0    0     0    0  0  0  \n1993   0   0   0   0    0     0    0  0  0  \n1994   0   0   0   0    0     0    0  0  1  \n1995   0   0   0   0    0     0    0  0  0  \n1996   0   0   0   0    0     0    0  0  0  \n\n[1988 rows x 39 columns]",
      "text/html": "<div>\n<style scoped>\n    .dataframe tbody tr th:only-of-type {\n        vertical-align: middle;\n    }\n\n    .dataframe tbody tr th {\n        vertical-align: top;\n    }\n\n    .dataframe thead th {\n        text-align: right;\n    }\n</style>\n<table border=\"1\" class=\"dataframe\">\n  <thead>\n    <tr style=\"text-align: right;\">\n      <th></th>\n      <th>Genus_Species</th>\n      <th>AC</th>\n      <th>ATR</th>\n      <th>BAM</th>\n      <th>BP</th>\n      <th>COR</th>\n      <th>CRH</th>\n      <th>DRN</th>\n      <th>DTH</th>\n      <th>FH</th>\n      <th>...</th>\n      <th>RPB</th>\n      <th>SEP</th>\n      <th>SNW</th>\n      <th>SPG</th>\n      <th>STM</th>\n      <th>STMM</th>\n      <th>STMRM</th>\n      <th>STMT</th>\n      <th>SW</th>\n      <th>TH</th>\n    </tr>\n  </thead>\n  <tbody>\n    <tr>\n      <th>0</th>\n      <td>Anopheles_farauti</td>\n      <td>3</td>\n      <td>0</td>\n      <td>0</td>\n      <td>0</td>\n      <td>1</td>\n      <td>0</td>\n      <td>0</td>\n      <td>0</td>\n      <td>1</td>\n      <td>...</td>\n      <td>0</td>\n      <td>1</td>\n      <td>0</td>\n      <td>2</td>\n      <td>0</td>\n      <td>2</td>\n      <td>0</td>\n      <td>0</td>\n      <td>1</td>\n      <td>0</td>\n    </tr>\n    <tr>\n      <th>1</th>\n      <td>Anopheles_punctulatus</td>\n      <td>0</td>\n      <td>2</td>\n      <td>0</td>\n      <td>0</td>\n      <td>0</td>\n      <td>0</td>\n      <td>0</td>\n      <td>0</td>\n      <td>0</td>\n      <td>...</td>\n      <td>0</td>\n      <td>0</td>\n      <td>0</td>\n      <td>0</td>\n      <td>1</td>\n      <td>0</td>\n      <td>0</td>\n      <td>0</td>\n      <td>0</td>\n      <td>0</td>\n    </tr>\n    <tr>\n      <th>2</th>\n      <td>Anopheles_koliensis</td>\n      <td>0</td>\n      <td>1</td>\n      <td>0</td>\n      <td>0</td>\n      <td>0</td>\n      <td>0</td>\n      <td>1</td>\n      <td>1</td>\n      <td>0</td>\n      <td>...</td>\n      <td>0</td>\n      <td>0</td>\n      <td>0</td>\n      <td>0</td>\n      <td>0</td>\n      <td>0</td>\n      <td>0</td>\n      <td>0</td>\n      <td>1</td>\n      <td>0</td>\n    </tr>\n    <tr>\n      <th>3</th>\n      <td>Anopheles_nataliae</td>\n      <td>0</td>\n      <td>0</td>\n      <td>0</td>\n      <td>0</td>\n      <td>2</td>\n      <td>0</td>\n      <td>0</td>\n      <td>0</td>\n      <td>0</td>\n      <td>...</td>\n      <td>0</td>\n      <td>2</td>\n      <td>0</td>\n      <td>2</td>\n      <td>3</td>\n      <td>1</td>\n      <td>0</td>\n      <td>0</td>\n      <td>0</td>\n      <td>0</td>\n    </tr>\n    <tr>\n      <th>4</th>\n      <td>Anopheles_solomonis</td>\n      <td>0</td>\n      <td>0</td>\n      <td>0</td>\n      <td>0</td>\n      <td>2</td>\n      <td>0</td>\n      <td>0</td>\n      <td>0</td>\n      <td>0</td>\n      <td>...</td>\n      <td>0</td>\n      <td>0</td>\n      <td>0</td>\n      <td>0</td>\n      <td>2</td>\n      <td>2</td>\n      <td>0</td>\n      <td>0</td>\n      <td>0</td>\n      <td>0</td>\n    </tr>\n    <tr>\n      <th>...</th>\n      <td>...</td>\n      <td>...</td>\n      <td>...</td>\n      <td>...</td>\n      <td>...</td>\n      <td>...</td>\n      <td>...</td>\n      <td>...</td>\n      <td>...</td>\n      <td>...</td>\n      <td>...</td>\n      <td>...</td>\n      <td>...</td>\n      <td>...</td>\n      <td>...</td>\n      <td>...</td>\n      <td>...</td>\n      <td>...</td>\n      <td>...</td>\n      <td>...</td>\n      <td>...</td>\n    </tr>\n    <tr>\n      <th>1992</th>\n      <td>Trichoprosopon_vonplesseni</td>\n      <td>0</td>\n      <td>0</td>\n      <td>1</td>\n      <td>0</td>\n      <td>0</td>\n      <td>0</td>\n      <td>0</td>\n      <td>0</td>\n      <td>0</td>\n      <td>...</td>\n      <td>0</td>\n      <td>0</td>\n      <td>0</td>\n      <td>0</td>\n      <td>0</td>\n      <td>0</td>\n      <td>0</td>\n      <td>0</td>\n      <td>0</td>\n      <td>0</td>\n    </tr>\n    <tr>\n      <th>1993</th>\n      <td>Shannoniana_schedocyclia</td>\n      <td>0</td>\n      <td>0</td>\n      <td>1</td>\n      <td>0</td>\n      <td>0</td>\n      <td>0</td>\n      <td>0</td>\n      <td>0</td>\n      <td>0</td>\n      <td>...</td>\n      <td>0</td>\n      <td>0</td>\n      <td>0</td>\n      <td>0</td>\n      <td>0</td>\n      <td>0</td>\n      <td>0</td>\n      <td>0</td>\n      <td>0</td>\n      <td>0</td>\n    </tr>\n    <tr>\n      <th>1994</th>\n      <td>Culex_marksae</td>\n      <td>0</td>\n      <td>0</td>\n      <td>0</td>\n      <td>0</td>\n      <td>0</td>\n      <td>0</td>\n      <td>0</td>\n      <td>0</td>\n      <td>0</td>\n      <td>...</td>\n      <td>0</td>\n      <td>0</td>\n      <td>0</td>\n      <td>0</td>\n      <td>0</td>\n      <td>0</td>\n      <td>0</td>\n      <td>0</td>\n      <td>0</td>\n      <td>1</td>\n    </tr>\n    <tr>\n      <th>1995</th>\n      <td>Aedes_formosensis</td>\n      <td>0</td>\n      <td>0</td>\n      <td>1</td>\n      <td>0</td>\n      <td>0</td>\n      <td>0</td>\n      <td>0</td>\n      <td>0</td>\n      <td>0</td>\n      <td>...</td>\n      <td>0</td>\n      <td>0</td>\n      <td>0</td>\n      <td>0</td>\n      <td>0</td>\n      <td>0</td>\n      <td>0</td>\n      <td>0</td>\n      <td>0</td>\n      <td>0</td>\n    </tr>\n    <tr>\n      <th>1996</th>\n      <td>Culex_usquatus</td>\n      <td>1</td>\n      <td>0</td>\n      <td>0</td>\n      <td>0</td>\n      <td>0</td>\n      <td>0</td>\n      <td>0</td>\n      <td>0</td>\n      <td>0</td>\n      <td>...</td>\n      <td>0</td>\n      <td>0</td>\n      <td>0</td>\n      <td>0</td>\n      <td>0</td>\n      <td>0</td>\n      <td>0</td>\n      <td>0</td>\n      <td>0</td>\n      <td>0</td>\n    </tr>\n  </tbody>\n</table>\n<p>1988 rows × 39 columns</p>\n</div>"
     },
     "execution_count": 120,
     "metadata": {},
     "output_type": "execute_result"
    }
   ],
   "source": [
    "# set index again\n",
    "df_unique.index = df_unique.index.map(genus_species_names)\n",
    "df_unique = df_unique.reset_index()\n",
    "df_unique = df_unique.rename(columns={'index':'Genus_Species'})\n",
    "\n",
    "# Drop those rows from the DataFrame\n",
    "df_unique = df_unique.drop(index=rows_to_drop)\n",
    "df_unique"
   ],
   "metadata": {
    "collapsed": false,
    "ExecuteTime": {
     "end_time": "2024-07-15T17:14:09.130317600Z",
     "start_time": "2024-07-15T17:14:09.099047700Z"
    }
   }
  },
  {
   "cell_type": "code",
   "execution_count": 121,
   "outputs": [
    {
     "name": "stdout",
     "output_type": "stream",
     "text": [
      "1988\n",
      "39\n",
      "['Genus_Species', 'AC', 'ATR', 'BAM', 'BP', 'COR', 'CRH', 'DRN', 'DTH', 'FH', 'FP', 'FPP', 'GP', 'GPB', 'GPT', 'HGW', 'IC', 'LA', 'LK', 'LGN', 'ML', 'MRB', 'MRH', 'PO', 'POM', 'RC', 'RD', 'RIVM', 'RP', 'RPB', 'SEP', 'SNW', 'SPG', 'STM', 'STMM', 'STMRM', 'STMT', 'SW', 'TH']\n",
      "1988\n",
      "[['Anopheles_farauti' 3 0 ... 0 1 0]\n",
      " ['Anopheles_punctulatus' 0 2 ... 0 0 0]\n",
      " ['Anopheles_koliensis' 0 1 ... 0 1 0]\n",
      " ...\n",
      " ['Culex_marksae' 0 0 ... 0 0 1]\n",
      " ['Aedes_formosensis' 0 0 ... 0 0 0]\n",
      " ['Culex_usquatus' 1 0 ... 0 0 0]]\n"
     ]
    }
   ],
   "source": [
    "# check to make sure all rows are unique\n",
    "# species ID nodes\n",
    "species_nodes_unique = list(df_unique.index)\n",
    "print(len(species_nodes_unique))\n",
    "# habitat nodes -- removes the 'Record_ID' column at the first position\n",
    "habitat_nodes_unique = list(df_unique.columns)\n",
    "print(len(habitat_nodes_unique))\n",
    "print(habitat_nodes_unique)\n",
    "# retrieves on the values from the matrix for looping through all values to make tuples out of column/row relationships\n",
    "val_matrix_unique = df_unique.values\n",
    "print(len(val_matrix_unique))\n",
    "print(val_matrix_unique)\n"
   ],
   "metadata": {
    "collapsed": false,
    "ExecuteTime": {
     "end_time": "2024-07-15T17:14:09.145906900Z",
     "start_time": "2024-07-15T17:14:09.130317600Z"
    }
   }
  },
  {
   "cell_type": "code",
   "execution_count": 122,
   "outputs": [
    {
     "name": "stdout",
     "output_type": "stream",
     "text": [
      "0 1997 1997\n",
      "{0, 1, 2, 3, 4, 5, 6, 7, 8, 9, 10, 11, 12, 13, 14, 15, 16, 17, 18, 19, 20, 21, 22, 23, 24, 25, 26, 27, 28, 29, 30, 31, 32, 33, 34, 35, 36, 37, 38, 39, 40, 41, 42, 43, 44, 45, 46, 47, 48, 49, 50, 51, 52, 53, 54, 55, 56, 57, 58, 59, 60, 61, 62, 63, 64, 65, 66, 67, 68, 69, 70, 71, 72, 73, 74, 75, 76, 77, 78, 79, 80, 81, 82, 83, 84, 85, 86, 87, 88, 89, 90, 91, 92, 93, 94, 95, 96, 97, 98, 99, 100, 101, 102, 103, 104, 105, 106, 107, 108, 109, 110, 111, 112, 113, 114, 115, 116, 117, 119, 120, 121, 122, 123, 124, 125, 126, 127, 128, 129, 130, 131, 132, 133, 134, 135, 136, 137, 138, 139, 140, 141, 142, 143, 144, 145, 146, 147, 148, 149, 150, 151, 152, 153, 154, 155, 156, 157, 158, 159, 160, 161, 162, 163, 164, 165, 166, 167, 168, 169, 170, 171, 172, 173, 174, 175, 176, 177, 178, 179, 180, 181, 182, 183, 184, 185, 186, 187, 188, 189, 190, 191, 192, 193, 194, 195, 196, 197, 198, 199, 200, 201, 202, 203, 204, 205, 206, 207, 208, 209, 210, 211, 212, 213, 214, 215, 216, 217, 218, 219, 220, 221, 222, 223, 224, 225, 226, 227, 228, 229, 230, 231, 232, 233, 234, 235, 236, 237, 238, 239, 240, 241, 242, 243, 244, 245, 246, 247, 248, 249, 250, 251, 252, 253, 254, 255, 256, 257, 258, 259, 260, 261, 262, 263, 264, 265, 266, 267, 268, 269, 270, 271, 272, 273, 274, 275, 276, 277, 278, 279, 280, 281, 282, 283, 284, 285, 286, 287, 288, 289, 290, 291, 292, 293, 294, 295, 296, 297, 298, 299, 300, 301, 302, 303, 304, 305, 306, 307, 308, 309, 310, 311, 312, 313, 314, 315, 316, 317, 318, 319, 320, 321, 322, 323, 324, 325, 326, 327, 328, 329, 330, 331, 332, 333, 334, 335, 336, 337, 338, 339, 340, 341, 342, 343, 344, 345, 346, 347, 348, 349, 350, 351, 352, 353, 354, 355, 356, 357, 358, 359, 360, 361, 362, 363, 364, 365, 366, 367, 368, 369, 370, 371, 372, 373, 374, 375, 376, 377, 378, 379, 380, 381, 382, 383, 384, 385, 386, 387, 388, 389, 390, 391, 392, 393, 394, 395, 396, 397, 398, 399, 400, 401, 402, 403, 404, 405, 406, 407, 408, 409, 410, 411, 412, 413, 414, 415, 416, 417, 418, 419, 420, 421, 422, 423, 424, 425, 426, 427, 428, 429, 430, 431, 432, 433, 434, 435, 436, 437, 438, 439, 440, 441, 442, 443, 444, 445, 446, 447, 448, 449, 450, 451, 452, 453, 454, 455, 456, 457, 458, 459, 460, 461, 462, 463, 464, 465, 466, 467, 468, 469, 470, 471, 472, 473, 474, 475, 476, 477, 478, 479, 480, 481, 482, 483, 484, 485, 486, 487, 488, 489, 490, 491, 492, 493, 494, 495, 496, 497, 498, 499, 500, 501, 502, 503, 504, 505, 506, 507, 508, 509, 510, 511, 512, 513, 514, 515, 516, 517, 518, 519, 520, 521, 522, 523, 524, 525, 526, 527, 528, 529, 530, 531, 532, 533, 534, 535, 536, 537, 538, 539, 540, 541, 542, 543, 544, 545, 546, 547, 548, 549, 550, 551, 552, 553, 554, 555, 556, 557, 558, 559, 560, 561, 562, 563, 564, 565, 566, 567, 568, 569, 570, 571, 572, 573, 574, 575, 576, 577, 578, 579, 580, 581, 582, 583, 584, 585, 586, 587, 588, 589, 590, 591, 592, 593, 594, 595, 596, 597, 598, 599, 600, 601, 602, 603, 604, 605, 606, 607, 608, 609, 610, 611, 612, 613, 614, 615, 616, 617, 618, 619, 620, 621, 622, 623, 624, 625, 626, 627, 628, 629, 630, 631, 632, 633, 634, 635, 636, 637, 638, 639, 640, 641, 642, 643, 644, 645, 646, 647, 648, 649, 650, 651, 652, 653, 654, 655, 656, 657, 658, 659, 660, 661, 662, 663, 664, 665, 666, 667, 668, 669, 670, 671, 672, 673, 674, 675, 676, 677, 678, 679, 680, 681, 682, 683, 684, 685, 686, 687, 688, 689, 690, 691, 692, 693, 694, 695, 696, 697, 698, 699, 700, 701, 702, 703, 704, 705, 706, 707, 708, 709, 710, 711, 712, 713, 714, 715, 716, 717, 718, 719, 720, 721, 722, 723, 724, 725, 726, 727, 728, 729, 730, 731, 732, 733, 734, 735, 736, 737, 738, 739, 740, 741, 742, 743, 744, 745, 746, 747, 748, 749, 750, 751, 752, 753, 754, 755, 756, 757, 758, 759, 760, 761, 762, 763, 764, 765, 766, 767, 768, 769, 770, 771, 772, 773, 774, 775, 776, 777, 778, 779, 780, 781, 782, 783, 784, 785, 786, 787, 788, 789, 790, 791, 792, 793, 794, 795, 796, 797, 798, 799, 800, 801, 802, 803, 804, 805, 806, 807, 808, 809, 810, 811, 812, 813, 814, 815, 816, 817, 818, 819, 820, 821, 822, 823, 824, 825, 826, 827, 828, 829, 830, 831, 832, 833, 834, 835, 836, 837, 838, 839, 840, 841, 842, 843, 844, 845, 846, 847, 848, 849, 850, 851, 852, 853, 854, 855, 856, 857, 858, 859, 860, 861, 862, 863, 864, 865, 866, 867, 868, 869, 870, 871, 872, 873, 874, 875, 876, 877, 878, 879, 880, 881, 882, 883, 884, 885, 886, 887, 888, 889, 890, 891, 892, 893, 894, 895, 896, 897, 898, 899, 900, 901, 902, 903, 904, 905, 906, 907, 908, 909, 910, 911, 912, 913, 914, 915, 916, 917, 918, 919, 920, 921, 922, 923, 924, 925, 926, 927, 928, 929, 930, 931, 932, 933, 934, 935, 936, 937, 938, 939, 940, 941, 942, 943, 944, 945, 946, 947, 948, 949, 950, 951, 952, 953, 954, 955, 956, 957, 958, 959, 960, 961, 962, 963, 964, 965, 966, 967, 968, 969, 970, 971, 972, 973, 974, 975, 976, 977, 978, 979, 980, 981, 982, 983, 984, 985, 986, 987, 988, 989, 990, 991, 992, 993, 994, 995, 996, 997, 998, 999, 1000, 1001, 1002, 1003, 1004, 1005, 1006, 1007, 1008, 1009, 1010, 1011, 1012, 1013, 1014, 1015, 1016, 1017, 1018, 1019, 1020, 1021, 1022, 1023, 1024, 1025, 1026, 1027, 1028, 1029, 1030, 1031, 1032, 1033, 1034, 1035, 1036, 1037, 1038, 1039, 1040, 1041, 1042, 1043, 1044, 1045, 1046, 1047, 1048, 1049, 1050, 1051, 1052, 1053, 1054, 1055, 1056, 1057, 1058, 1059, 1060, 1061, 1062, 1063, 1064, 1065, 1066, 1067, 1068, 1069, 1070, 1071, 1072, 1073, 1074, 1075, 1076, 1077, 1078, 1079, 1080, 1081, 1082, 1083, 1084, 1085, 1086, 1087, 1088, 1089, 1090, 1091, 1092, 1093, 1094, 1095, 1096, 1097, 1098, 1099, 1100, 1101, 1102, 1103, 1104, 1105, 1106, 1107, 1108, 1109, 1110, 1111, 1112, 1113, 1114, 1115, 1116, 1117, 1118, 1119, 1120, 1121, 1122, 1123, 1124, 1125, 1126, 1127, 1128, 1129, 1130, 1131, 1132, 1133, 1134, 1135, 1136, 1137, 1138, 1139, 1140, 1141, 1142, 1143, 1144, 1145, 1146, 1147, 1148, 1149, 1150, 1151, 1152, 1153, 1154, 1155, 1156, 1157, 1158, 1159, 1160, 1161, 1162, 1163, 1164, 1165, 1166, 1167, 1168, 1169, 1170, 1171, 1172, 1173, 1174, 1175, 1176, 1177, 1178, 1179, 1180, 1181, 1182, 1183, 1184, 1185, 1186, 1187, 1188, 1189, 1190, 1191, 1192, 1193, 1194, 1195, 1196, 1197, 1198, 1199, 1200, 1201, 1202, 1203, 1204, 1205, 1206, 1207, 1208, 1209, 1210, 1211, 1212, 1213, 1214, 1215, 1216, 1217, 1218, 1219, 1220, 1221, 1222, 1223, 1224, 1225, 1226, 1227, 1228, 1229, 1230, 1231, 1232, 1233, 1234, 1235, 1236, 1237, 1238, 1239, 1240, 1241, 1242, 1243, 1244, 1245, 1246, 1247, 1248, 1249, 1250, 1251, 1252, 1253, 1254, 1255, 1256, 1257, 1258, 1259, 1260, 1261, 1262, 1263, 1264, 1265, 1266, 1267, 1268, 1269, 1270, 1271, 1272, 1273, 1274, 1275, 1276, 1277, 1278, 1279, 1280, 1281, 1282, 1283, 1284, 1285, 1286, 1287, 1288, 1289, 1290, 1291, 1292, 1293, 1294, 1295, 1296, 1297, 1298, 1299, 1300, 1301, 1302, 1303, 1304, 1305, 1306, 1307, 1308, 1309, 1310, 1311, 1312, 1313, 1314, 1315, 1316, 1317, 1318, 1319, 1320, 1321, 1322, 1323, 1324, 1325, 1326, 1327, 1328, 1329, 1330, 1331, 1332, 1333, 1334, 1335, 1336, 1337, 1338, 1339, 1340, 1341, 1342, 1343, 1344, 1345, 1346, 1347, 1348, 1349, 1350, 1351, 1352, 1353, 1354, 1355, 1356, 1357, 1358, 1359, 1360, 1361, 1362, 1363, 1364, 1365, 1366, 1367, 1368, 1369, 1370, 1371, 1372, 1373, 1374, 1375, 1376, 1377, 1378, 1379, 1380, 1381, 1382, 1383, 1384, 1385, 1386, 1387, 1388, 1389, 1390, 1391, 1392, 1393, 1394, 1395, 1396, 1397, 1398, 1399, 1400, 1401, 1402, 1403, 1404, 1405, 1406, 1407, 1408, 1409, 1410, 1411, 1412, 1413, 1414, 1415, 1416, 1417, 1418, 1419, 1420, 1421, 1422, 1423, 1424, 1425, 1426, 1427, 1428, 1429, 1430, 1431, 1432, 1433, 1434, 1435, 1436, 1437, 1438, 1439, 1440, 1441, 1442, 1443, 1444, 1445, 1446, 1447, 1448, 1449, 1450, 1451, 1452, 1453, 1454, 1455, 1456, 1457, 1458, 1459, 1460, 1461, 1462, 1463, 1464, 1465, 1466, 1467, 1468, 1469, 1470, 1471, 1472, 1473, 1474, 1475, 1476, 1477, 1478, 1479, 1480, 1481, 1482, 1483, 1484, 1485, 1486, 1487, 1488, 1489, 1490, 1491, 1492, 1493, 1494, 1495, 1496, 1497, 1498, 1499, 1500, 1501, 1502, 1503, 1504, 1505, 1506, 1507, 1508, 1509, 1510, 1511, 1512, 1513, 1514, 1515, 1516, 1517, 1518, 1519, 1520, 1521, 1522, 1523, 1524, 1525, 1526, 1527, 1528, 1529, 1530, 1531, 1532, 1533, 1534, 1535, 1536, 1537, 1538, 1539, 1540, 1541, 1542, 1543, 1544, 1545, 1546, 1547, 1548, 1549, 1550, 1551, 1552, 1553, 1554, 1555, 1556, 1557, 1558, 1559, 1560, 1561, 1562, 1563, 1564, 1565, 1566, 1567, 1568, 1569, 1570, 1571, 1572, 1573, 1574, 1575, 1576, 1577, 1578, 1579, 1580, 1581, 1582, 1583, 1584, 1585, 1586, 1587, 1588, 1589, 1590, 1591, 1592, 1593, 1594, 1595, 1596, 1597, 1598, 1599, 1600, 1601, 1602, 1603, 1604, 1605, 1606, 1607, 1608, 1609, 1610, 1611, 1612, 1613, 1614, 1615, 1616, 1617, 1618, 1619, 1620, 1621, 1622, 1623, 1624, 1625, 1626, 1627, 1628, 1629, 1630, 1631, 1632, 1633, 1634, 1635, 1636, 1637, 1638, 1639, 1640, 1641, 1642, 1643, 1644, 1645, 1646, 1647, 1648, 1649, 1650, 1651, 1652, 1653, 1654, 1655, 1656, 1657, 1658, 1659, 1660, 1661, 1662, 1663, 1664, 1665, 1666, 1667, 1668, 1669, 1670, 1671, 1672, 1673, 1674, 1675, 1676, 1677, 1678, 1679, 1680, 1681, 1682, 1683, 1684, 1685, 1686, 1687, 1688, 1689, 1690, 1691, 1692, 1693, 1694, 1695, 1696, 1697, 1698, 1699, 1700, 1701, 1702, 1703, 1704, 1705, 1706, 1707, 1708, 1709, 1710, 1711, 1712, 1713, 1714, 1715, 1716, 1717, 1718, 1719, 1720, 1721, 1722, 1723, 1724, 1725, 1726, 1727, 1728, 1729, 1730, 1731, 1732, 1733, 1734, 1735, 1736, 1737, 1738, 1739, 1740, 1741, 1742, 1743, 1744, 1745, 1746, 1747, 1748, 1749, 1750, 1751, 1752, 1753, 1754, 1755, 1756, 1757, 1758, 1759, 1760, 1761, 1762, 1763, 1764, 1765, 1766, 1767, 1768, 1769, 1770, 1771, 1772, 1773, 1774, 1775, 1776, 1777, 1778, 1779, 1780, 1781, 1782, 1783, 1784, 1785, 1786, 1787, 1788, 1789, 1790, 1791, 1792, 1793, 1794, 1795, 1796, 1797, 1798, 1799, 1800, 1801, 1802, 1803, 1804, 1805, 1806, 1807, 1808, 1809, 1810, 1811, 1812, 1813, 1814, 1815, 1816, 1817, 1818, 1819, 1820, 1821, 1822, 1823, 1824, 1825, 1826, 1827, 1828, 1829, 1830, 1831, 1832, 1833, 1834, 1835, 1836, 1837, 1838, 1839, 1840, 1841, 1842, 1843, 1844, 1845, 1846, 1847, 1848, 1849, 1850, 1851, 1852, 1853, 1854, 1855, 1856, 1857, 1858, 1859, 1860, 1861, 1862, 1863, 1864, 1865, 1866, 1867, 1868, 1869, 1870, 1871, 1872, 1873, 1874, 1875, 1876, 1877, 1878, 1879, 1880, 1881, 1882, 1883, 1884, 1885, 1886, 1887, 1888, 1889, 1890, 1891, 1892, 1893, 1894, 1895, 1896, 1897, 1898, 1899, 1900, 1901, 1902, 1903, 1904, 1905, 1906, 1907, 1908, 1909, 1910, 1911, 1912, 1913, 1914, 1915, 1916, 1917, 1918, 1919, 1920, 1921, 1922, 1923, 1924, 1925, 1926, 1927, 1928, 1929, 1930, 1931, 1932, 1933, 1934, 1935, 1936, 1937, 1938, 1939, 1940, 1941, 1942, 1943, 1944, 1945, 1946, 1947, 1948, 1949, 1950, 1951, 1952, 1953, 1954, 1955, 1956, 1957, 1958, 1959, 1960, 1961, 1962, 1963, 1964, 1965, 1966, 1967, 1968, 1969, 1970, 1971, 1972, 1973, 1974, 1975, 1976, 1977, 1978, 1979, 1980, 1981, 1982, 1983, 1984, 1985, 1986, 1987, 1988, 1989, 1990, 1991, 1992, 1993, 1994, 1995, 1996, 1997}\n",
      "{'LMS', 'RIV', 'STMF', 'RIVT', 'PTH', 'VTR', 'CST', 'DAM', 'POA', 'Genus_Species', 'PLT', 'RIVRM', 'VEG', 'BRK', 'MAQ', 'TSTM', 'CEM', 'SHL', 'MR', 'VLC', 'SND', 'CV', 'LKM', 'MNR', 'GPA', 'RIVD', 'SOL', 'ALG', 'POT', 'SWG', 'PNT', 'BWP', 'LKA', 'CNL', 'LKB', 'SWB', 'GDN', 'STMD', 'FNG', 'PST', 'RIVF', 'BOG'}\n",
      "42\n"
     ]
    },
    {
     "name": "stderr",
     "output_type": "stream",
     "text": [
      "C:\\Users\\cbsit\\AppData\\Local\\Temp\\ipykernel_23560\\3401316548.py:2: FutureWarning: Dropping of nuisance columns in DataFrame reductions (with 'numeric_only=None') is deprecated; in a future version this will raise TypeError.  Select only valid columns before calling the reduction.\n",
      "  unique_indx = df_unique[df_unique.sum(axis=1) != 0].index.tolist()\n"
     ]
    }
   ],
   "source": [
    "# dropped species\n",
    "unique_indx = df_unique[df_unique.sum(axis=1) != 0].index.tolist()\n",
    "non_unique_indx = habitat_species_df[habitat_species_df.sum(axis=1) != 0].index.tolist()\n",
    "\n",
    "print(len(unique_indx), len(non_unique_indx), len(non_unique_indx) - len(unique_indx))\n",
    "print(set(unique_indx)^set(non_unique_indx))\n",
    "\n",
    "unique_habs = df_unique.columns.tolist()\n",
    "non_unique_habs = habitat_species_df.columns.tolist()\n",
    "print(set(unique_habs)^set(non_unique_habs))\n",
    "print(len(set(unique_habs)^set(non_unique_habs)))\n",
    "# export unique species df"
   ],
   "metadata": {
    "collapsed": false,
    "ExecuteTime": {
     "end_time": "2024-07-15T17:14:09.256711400Z",
     "start_time": "2024-07-15T17:14:09.161933700Z"
    }
   }
  },
  {
   "cell_type": "code",
   "execution_count": 123,
   "outputs": [],
   "source": [
    "# output uncleaned df to .csv\n",
    "habitat_species_relationship.to_csv('../data/cleaned_data/expert_habitat_species_matrix.csv', index=False)\n",
    "\n",
    "# export the cleaned df\n",
    "df_unique.to_csv('../data/cleaned_data/cleaned_unique_species_hab_matrix.csv', index=False)"
   ],
   "metadata": {
    "collapsed": false,
    "ExecuteTime": {
     "end_time": "2024-07-15T17:14:09.304387700Z",
     "start_time": "2024-07-15T17:14:09.213908600Z"
    }
   }
  }
 ],
 "metadata": {
  "kernelspec": {
   "display_name": "Python 3",
   "language": "python",
   "name": "python3"
  },
  "language_info": {
   "codemirror_mode": {
    "name": "ipython",
    "version": 2
   },
   "file_extension": ".py",
   "mimetype": "text/x-python",
   "name": "python",
   "nbconvert_exporter": "python",
   "pygments_lexer": "ipython2",
   "version": "2.7.6"
  }
 },
 "nbformat": 4,
 "nbformat_minor": 0
}
