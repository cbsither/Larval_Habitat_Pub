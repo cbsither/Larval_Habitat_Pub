{
 "cells": [
  {
   "cell_type": "code",
   "execution_count": 1,
   "metadata": {
    "collapsed": true,
    "ExecuteTime": {
     "end_time": "2024-07-11T15:17:16.626852Z",
     "start_time": "2024-07-11T15:17:15.899330500Z"
    }
   },
   "outputs": [],
   "source": [
    "import pandas as pd\n",
    "import numpy as np"
   ]
  },
  {
   "cell_type": "code",
   "execution_count": 2,
   "outputs": [],
   "source": [
    "# specify the input file name and output file name\n",
    "habitat_matrix = f'../data/raw_data/larval_habitat.csv'\n",
    "species_file = f'../data/raw_data/species_data.csv'\n",
    "habitat_classification_key = f'../data/raw_data/habitat_classification_key.csv'\n",
    "\n",
    "# reads in the input file as a .csv\n",
    "habitat_df = pd.read_csv(habitat_matrix)\n",
    "species_df = pd.read_csv(species_file)"
   ],
   "metadata": {
    "collapsed": false,
    "ExecuteTime": {
     "end_time": "2024-07-11T15:17:20.522140500Z",
     "start_time": "2024-07-11T15:17:20.470105900Z"
    }
   }
  },
  {
   "cell_type": "code",
   "execution_count": 3,
   "outputs": [],
   "source": [
    "# removes any hidden carriage returns and spaces\n",
    "def CarriageRemover( pandas_datafram ):\n",
    "    pandas_datafram = pandas_datafram.replace({r'\\r\\n': ''}, regex=True)\n",
    "    pandas_datafram = pandas_datafram.replace({r'\\s': ''}, regex=True)\n",
    "    pandas_datafram = pandas_datafram.replace({r'\\n': ''}, regex=True)\n",
    "    return pandas_datafram"
   ],
   "metadata": {
    "collapsed": false,
    "ExecuteTime": {
     "end_time": "2024-07-11T15:17:22.106807900Z",
     "start_time": "2024-07-11T15:17:22.085749200Z"
    }
   }
  },
  {
   "cell_type": "code",
   "execution_count": 4,
   "outputs": [],
   "source": [
    "habitat_df = CarriageRemover(habitat_df)\n",
    "species_df = CarriageRemover(species_df)"
   ],
   "metadata": {
    "collapsed": false,
    "ExecuteTime": {
     "end_time": "2024-07-11T15:17:24.120514800Z",
     "start_time": "2024-07-11T15:17:23.865521200Z"
    }
   }
  },
  {
   "cell_type": "code",
   "execution_count": 5,
   "outputs": [],
   "source": [
    "# merge both datasets\n",
    "habitat_species_df = pd.merge(species_df, habitat_df, left_on=['Record_ID'], right_on=['Record_ID'])"
   ],
   "metadata": {
    "collapsed": false,
    "ExecuteTime": {
     "end_time": "2024-07-11T15:17:26.821207400Z",
     "start_time": "2024-07-11T15:17:26.778756400Z"
    }
   }
  },
  {
   "cell_type": "code",
   "execution_count": 6,
   "outputs": [],
   "source": [
    "# remove columns without genus and species level data\n",
    "sp_col = ['Pub_ID', 'Subfamily', 'Tribe', 'Subspecies', '\"Form\"', 'Record_ID', 'Notes_x', 'Notes_y']\n",
    "habitat_species_df = habitat_species_df.drop(columns=sp_col)"
   ],
   "metadata": {
    "collapsed": false,
    "ExecuteTime": {
     "end_time": "2024-07-11T15:17:28.218998800Z",
     "start_time": "2024-07-11T15:17:28.190703Z"
    }
   }
  },
  {
   "cell_type": "code",
   "execution_count": 7,
   "outputs": [
    {
     "name": "stdout",
     "output_type": "stream",
     "text": [
      "          Genus            Subgenus      Species Presence-Absence  \\\n",
      "0     Anopheles              Cellia      farauti         Presence   \n",
      "1     Anopheles              Cellia  punctulatus         Presence   \n",
      "2     Anopheles              Cellia    koliensis         Presence   \n",
      "3     Anopheles              Cellia       lungae         Presence   \n",
      "4     Anopheles              Cellia     nataliae         Presence   \n",
      "...         ...                 ...          ...              ...   \n",
      "3541      Culex  SubgenusUncertain2      romeroi         Presence   \n",
      "3542   Mansonia            Mansonia     flaveola         Presence   \n",
      "3543      Aedes        Ochlerotatus     tortilis         Presence   \n",
      "3544      Aedes           Stegomyia      aegypti         Presence   \n",
      "3545      Culex               Culex   bahamensis         Presence   \n",
      "\n",
      "     Shaded (Shaded/Semishaded/Unshaded) Saltwater (Yes/No)  \\\n",
      "0                                    NaN                NaN   \n",
      "1                                    NaN                NaN   \n",
      "2                                    NaN                NaN   \n",
      "3                                    NaN                NaN   \n",
      "4                                    NaN                NaN   \n",
      "...                                  ...                ...   \n",
      "3541                                 NaN                NaN   \n",
      "3542                                 NaN                NaN   \n",
      "3543                                 NaN                NaN   \n",
      "3544                                 NaN                NaN   \n",
      "3545                                 NaN                NaN   \n",
      "\n",
      "                          Habitat_1              Habitat_2      Habitat_3  \\\n",
      "0                      rivermargins          streammargins        springs   \n",
      "1               valleyoflargestream                 rivers       roadruts   \n",
      "2                    temporarypools             Grasslands   edgeofjungle   \n",
      "3                denseshadeinjungle           seepageareas  streammargins   \n",
      "4                           springs           seepageareas    smallcreeks   \n",
      "...                             ...                    ...            ...   \n",
      "3541     semi-permanentgroundwaters  permanentgroundwaters            NaN   \n",
      "3542  pistiainpermanentgroundwaters                    NaN            NaN   \n",
      "3543             temporaryrainpools                    NaN            NaN   \n",
      "3544           artificialcontainers                    NaN            NaN   \n",
      "3545              pondsnearseashore                    NaN            NaN   \n",
      "\n",
      "                                    Habitat_4  ... Habitat_41 Habitat_42  \\\n",
      "0                                seepageareas  ...        NaN        NaN   \n",
      "1                              temporarypools  ...        NaN        NaN   \n",
      "2                                       tents  ...        NaN        NaN   \n",
      "3                                   rockholes  ...        NaN        NaN   \n",
      "4     denselyshadedcoralfoothillsofnorthcoast  ...        NaN        NaN   \n",
      "...                                       ...  ...        ...        ...   \n",
      "3541                                      NaN  ...        NaN        NaN   \n",
      "3542                                      NaN  ...        NaN        NaN   \n",
      "3543                                      NaN  ...        NaN        NaN   \n",
      "3544                                      NaN  ...        NaN        NaN   \n",
      "3545                                      NaN  ...        NaN        NaN   \n",
      "\n",
      "     Habitat_43 Habitat_44 Habitat_45 Habitat_46 Habitat_47 Habitat_48  \\\n",
      "0           NaN        NaN        NaN        NaN        NaN        NaN   \n",
      "1           NaN        NaN        NaN        NaN        NaN        NaN   \n",
      "2           NaN        NaN        NaN        NaN        NaN        NaN   \n",
      "3           NaN        NaN        NaN        NaN        NaN        NaN   \n",
      "4           NaN        NaN        NaN        NaN        NaN        NaN   \n",
      "...         ...        ...        ...        ...        ...        ...   \n",
      "3541        NaN        NaN        NaN        NaN        NaN        NaN   \n",
      "3542        NaN        NaN        NaN        NaN        NaN        NaN   \n",
      "3543        NaN        NaN        NaN        NaN        NaN        NaN   \n",
      "3544        NaN        NaN        NaN        NaN        NaN        NaN   \n",
      "3545        NaN        NaN        NaN        NaN        NaN        NaN   \n",
      "\n",
      "     Habitat_49 Habitat_50  \n",
      "0           NaN        NaN  \n",
      "1           NaN        NaN  \n",
      "2           NaN        NaN  \n",
      "3           NaN        NaN  \n",
      "4           NaN        NaN  \n",
      "...         ...        ...  \n",
      "3541        NaN        NaN  \n",
      "3542        NaN        NaN  \n",
      "3543        NaN        NaN  \n",
      "3544        NaN        NaN  \n",
      "3545        NaN        NaN  \n",
      "\n",
      "[3546 rows x 56 columns] Index(['Genus', 'Subgenus', 'Species', 'Presence-Absence',\n",
      "       'Shaded (Shaded/Semishaded/Unshaded)', 'Saltwater (Yes/No)',\n",
      "       'Habitat_1', 'Habitat_2', 'Habitat_3', 'Habitat_4', 'Habitat_5',\n",
      "       'Habitat_6', 'Habitat_7', 'Habitat_8', 'Habitat_9', 'Habitat_10',\n",
      "       'Habitat_11', 'Habitat_12', 'Habitat_13', 'Habitat_14', 'Habitat_15',\n",
      "       'Habitat_16', 'Habitat_17', 'Habitat_18', 'Habitat_19', 'Habitat_20',\n",
      "       'Habitat_21', 'Habitat_22', 'Habitat_23', 'Habitat_24', 'Habitat_25',\n",
      "       'Habitat_26', 'Habitat_27', 'Habitat_28', 'Habitat_29', 'Habitat_30',\n",
      "       'Habitat_31', 'Habitat_32', 'Habitat_33', 'Habitat_34', 'Habitat_35',\n",
      "       'Habitat_36', 'Habitat_37', 'Habitat_38', 'Habitat_39', 'Habitat_40',\n",
      "       'Habitat_41', 'Habitat_42', 'Habitat_43', 'Habitat_44', 'Habitat_45',\n",
      "       'Habitat_46', 'Habitat_47', 'Habitat_48', 'Habitat_49', 'Habitat_50'],\n",
      "      dtype='object')\n"
     ]
    }
   ],
   "source": [
    "# changes the NaN designation in the 'Subgenus' column to 'None'\n",
    "#subgenus_column = habitat_species_df['Subgenus'].where(pd.notnull(habitat_species_df['Subgenus']), 'None')\n",
    "habitat_species_df['Subgenus'] = habitat_species_df['Subgenus'].where(pd.notnull(habitat_species_df['Subgenus']), 'None')\n",
    "\n",
    "habitat_species_df = habitat_species_df[habitat_species_df['Species'] != 'sp.']\n",
    "habitat_species_df = habitat_species_df[habitat_species_df['Species'] != 'Sp.']\n",
    "\n",
    "habitat_species_df = habitat_species_df[habitat_species_df['Presence-Absence'] == 'Presence']\n",
    "\n",
    "habitat_species_df = habitat_species_df.reset_index(drop=True)\n",
    "\n",
    "print(habitat_species_df, habitat_species_df.columns)\n",
    "habitat_species_df['Genus_Species'] = habitat_species_df['Genus'] + '_' + habitat_species_df['Species']\n",
    "\n",
    "#habitat_species_df.to_csv('../data/intermediate_data/intermed_hab_sp.csv', index=False)"
   ],
   "metadata": {
    "collapsed": false,
    "ExecuteTime": {
     "end_time": "2024-07-11T15:17:29.878129Z",
     "start_time": "2024-07-11T15:17:29.846867300Z"
    }
   }
  },
  {
   "cell_type": "code",
   "execution_count": 8,
   "outputs": [],
   "source": [
    "# map habitat descriptions to abbreviation\n",
    "\n",
    "habitat_abbv = pd.read_csv(habitat_classification_key)\n",
    "habitat_abbv = CarriageRemover(habitat_abbv)\n",
    "habitat_abbv = habitat_abbv.dropna()\n",
    "\n",
    "habitat_columns = [f'Habitat_{a}' for a in range(1, 51)]\n",
    "\n",
    "for i in habitat_columns:\n",
    "    curr_hab = habitat_species_df[i].tolist()\n",
    "    hab_abbv = []\n",
    "    #print(curr_hab)\n",
    "    for j in curr_hab:\n",
    "        #print(habitat_abbv.loc[habitat_abbv['Unique_Habitat'] == j, 'Habitat_Classifier'].iloc[0])\n",
    "        try:\n",
    "            hab_abbv.append(habitat_abbv.loc[habitat_abbv['Unique_Habitat'] == j, 'Habitat_Classifier'].iloc[0])\n",
    "        except:\n",
    "            hab_abbv.append('None')\n",
    "\n",
    "    habitat_species_df[i] = hab_abbv\n",
    "\n",
    "habitat_species_df = habitat_species_df.dropna(axis=1, how='all')"
   ],
   "metadata": {
    "collapsed": false,
    "ExecuteTime": {
     "end_time": "2024-07-11T15:18:05.472790200Z",
     "start_time": "2024-07-11T15:17:42.732851900Z"
    }
   }
  },
  {
   "cell_type": "code",
   "execution_count": 9,
   "outputs": [
    {
     "name": "stdout",
     "output_type": "stream",
     "text": [
      "nan\n",
      "['Anopheles_farauti', 'Anopheles_punctulatus', 'Anopheles_koliensis', 'Anopheles_nataliae', 'Anopheles_solomonis', 'Uranotaenia_painei', 'Uranotaenia_wysockii', 'Uranotaenia_sexaueri', 'Uranotaenia_civinskii', 'Uranotaenia_lateralis', 'Uranotaenia_solomonis', 'Culex_pervigilans', 'Culex_pacificus', 'Culex_iyengari', 'Culex_australicus', 'Culex_atriceps', 'Culex_kesseli', 'Culex_roseni', 'Culex_omani', 'Anopheles_atropos', 'Anopheles_barberi', 'Anopheles_crucians', 'Anopheles_earlei', 'Anopheles_freeborni', 'Anopheles_georgianus', 'Anopheles_occidentalis', 'Anopheles_franciscanus', 'Anopheles_punctipennis', 'Anopheles_walkeri', 'Toxorhynchites_rutilus', 'Wyeomyia_mitchellii', 'Wyeomyia_smithii', 'Wyeomyia_vanduzeei', 'Uranotaenia_anhydor', 'Uranotaenia_lowii', 'Uranotaenia_sapphirina', 'Culiseta_alaskaensis', 'Culiseta_impatiens', 'Culiseta_incidens', 'Culiseta_inornata', 'Culiseta_particeps', 'Culiseta_morsitans', 'Culiseta_melanura', 'Orthopodomyia_alba', 'Orthopodomyia_signifera', 'Mansonia_dyari', 'Mansonia_titillans', 'Coquillettidia_perturbans', 'Psorophora_ciliata', 'Psorophora_howardii', 'Psorophora_cyanescens', 'Psorophora_ferox', 'Posorphora_horrida', 'Psorophora_johnstonii', 'Psorophora_longipalpis', 'Psorophora_varipes', 'Psorophora_columbiae', 'Psorophora_discolor', 'Psorophora_pygmaea', 'Psorophora_signipennis', 'Aedes_aboriginis', 'Aedes_abserratus', 'Aedes_atlanticus', 'Aedes_aurifer', 'Aedes_bicristatus', 'Aedes_bimaculatus', 'Aedes_campestris', 'Aedes_canadensis', 'Aedes_cantator', 'Aedes_cataphylla', 'Aedes_communis', 'Aedes_decticus', 'Aedes_diantaeus', 'Aedes_dorsalis', 'Aedes_dupreei', 'Aedes_excrucians', 'Aedes_aegypti', 'Anopheles_albimanus', 'Anopheles_vestitipennis', 'Anopheles_grabhamii', 'Uranotaenia_socialis', 'Uranotaenia_cooki', 'Deinocerites_cancer', 'Culex_bahamensis', 'Culex_corniger', 'Culex_chidesteri', 'Culex_janitor', 'Culex_quinquefasciatus', 'Culex_atratus', 'Culex_erraticus', 'Culex_inhibitator', 'Culex_pilosus', 'Culex_arawak', 'Mansonia_flaveola', 'Orthopodomyia_waverleyi', 'Psorophora_infinis', 'Psorophora_jamaicensis', 'Psorophora_insularia', 'Aedes_pertinax', 'Aedes_hemisurus', 'Aedes_tortilis', 'Aedes_auratus', 'Aedes_calumnior', 'Aedes_mediovittatus', 'Aedes_walkeri', 'Aedes_aurites', 'Aedes_grabhami', 'Aedes_inaequalis', 'Aedes_stenei', 'Haemagogus_equinus', 'Wyeomyia_nigritubus', 'Wyeomyia_luna', 'Wyeomyia_stellata', 'Wyeomyia_corona', 'Wyeomyia_juxtahirsuta', 'Wyeomyia_hirsuta', 'Wyeomyia_atrata', 'Toxorhynchites_portoricensis', nan, 'Culex_rotoruae', 'Culex_asteliae', 'Culiseta_tonnoiri', 'Coquillettidia_tenuipalpis', 'Coquillettidia_iracunda', 'Aedes_zoosophus', 'Opifex_fuscus', 'Opifex_chathamicus', 'Aedes_australis', 'Aedes_antipodeus', 'Aedes_subalbirostris', 'Aedes_notoscriptus', 'Maorigoeldia_argyropus', 'Culex_albinervis', 'Culex_squamosus', 'Culex_bitaeniorhynchus', 'Culex_starckeae', 'Lutzia_halifaxii', 'Aedes_hendersoni', 'Aedes_brelandi', 'Aedes_triseriatus', 'Aedes_burgeri', 'Aedes_kompi', 'Aedes_schicki', 'Aedes_chionotum', 'Aedes_niveoscutum', 'Aedes_sandrae', 'Aedes_knabi', 'Aedes_purpureipes', 'Haemagogus_anastasionis', 'Haemagogus_chrysochlorus', 'Haemagogus_spegazzinii', 'Haemagogus_andinus', 'Haemagogus_nebulosus', 'Haemagogus_janthinomys', 'Haemagogus_capricornii', 'Haemagogus_mesodentatus', 'Haemagogus_albomaculatus', 'Haemagogus_panarchys', 'Haemagogus_soperi', 'Haemagogus_acutisentis', 'Haemagogus_tropicalis', 'Haemagogus_splendens', 'Haemagogus_celeste', 'Haemagogus_iridicolor', 'Haemagogus_aeritinctus', 'Haemagogus_regalis', 'Haemagogus_lucifer', 'Haemagogus_argyromeris', 'Haemagogus_chalcospilans', 'Haemagogus_boshelli', 'Orthopodomyia_pulcripalpis', 'Orthopodomyia_kummi', 'Orthopodomyia_albicosta', 'Orthopodomyia_fascipes', 'Orthopodomyia_sampaioi', 'Orthopodomyia_phyllozoa', 'Orthopodomyia_vernoni', 'Orthopodomyia_milloti', 'Orthopodomyia_arboricollis', 'Orthopodomyia_flavicosta', 'Orthopodomyia_flavithorax', 'Orthopodomyia_madrensis', 'Orthopodomyia_siamensis', 'Orthopodomyia_wilsoni', 'Orthopodomyia_albipes', 'Orthopodomyia_papuensis', 'Orthopodomyia_andamanensis', 'Orthopodomyia_anopheloides', 'Aedes_papago', 'Aedes_ramirezi', 'Haemagogus_leucotaeniatus', 'Haemagogus_leucocelaenus', 'Haemagogus_clarki', 'Aedes_flavescens', 'Aedes_grossbecki', 'Aedes_hexodontus', 'Aedes_idahoensis', 'Aedes_impiger', 'Aedes_implicatus', 'Aedes_increpitus', 'Aedes_infirmatus', 'Aedes_intrudens', 'Aedes_melanimon', 'Aedes_mitchellae', 'Aedes_nigripes', 'Aedes_nigromaculis', 'Aedes_niphadopsis', 'Aedes_pionips', 'Aedes_pullatus', 'Aedes_punctodes', 'Aedes_punctor', 'Aedes_rempeli', 'Aedes_riparius', 'Aedes_scapularis', 'Aedes_schizopinax', 'Aedes_sollicitans', 'Aedes_spencerii', 'Aedes_squamiger', 'Aedes_sticticus', 'Aedes_stimulans', 'Aedes_taeniorhynchus', 'Aedes_thelcter', 'Aedes_thibaulti', 'Aedes_tormentor', 'Aedes_provocans', 'Aedes_trivittatus', 'Aedes_ventrovittis', 'Aedes_atropalpus', 'Aedes_varipalpus', 'Aedes_vexans', 'Aedes_cinereus', 'Culex_coronator', 'Culex_erythrothorax', 'Culex_interrogator', 'Culex_nigripalpus', 'Culex_pipiens', 'Culex_restuans', 'Culex_salinarius', 'Culex_stigmatosoma', 'Culex_tarsalis', 'Culex_thriambus', 'Culex_virgultus', 'Culex_abominator', 'Culex_anips', 'Culex_iolambdis', 'Culex_mulrennani', 'Culex_taeniopus', 'Culex_peccator', 'Culex_apicalis', 'Culex_arizonensis', 'Culex_boharti', 'Culex_reevesi', 'Deinocerites_spanius', 'Anopheles_minimus', 'Anopheles_bengalensis', 'Anopheles_omorii', 'Anopheles_lindesayi', 'Anopheles_koreicus', 'Anopheles_saperoi', 'Anopheles_sinensis', 'Anopheles_engarensis', 'Anopheles_pullus', 'Anopheles_sineroides', 'Anopheles_lesteri', 'Mimomyia_luzonensis', 'Mimomyia_elegans', 'Culiseta_nipponica', 'Culiseta_bergrothi', 'Mansonia_uniformis', 'Coquillettidia_ochracea', 'Culex_fuscocephala', 'Culex_vagans', 'Culex_tritaeniorhynchus', 'Culex_pseudovishnui', 'Culex_sitiens', 'Culex_whitmorei', 'Culex_jacksoni', 'Culex_mimeticus', 'Culex_orientalis', 'Culex_boninensis', 'Culex_sinensis', 'Culex_rubensis', 'Culex_hayashii', 'Culex_okinawae', 'Culex_brevipalpis', 'Culex_infantulus', 'Culex_cinctellus', 'Culex_rubithoracis', 'Culex_bicornutus', 'Culex_tuberis', 'Culex_ryukyensis', 'Culex_nigropunctatus', 'Culex_pallidothorax', 'Culex_sasai', 'Culex_inatomii', 'Lutzia_fuscana', 'Lutzia_shinonagai', 'Anopheles_judithae', 'Heizmannia_lii', 'Anopheles_fausti', 'Aedes_vigilax', 'Anopheles_arboricola', 'Anopheles_xelajuensis', 'Anopheles_powderi', 'Aedes_muelleri', 'Aedes_fluviatilis', 'Aedes_hokkaidensis', 'Aedes_epactius', 'Aedes_japonicus', 'Aedes_hatorii', 'Aedes_togoi', 'Aedes_savoryi', 'Aedes_seoulensis', 'Aedes_albocinctus', 'Culex_belkini', 'Culex_perkinsi', 'Culex_papuensis', 'Culex_fragilis', 'Culex_pullus', 'Culex_femineus', 'Culex_cheesmanae', 'Culex_millironi', 'Culex_gaufini', 'Culex_leonardi', 'Culex_dumbletoni', 'Culex_atracus', 'Culex_lairdi', 'Culex_bergi', 'Culex_oweni', 'Culex_winkleri', 'Culex_laffooni', 'Culex_walukasi', 'Aedes_alektorovi', 'Aedes_aureostriatus', 'Aedes_okinawanus', 'Aedes_taiwanus', 'Aedes_koreicoides', 'Culex_becki', 'Culex_hurlbuti', 'Culex_perryi', 'Aedeomyia_catasticta', 'Hodgesia_solomonis', 'Mimomyia_solomonis', 'Mimomyia_bougainvillensis', 'Mimomyia_gurneyi', 'Aedes_nipponicus', 'Aedes_nishikawai', 'Aedes_oreophilus', 'Aedes_watasei', 'Aedes_riversi', 'Aedes_galloisi', 'Aedes_albopictus', 'Aedes_flavopictus', 'Aedes_wadai', 'Aedes_chemulpoensis', 'Aedes_alboscutellatus', 'Aedes_baisasi', 'Aedes_lineatopennis', 'Aedes_imprimens', 'Aedes_esoensis', 'Aedes_yamadai', 'Aedes_sasai', 'Verrallina_nobukonis', 'Verrallina_atriisimilis', 'Armigeres_subalbatus', 'Uranotaenia_jacksoni', 'Uranotaenia_ohamai', 'Uranotaenia_yaeyamana', 'Uranotaenia_novobscura', 'Uranotaenia_ryukyuana', 'Uranotaenia_nivipleura', 'Uranotaenia_annandalei', 'Uranotaenia_macfarlanei', 'Tripteroides_bambusa', 'Topomyia_yanbarensis', 'Malaya_genurostris', 'Toxorhynchites_manicatus', 'Toxorhynchites_towadensis', 'Toxorhynchites_christophi', 'Coquillettdia_fijiensis', 'Coquillettidia_lutea', 'Coquillettidia_xanthogaster', 'Mansonia_melanesiensis', 'Culex_spissipes', 'Culex_cedecei', 'Culex_ikelos', 'Culex_adamesi', 'Culex_crybda', 'Aedes_fulvithorax', 'Aedes_septemstriata', 'Aedes_arborealis', 'Aedes_argyrites', 'Aedes_ioliota', 'Aedes_cozumelensis', 'Aedes_albonotatus', 'Aedes_bahamensis', 'Aedes_busckii', 'Aedes_quadrivittatus', 'Aedes_lorraineae', 'Aedes_brevis', 'Aedes_spinosus', 'Aedes_sexlineatus', 'Aedes_whitmorei', 'Aedes_pseudodominicii', 'Aedes_allotecnon', 'Aedes_guerrero', 'Aedes_guatemala', 'Aedes_eleanorae', 'Aedes_marinkellei', 'Aedes_leei', 'Aedes_osornoi', 'Aedes_ecuadoriensis', 'Aedes_brevivittatus', 'Aedes_aurivittatus', 'Aedes_martinezi', 'Aedes_vanemdeni', 'Aedes_incomptus', 'Aedes_bogotanus', 'Aedes_deficiens', 'Aedes_atactavittatus', 'Aedes_angustivittatus', 'Aedes_euplocamus', 'Aedes_patersoni', 'Aedes_raymondi', 'Aedes_phaeonotus', 'Aedes_crinifer', 'Aedes_obturbator', 'Aedes_pectinatus']\n"
     ]
    }
   ],
   "source": [
    "# make relationship matrix\n",
    "\n",
    "unique_hab_list = habitat_abbv.Habitat_Classifier.unique().tolist()\n",
    "habitat_species_relationship = pd.DataFrame(columns=['Genus_Species'] + unique_hab_list)\n",
    "#print(habitat_species_relationship)\n",
    "total_habitat_types = len(unique_hab_list)\n",
    "\n",
    "species_list = []\n",
    "\n",
    "for i, j in enumerate(habitat_columns):\n",
    "    curr_hab = habitat_species_df[j].tolist()\n",
    "\n",
    "    for g, c in enumerate(curr_hab):\n",
    "\n",
    "        if c == 'None':\n",
    "            pass\n",
    "        else:\n",
    "            prop_spp = habitat_species_df.loc[g, 'Genus_Species']\n",
    "\n",
    "            if prop_spp not in species_list:\n",
    "                habs = [0] * total_habitat_types\n",
    "\n",
    "                habs[unique_hab_list.index(c)] = 1\n",
    "\n",
    "                habs.insert(0, prop_spp)\n",
    "\n",
    "                new_row = pd.Series({key: value for key, value in zip(habitat_species_relationship.columns, habs)})\n",
    "                habitat_species_relationship = pd.concat([habitat_species_relationship, new_row.to_frame().T], ignore_index=True)\n",
    "                species_list.append(prop_spp)\n",
    "\n",
    "            else:\n",
    "                try:\n",
    "                    indx = habitat_species_relationship.loc[habitat_species_relationship['Genus_Species'] == prop_spp].index[0]\n",
    "                    #print(indx)\n",
    "                    habitat_species_relationship.loc[indx, c] += 1\n",
    "                except:\n",
    "                    print(prop_spp)\n",
    "                    print(habitat_species_relationship['Genus_Species'].tolist())\n"
   ],
   "metadata": {
    "collapsed": false,
    "ExecuteTime": {
     "end_time": "2024-07-11T15:18:13.404614400Z",
     "start_time": "2024-07-11T15:18:08.809265100Z"
    }
   }
  },
  {
   "cell_type": "code",
   "execution_count": 10,
   "outputs": [
    {
     "name": "stdout",
     "output_type": "stream",
     "text": [
      "                   Genus_Species AC ALG ATR BAM BOG BP BRK BWP CEM  ... SWB  \\\n",
      "0              Anopheles_farauti  3   0   0   0   0  0   0   1   0  ...   0   \n",
      "1          Anopheles_punctulatus  0   0   2   0   0  0   0   0   0  ...   0   \n",
      "2            Anopheles_koliensis  0   0   1   0   0  0   0   0   0  ...   0   \n",
      "3             Anopheles_nataliae  0   0   0   0   0  0   0   0   0  ...   0   \n",
      "4            Anopheles_solomonis  0   0   0   0   0  0   1   0   0  ...   0   \n",
      "...                          ... ..  ..  ..  ..  .. ..  ..  ..  ..  ...  ..   \n",
      "1994  Trichoprosopon_vonplesseni  0   0   0   1   0  0   0   0   0  ...   0   \n",
      "1995    Shannoniana_schedocyclia  0   0   0   1   0  0   0   0   0  ...   0   \n",
      "1996               Culex_marksae  0   0   0   0   0  0   0   0   0  ...   0   \n",
      "1997           Aedes_formosensis  0   0   0   1   0  0   0   0   0  ...   0   \n",
      "1998              Culex_usquatus  1   0   0   0   0  0   0   0   0  ...   0   \n",
      "\n",
      "     SWG TH TSTM VEG VLC VTR SUM UNIQUE_SUM PROPORTION  \n",
      "0      0  0    0   0   0   0  25         16   0.202532  \n",
      "1      0  0    0   0   0   1  17         10   0.126582  \n",
      "2      0  0    0   0   0   1  10          9   0.113924  \n",
      "3      0  0    0   0   0   0  10          5   0.063291  \n",
      "4      0  0    0   0   0   0  17         11   0.139241  \n",
      "...   .. ..  ...  ..  ..  ..  ..        ...        ...  \n",
      "1994   0  0    0   0   0   0   1          1   0.012658  \n",
      "1995   0  0    0   0   0   0   1          1   0.012658  \n",
      "1996   0  1    0   0   0   0   2          2   0.025316  \n",
      "1997   0  0    0   0   0   0   1          1   0.012658  \n",
      "1998   0  0    0   0   0   0   1          1   0.012658  \n",
      "\n",
      "[1998 rows x 83 columns]\n"
     ]
    }
   ],
   "source": [
    "# calculate some summary stats\n",
    "habitat_species_relationship['SUM'] = np.sum(habitat_species_relationship.drop(columns=['Genus_Species']).values, axis=1)\n",
    "habitat_species_relationship['UNIQUE_SUM'] = np.count_nonzero(habitat_species_relationship.drop(columns=['Genus_Species', 'SUM']).values, axis=1)\n",
    "habitat_species_relationship['PROPORTION'] = habitat_species_relationship['UNIQUE_SUM'] / total_habitat_types\n",
    "\n",
    "habitat_species_relationship = habitat_species_relationship.dropna()\n",
    "print(habitat_species_relationship)"
   ],
   "metadata": {
    "collapsed": false,
    "ExecuteTime": {
     "end_time": "2024-07-11T15:18:23.815749200Z",
     "start_time": "2024-07-11T15:18:23.751295200Z"
    }
   }
  },
  {
   "cell_type": "code",
   "execution_count": 12,
   "outputs": [],
   "source": [
    "# output to .csv\n",
    "habitat_species_relationship.to_csv('../data/cleaned_data/expert_habitat_species_matrix.csv', index=False)"
   ],
   "metadata": {
    "collapsed": false,
    "ExecuteTime": {
     "end_time": "2024-07-11T15:20:08.217136200Z",
     "start_time": "2024-07-11T15:20:08.161408700Z"
    }
   }
  }
 ],
 "metadata": {
  "kernelspec": {
   "display_name": "Python 3",
   "language": "python",
   "name": "python3"
  },
  "language_info": {
   "codemirror_mode": {
    "name": "ipython",
    "version": 2
   },
   "file_extension": ".py",
   "mimetype": "text/x-python",
   "name": "python",
   "nbconvert_exporter": "python",
   "pygments_lexer": "ipython2",
   "version": "2.7.6"
  }
 },
 "nbformat": 4,
 "nbformat_minor": 0
}
